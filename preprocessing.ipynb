{
 "cells": [
  {
   "cell_type": "markdown",
   "id": "7d0d7147",
   "metadata": {},
   "source": [
    "<h1>Préprocessing</h1>\n",
    "\n",
    "<h3>Lecture du dataset</h3>\n",
    "\n",
    "Dans un premier temps, nous ouvrons simplement le fichier 'welddb.data', et nous nommons les colonnes selon le fichier .info"
   ]
  },
  {
   "cell_type": "code",
   "execution_count": 1,
   "id": "9c7e6da2",
   "metadata": {},
   "outputs": [],
   "source": [
    "import pandas as pd\n",
    "\n",
    "df = pd.read_csv(\"./welddb/welddb.data\", \n",
    "                 sep=r\"\\s+\",      \n",
    "                 header=None,    \n",
    "                 na_values=\"N\")  \n",
    "\n",
    "columns = [\n",
    "    \"C\", \"Si\", \"Mn\", \"S\", \"P\", \"Ni\", \"Cr\", \"Mo\", \"V\", \"Cu\", \"Co\", \"W\",\n",
    "    \"O\", \"Ti\", \"N\", \"Al\", \"B\", \"Nb\", \"Sn\", \"As\", \"Sb\",\n",
    "    \"Current\", \"Voltage\", \"AC_DC\", \"Polarity\", \"Heat_input\", \"Interpass_temp\",\n",
    "    \"Weld_type\", \"PWHT_temp\", \"PWHT_time\",\n",
    "    \"Yield_strength\", \"UTS\", \"Elongation\", \"RA\",\n",
    "    \"Charpy_temp\", \"Charpy_toughness\", \"Hardness\",\n",
    "    \"FATT50\", \"Primary_ferrite\", \"Ferrite_2nd_phase\",\n",
    "    \"Acicular_ferrite\", \"Martensite\", \"Ferrite_carbide\",\n",
    "    \"Weld_ID\"\n",
    "]\n",
    "\n",
    "df.columns = columns"
   ]
  },
  {
   "cell_type": "markdown",
   "id": "cd0b022d",
   "metadata": {},
   "source": [
    "Nous nous intéressons ensuite à la structure de la base de données, nous utlisons donc les méthodes fournies par pandas pour analyser les différentes colonnes, ainsi que déterminer lesquelles ont le plus de valeurs non renseignées."
   ]
  },
  {
   "cell_type": "code",
   "execution_count": 2,
   "id": "9dcd65d8",
   "metadata": {},
   "outputs": [
    {
     "data": {
      "text/html": [
       "<div>\n",
       "<style scoped>\n",
       "    .dataframe tbody tr th:only-of-type {\n",
       "        vertical-align: middle;\n",
       "    }\n",
       "\n",
       "    .dataframe tbody tr th {\n",
       "        vertical-align: top;\n",
       "    }\n",
       "\n",
       "    .dataframe thead th {\n",
       "        text-align: right;\n",
       "    }\n",
       "</style>\n",
       "<table border=\"1\" class=\"dataframe\">\n",
       "  <thead>\n",
       "    <tr style=\"text-align: right;\">\n",
       "      <th></th>\n",
       "      <th>C</th>\n",
       "      <th>Si</th>\n",
       "      <th>Mn</th>\n",
       "      <th>P</th>\n",
       "      <th>Ni</th>\n",
       "      <th>Cr</th>\n",
       "      <th>O</th>\n",
       "      <th>Current</th>\n",
       "      <th>Voltage</th>\n",
       "      <th>Heat_input</th>\n",
       "      <th>...</th>\n",
       "      <th>UTS</th>\n",
       "      <th>Elongation</th>\n",
       "      <th>RA</th>\n",
       "      <th>Charpy_temp</th>\n",
       "      <th>Charpy_toughness</th>\n",
       "      <th>FATT50</th>\n",
       "      <th>Ferrite_2nd_phase</th>\n",
       "      <th>Acicular_ferrite</th>\n",
       "      <th>Martensite</th>\n",
       "      <th>Ferrite_carbide</th>\n",
       "    </tr>\n",
       "  </thead>\n",
       "  <tbody>\n",
       "    <tr>\n",
       "      <th>count</th>\n",
       "      <td>1652.000000</td>\n",
       "      <td>1652.000000</td>\n",
       "      <td>1652.000000</td>\n",
       "      <td>1642.000000</td>\n",
       "      <td>697.000000</td>\n",
       "      <td>784.000000</td>\n",
       "      <td>1256.000000</td>\n",
       "      <td>1404.000000</td>\n",
       "      <td>1404.000000</td>\n",
       "      <td>1652.000000</td>\n",
       "      <td>...</td>\n",
       "      <td>738.000000</td>\n",
       "      <td>700.000000</td>\n",
       "      <td>705.000000</td>\n",
       "      <td>879.000000</td>\n",
       "      <td>879.00000</td>\n",
       "      <td>31.000000</td>\n",
       "      <td>90.000000</td>\n",
       "      <td>90.000000</td>\n",
       "      <td>89.000000</td>\n",
       "      <td>89.000000</td>\n",
       "    </tr>\n",
       "    <tr>\n",
       "      <th>mean</th>\n",
       "      <td>0.075521</td>\n",
       "      <td>0.328577</td>\n",
       "      <td>1.202821</td>\n",
       "      <td>0.012952</td>\n",
       "      <td>0.415034</td>\n",
       "      <td>2.101273</td>\n",
       "      <td>441.967357</td>\n",
       "      <td>283.843661</td>\n",
       "      <td>27.607379</td>\n",
       "      <td>1.700987</td>\n",
       "      <td>...</td>\n",
       "      <td>594.386314</td>\n",
       "      <td>26.275714</td>\n",
       "      <td>71.799858</td>\n",
       "      <td>-34.606371</td>\n",
       "      <td>87.68942</td>\n",
       "      <td>-31.096774</td>\n",
       "      <td>25.955556</td>\n",
       "      <td>52.833333</td>\n",
       "      <td>0.337079</td>\n",
       "      <td>0.438202</td>\n",
       "    </tr>\n",
       "    <tr>\n",
       "      <th>std</th>\n",
       "      <td>0.023898</td>\n",
       "      <td>0.112455</td>\n",
       "      <td>0.382137</td>\n",
       "      <td>0.019627</td>\n",
       "      <td>0.786951</td>\n",
       "      <td>3.026548</td>\n",
       "      <td>147.483825</td>\n",
       "      <td>192.560955</td>\n",
       "      <td>12.555629</td>\n",
       "      <td>1.298465</td>\n",
       "      <td>...</td>\n",
       "      <td>88.636238</td>\n",
       "      <td>4.895986</td>\n",
       "      <td>8.926551</td>\n",
       "      <td>34.738624</td>\n",
       "      <td>50.11670</td>\n",
       "      <td>43.644285</td>\n",
       "      <td>21.283486</td>\n",
       "      <td>23.483798</td>\n",
       "      <td>3.179994</td>\n",
       "      <td>1.397685</td>\n",
       "    </tr>\n",
       "    <tr>\n",
       "      <th>min</th>\n",
       "      <td>0.029000</td>\n",
       "      <td>0.040000</td>\n",
       "      <td>0.270000</td>\n",
       "      <td>0.002000</td>\n",
       "      <td>0.000000</td>\n",
       "      <td>0.000000</td>\n",
       "      <td>132.000000</td>\n",
       "      <td>115.000000</td>\n",
       "      <td>11.500000</td>\n",
       "      <td>0.600000</td>\n",
       "      <td>...</td>\n",
       "      <td>447.000000</td>\n",
       "      <td>10.600000</td>\n",
       "      <td>17.000000</td>\n",
       "      <td>-114.000000</td>\n",
       "      <td>3.00000</td>\n",
       "      <td>-126.000000</td>\n",
       "      <td>3.000000</td>\n",
       "      <td>0.000000</td>\n",
       "      <td>0.000000</td>\n",
       "      <td>0.000000</td>\n",
       "    </tr>\n",
       "    <tr>\n",
       "      <th>25%</th>\n",
       "      <td>0.061750</td>\n",
       "      <td>0.270000</td>\n",
       "      <td>0.940000</td>\n",
       "      <td>0.007000</td>\n",
       "      <td>0.000000</td>\n",
       "      <td>0.000000</td>\n",
       "      <td>370.000000</td>\n",
       "      <td>170.000000</td>\n",
       "      <td>21.000000</td>\n",
       "      <td>1.000000</td>\n",
       "      <td>...</td>\n",
       "      <td>532.775000</td>\n",
       "      <td>22.800000</td>\n",
       "      <td>68.000000</td>\n",
       "      <td>-60.000000</td>\n",
       "      <td>38.00000</td>\n",
       "      <td>-62.000000</td>\n",
       "      <td>9.000000</td>\n",
       "      <td>35.500000</td>\n",
       "      <td>0.000000</td>\n",
       "      <td>0.000000</td>\n",
       "    </tr>\n",
       "    <tr>\n",
       "      <th>50%</th>\n",
       "      <td>0.074000</td>\n",
       "      <td>0.320000</td>\n",
       "      <td>1.270000</td>\n",
       "      <td>0.010000</td>\n",
       "      <td>0.067000</td>\n",
       "      <td>0.530000</td>\n",
       "      <td>423.000000</td>\n",
       "      <td>170.000000</td>\n",
       "      <td>21.000000</td>\n",
       "      <td>1.000000</td>\n",
       "      <td>...</td>\n",
       "      <td>575.500000</td>\n",
       "      <td>26.800000</td>\n",
       "      <td>75.000000</td>\n",
       "      <td>-40.000000</td>\n",
       "      <td>100.00000</td>\n",
       "      <td>-15.000000</td>\n",
       "      <td>18.000000</td>\n",
       "      <td>60.000000</td>\n",
       "      <td>0.000000</td>\n",
       "      <td>0.000000</td>\n",
       "    </tr>\n",
       "    <tr>\n",
       "      <th>75%</th>\n",
       "      <td>0.086000</td>\n",
       "      <td>0.360000</td>\n",
       "      <td>1.440000</td>\n",
       "      <td>0.014000</td>\n",
       "      <td>0.260000</td>\n",
       "      <td>2.300000</td>\n",
       "      <td>471.000000</td>\n",
       "      <td>300.000000</td>\n",
       "      <td>30.000000</td>\n",
       "      <td>2.000000</td>\n",
       "      <td>...</td>\n",
       "      <td>647.000000</td>\n",
       "      <td>30.000000</td>\n",
       "      <td>78.000000</td>\n",
       "      <td>-17.500000</td>\n",
       "      <td>100.00000</td>\n",
       "      <td>5.000000</td>\n",
       "      <td>38.000000</td>\n",
       "      <td>71.750000</td>\n",
       "      <td>0.000000</td>\n",
       "      <td>0.000000</td>\n",
       "    </tr>\n",
       "    <tr>\n",
       "      <th>max</th>\n",
       "      <td>0.180000</td>\n",
       "      <td>1.140000</td>\n",
       "      <td>2.250000</td>\n",
       "      <td>0.250000</td>\n",
       "      <td>3.500000</td>\n",
       "      <td>10.200000</td>\n",
       "      <td>1650.000000</td>\n",
       "      <td>900.000000</td>\n",
       "      <td>75.360000</td>\n",
       "      <td>7.900000</td>\n",
       "      <td>...</td>\n",
       "      <td>1151.000000</td>\n",
       "      <td>37.000000</td>\n",
       "      <td>83.000000</td>\n",
       "      <td>188.000000</td>\n",
       "      <td>270.00000</td>\n",
       "      <td>30.000000</td>\n",
       "      <td>100.000000</td>\n",
       "      <td>88.000000</td>\n",
       "      <td>30.000000</td>\n",
       "      <td>8.000000</td>\n",
       "    </tr>\n",
       "  </tbody>\n",
       "</table>\n",
       "<p>8 rows × 23 columns</p>\n",
       "</div>"
      ],
      "text/plain": [
       "                 C           Si           Mn            P          Ni  \\\n",
       "count  1652.000000  1652.000000  1652.000000  1642.000000  697.000000   \n",
       "mean      0.075521     0.328577     1.202821     0.012952    0.415034   \n",
       "std       0.023898     0.112455     0.382137     0.019627    0.786951   \n",
       "min       0.029000     0.040000     0.270000     0.002000    0.000000   \n",
       "25%       0.061750     0.270000     0.940000     0.007000    0.000000   \n",
       "50%       0.074000     0.320000     1.270000     0.010000    0.067000   \n",
       "75%       0.086000     0.360000     1.440000     0.014000    0.260000   \n",
       "max       0.180000     1.140000     2.250000     0.250000    3.500000   \n",
       "\n",
       "               Cr            O      Current      Voltage   Heat_input  ...  \\\n",
       "count  784.000000  1256.000000  1404.000000  1404.000000  1652.000000  ...   \n",
       "mean     2.101273   441.967357   283.843661    27.607379     1.700987  ...   \n",
       "std      3.026548   147.483825   192.560955    12.555629     1.298465  ...   \n",
       "min      0.000000   132.000000   115.000000    11.500000     0.600000  ...   \n",
       "25%      0.000000   370.000000   170.000000    21.000000     1.000000  ...   \n",
       "50%      0.530000   423.000000   170.000000    21.000000     1.000000  ...   \n",
       "75%      2.300000   471.000000   300.000000    30.000000     2.000000  ...   \n",
       "max     10.200000  1650.000000   900.000000    75.360000     7.900000  ...   \n",
       "\n",
       "               UTS  Elongation          RA  Charpy_temp  Charpy_toughness  \\\n",
       "count   738.000000  700.000000  705.000000   879.000000         879.00000   \n",
       "mean    594.386314   26.275714   71.799858   -34.606371          87.68942   \n",
       "std      88.636238    4.895986    8.926551    34.738624          50.11670   \n",
       "min     447.000000   10.600000   17.000000  -114.000000           3.00000   \n",
       "25%     532.775000   22.800000   68.000000   -60.000000          38.00000   \n",
       "50%     575.500000   26.800000   75.000000   -40.000000         100.00000   \n",
       "75%     647.000000   30.000000   78.000000   -17.500000         100.00000   \n",
       "max    1151.000000   37.000000   83.000000   188.000000         270.00000   \n",
       "\n",
       "           FATT50  Ferrite_2nd_phase  Acicular_ferrite  Martensite  \\\n",
       "count   31.000000          90.000000         90.000000   89.000000   \n",
       "mean   -31.096774          25.955556         52.833333    0.337079   \n",
       "std     43.644285          21.283486         23.483798    3.179994   \n",
       "min   -126.000000           3.000000          0.000000    0.000000   \n",
       "25%    -62.000000           9.000000         35.500000    0.000000   \n",
       "50%    -15.000000          18.000000         60.000000    0.000000   \n",
       "75%      5.000000          38.000000         71.750000    0.000000   \n",
       "max     30.000000         100.000000         88.000000   30.000000   \n",
       "\n",
       "       Ferrite_carbide  \n",
       "count        89.000000  \n",
       "mean          0.438202  \n",
       "std           1.397685  \n",
       "min           0.000000  \n",
       "25%           0.000000  \n",
       "50%           0.000000  \n",
       "75%           0.000000  \n",
       "max           8.000000  \n",
       "\n",
       "[8 rows x 23 columns]"
      ]
     },
     "execution_count": 2,
     "metadata": {},
     "output_type": "execute_result"
    }
   ],
   "source": [
    "df.describe()"
   ]
  },
  {
   "cell_type": "code",
   "execution_count": 3,
   "id": "ef76e284",
   "metadata": {},
   "outputs": [
    {
     "name": "stdout",
     "output_type": "stream",
     "text": [
      "<class 'pandas.core.frame.DataFrame'>\n",
      "RangeIndex: 1652 entries, 0 to 1651\n",
      "Data columns (total 44 columns):\n",
      " #   Column             Non-Null Count  Dtype  \n",
      "---  ------             --------------  -----  \n",
      " 0   C                  1652 non-null   float64\n",
      " 1   Si                 1652 non-null   float64\n",
      " 2   Mn                 1652 non-null   float64\n",
      " 3   S                  1648 non-null   object \n",
      " 4   P                  1642 non-null   float64\n",
      " 5   Ni                 697 non-null    float64\n",
      " 6   Cr                 784 non-null    float64\n",
      " 7   Mo                 793 non-null    object \n",
      " 8   V                  928 non-null    object \n",
      " 9   Cu                 578 non-null    object \n",
      " 10  Co                 129 non-null    object \n",
      " 11  W                  75 non-null     object \n",
      " 12  O                  1256 non-null   float64\n",
      " 13  Ti                 935 non-null    object \n",
      " 14  N                  1242 non-null   object \n",
      " 15  Al                 905 non-null    object \n",
      " 16  B                  504 non-null    object \n",
      " 17  Nb                 752 non-null    object \n",
      " 18  Sn                 296 non-null    object \n",
      " 19  As                 234 non-null    object \n",
      " 20  Sb                 260 non-null    object \n",
      " 21  Current            1404 non-null   float64\n",
      " 22  Voltage            1404 non-null   float64\n",
      " 23  AC_DC              1437 non-null   object \n",
      " 24  Polarity           1496 non-null   object \n",
      " 25  Heat_input         1652 non-null   float64\n",
      " 26  Interpass_temp     1652 non-null   object \n",
      " 27  Weld_type          1652 non-null   object \n",
      " 28  PWHT_temp          1639 non-null   float64\n",
      " 29  PWHT_time          1639 non-null   float64\n",
      " 30  Yield_strength     780 non-null    float64\n",
      " 31  UTS                738 non-null    float64\n",
      " 32  Elongation         700 non-null    float64\n",
      " 33  RA                 705 non-null    float64\n",
      " 34  Charpy_temp        879 non-null    float64\n",
      " 35  Charpy_toughness   879 non-null    float64\n",
      " 36  Hardness           138 non-null    object \n",
      " 37  FATT50             31 non-null     float64\n",
      " 38  Primary_ferrite    98 non-null     object \n",
      " 39  Ferrite_2nd_phase  90 non-null     float64\n",
      " 40  Acicular_ferrite   90 non-null     float64\n",
      " 41  Martensite         89 non-null     float64\n",
      " 42  Ferrite_carbide    89 non-null     float64\n",
      " 43  Weld_ID            1652 non-null   object \n",
      "dtypes: float64(23), object(21)\n",
      "memory usage: 568.0+ KB\n"
     ]
    }
   ],
   "source": [
    "df.info()"
   ]
  },
  {
   "cell_type": "code",
   "execution_count": 4,
   "id": "1df6c120",
   "metadata": {},
   "outputs": [
    {
     "data": {
      "text/plain": [
       "FATT50               98.123487\n",
       "W                    95.460048\n",
       "Ferrite_carbide      94.612591\n",
       "Martensite           94.612591\n",
       "Ferrite_2nd_phase    94.552058\n",
       "Acicular_ferrite     94.552058\n",
       "Primary_ferrite      94.067797\n",
       "Co                   92.191283\n",
       "Hardness             91.646489\n",
       "As                   85.835351\n",
       "Sb                   84.261501\n",
       "Sn                   82.082324\n",
       "B                    69.491525\n",
       "Cu                   65.012107\n",
       "Ni                   57.808717\n",
       "Elongation           57.627119\n",
       "RA                   57.324455\n",
       "UTS                  55.326877\n",
       "Nb                   54.479419\n",
       "Yield_strength       52.784504\n",
       "Cr                   52.542373\n",
       "Mo                   51.997579\n",
       "Charpy_toughness     46.791768\n",
       "Charpy_temp          46.791768\n",
       "Al                   45.217918\n",
       "V                    43.825666\n",
       "Ti                   43.401937\n",
       "N                    24.818402\n",
       "O                    23.970944\n",
       "Voltage              15.012107\n",
       "Current              15.012107\n",
       "AC_DC                13.014528\n",
       "Polarity              9.443099\n",
       "PWHT_time             0.786925\n",
       "PWHT_temp             0.786925\n",
       "P                     0.605327\n",
       "S                     0.242131\n",
       "C                     0.000000\n",
       "Weld_type             0.000000\n",
       "Interpass_temp        0.000000\n",
       "Heat_input            0.000000\n",
       "Si                    0.000000\n",
       "Mn                    0.000000\n",
       "Weld_ID               0.000000\n",
       "dtype: float64"
      ]
     },
     "execution_count": 4,
     "metadata": {},
     "output_type": "execute_result"
    }
   ],
   "source": [
    "(df.isnull().sum().sort_values(ascending=False)/df.shape[0])*100"
   ]
  },
  {
   "cell_type": "markdown",
   "id": "ca114926",
   "metadata": {},
   "source": [
    "<h3>Nettoyage des données</h3>"
   ]
  },
  {
   "cell_type": "markdown",
   "id": "3095e6e5",
   "metadata": {},
   "source": [
    "Dans un second temps, nous nettoyons les données pour supprimer les valeurs non numériques dans les colonnes censées l'être."
   ]
  },
  {
   "cell_type": "code",
   "execution_count": null,
   "id": "8163f9b9",
   "metadata": {},
   "outputs": [
    {
     "name": "stderr",
     "output_type": "stream",
     "text": [
      "/var/folders/qc/5qn44xzs143g6s6sy04v51qm0000gn/T/ipykernel_39862/3993039898.py:31: FutureWarning: DataFrame.applymap has been deprecated. Use DataFrame.map instead.\n",
      "  df[colonnes_a_nettoyer] = df[colonnes_a_nettoyer].applymap(nettoyer_valeur)\n"
     ]
    }
   ],
   "source": [
    "import re\n",
    "import numpy as np\n",
    "\n",
    "def nettoyer_valeur(val):\n",
    "    val = str(val).strip()\n",
    "\n",
    "    # Cas 'N' ou vide\n",
    "    if val.upper() == \"N\" or val == \"\":\n",
    "        return np.nan\n",
    "\n",
    "    # Cas '<5' -> remplacer par 5 (ou NaN si vous préférez)\n",
    "    if val.startswith(\"<\"):\n",
    "        try:\n",
    "            return float(val[1:])\n",
    "        except:\n",
    "            return np.nan\n",
    "\n",
    "    # Cas '67tot33res' -> extraire ce qu'il y a avant 'tot'\n",
    "    match = re.match(r\"(\\d+)\", val)\n",
    "    if match:\n",
    "        return float(match.group(1))\n",
    "\n",
    "    return np.nan\n",
    "\n",
    "colonnes_a_nettoyer = [\n",
    "    'C', 'Si', 'Mn', 'S', 'P', 'Ni', 'Cr', 'Mo', 'V', 'Cu', \n",
    "    'Co', 'W', 'O', 'Ti', 'N', 'Al', 'B', 'Nb', 'Sn', 'As', 'Sb', 'Primary_ferrite'\n",
    "]\n",
    "\n",
    "# On applique la fonction seulement sur les colonnes ciblées\n",
    "df[colonnes_a_nettoyer] = df[colonnes_a_nettoyer].applymap(nettoyer_valeur)"
   ]
  },
  {
   "cell_type": "code",
   "execution_count": 6,
   "id": "094a1896",
   "metadata": {},
   "outputs": [
    {
     "name": "stdout",
     "output_type": "stream",
     "text": [
      "<class 'pandas.core.frame.DataFrame'>\n",
      "RangeIndex: 1652 entries, 0 to 1651\n",
      "Data columns (total 44 columns):\n",
      " #   Column             Non-Null Count  Dtype  \n",
      "---  ------             --------------  -----  \n",
      " 0   C                  1652 non-null   float64\n",
      " 1   Si                 1652 non-null   float64\n",
      " 2   Mn                 1652 non-null   float64\n",
      " 3   S                  1648 non-null   float64\n",
      " 4   P                  1642 non-null   float64\n",
      " 5   Ni                 697 non-null    float64\n",
      " 6   Cr                 784 non-null    float64\n",
      " 7   Mo                 793 non-null    float64\n",
      " 8   V                  928 non-null    float64\n",
      " 9   Cu                 578 non-null    float64\n",
      " 10  Co                 129 non-null    float64\n",
      " 11  W                  75 non-null     float64\n",
      " 12  O                  1256 non-null   float64\n",
      " 13  Ti                 935 non-null    float64\n",
      " 14  N                  1242 non-null   float64\n",
      " 15  Al                 905 non-null    float64\n",
      " 16  B                  504 non-null    float64\n",
      " 17  Nb                 752 non-null    float64\n",
      " 18  Sn                 296 non-null    float64\n",
      " 19  As                 234 non-null    float64\n",
      " 20  Sb                 260 non-null    float64\n",
      " 21  Current            1404 non-null   float64\n",
      " 22  Voltage            1404 non-null   float64\n",
      " 23  AC_DC              1437 non-null   object \n",
      " 24  Polarity           1496 non-null   object \n",
      " 25  Heat_input         1652 non-null   float64\n",
      " 26  Interpass_temp     1652 non-null   int64  \n",
      " 27  Weld_type          1652 non-null   object \n",
      " 28  PWHT_temp          1639 non-null   float64\n",
      " 29  PWHT_time          1639 non-null   float64\n",
      " 30  Yield_strength     780 non-null    float64\n",
      " 31  UTS                738 non-null    float64\n",
      " 32  Elongation         700 non-null    float64\n",
      " 33  RA                 705 non-null    float64\n",
      " 34  Charpy_temp        879 non-null    float64\n",
      " 35  Charpy_toughness   879 non-null    float64\n",
      " 36  Hardness           138 non-null    object \n",
      " 37  FATT50             31 non-null     float64\n",
      " 38  Primary_ferrite    98 non-null     float64\n",
      " 39  Ferrite_2nd_phase  90 non-null     float64\n",
      " 40  Acicular_ferrite   90 non-null     float64\n",
      " 41  Martensite         89 non-null     float64\n",
      " 42  Ferrite_carbide    89 non-null     float64\n",
      " 43  Weld_ID            1652 non-null   object \n",
      "dtypes: float64(38), int64(1), object(5)\n",
      "memory usage: 568.0+ KB\n",
      "None\n"
     ]
    }
   ],
   "source": [
    "df['Interpass_temp'] = df['Interpass_temp'].replace(\"150-200\", 175)\n",
    "df['Interpass_temp'] = pd.to_numeric(df['Interpass_temp'])\n",
    "print(df.info())"
   ]
  },
  {
   "cell_type": "code",
   "execution_count": 7,
   "id": "5ebfda3d",
   "metadata": {},
   "outputs": [],
   "source": [
    "df[\"Hardness\"] = df[\"Hardness\"].astype(str).str.extract(r\"^(\\d+\\.?\\d*)\").astype(float)\n",
    "df['Hardness'] = pd.to_numeric(df['Hardness'])"
   ]
  },
  {
   "cell_type": "code",
   "execution_count": 8,
   "id": "122093be",
   "metadata": {},
   "outputs": [
    {
     "name": "stdout",
     "output_type": "stream",
     "text": [
      "<class 'pandas.core.frame.DataFrame'>\n",
      "RangeIndex: 1652 entries, 0 to 1651\n",
      "Data columns (total 44 columns):\n",
      " #   Column             Non-Null Count  Dtype  \n",
      "---  ------             --------------  -----  \n",
      " 0   C                  1652 non-null   float64\n",
      " 1   Si                 1652 non-null   float64\n",
      " 2   Mn                 1652 non-null   float64\n",
      " 3   S                  1648 non-null   float64\n",
      " 4   P                  1642 non-null   float64\n",
      " 5   Ni                 697 non-null    float64\n",
      " 6   Cr                 784 non-null    float64\n",
      " 7   Mo                 793 non-null    float64\n",
      " 8   V                  928 non-null    float64\n",
      " 9   Cu                 578 non-null    float64\n",
      " 10  Co                 129 non-null    float64\n",
      " 11  W                  75 non-null     float64\n",
      " 12  O                  1256 non-null   float64\n",
      " 13  Ti                 935 non-null    float64\n",
      " 14  N                  1242 non-null   float64\n",
      " 15  Al                 905 non-null    float64\n",
      " 16  B                  504 non-null    float64\n",
      " 17  Nb                 752 non-null    float64\n",
      " 18  Sn                 296 non-null    float64\n",
      " 19  As                 234 non-null    float64\n",
      " 20  Sb                 260 non-null    float64\n",
      " 21  Current            1404 non-null   float64\n",
      " 22  Voltage            1404 non-null   float64\n",
      " 23  AC_DC              1437 non-null   object \n",
      " 24  Polarity           1496 non-null   object \n",
      " 25  Heat_input         1652 non-null   float64\n",
      " 26  Interpass_temp     1652 non-null   int64  \n",
      " 27  Weld_type          1652 non-null   object \n",
      " 28  PWHT_temp          1639 non-null   float64\n",
      " 29  PWHT_time          1639 non-null   float64\n",
      " 30  Yield_strength     780 non-null    float64\n",
      " 31  UTS                738 non-null    float64\n",
      " 32  Elongation         700 non-null    float64\n",
      " 33  RA                 705 non-null    float64\n",
      " 34  Charpy_temp        879 non-null    float64\n",
      " 35  Charpy_toughness   879 non-null    float64\n",
      " 36  Hardness           138 non-null    float64\n",
      " 37  FATT50             31 non-null     float64\n",
      " 38  Primary_ferrite    98 non-null     float64\n",
      " 39  Ferrite_2nd_phase  90 non-null     float64\n",
      " 40  Acicular_ferrite   90 non-null     float64\n",
      " 41  Martensite         89 non-null     float64\n",
      " 42  Ferrite_carbide    89 non-null     float64\n",
      " 43  Weld_ID            1652 non-null   object \n",
      "dtypes: float64(39), int64(1), object(4)\n",
      "memory usage: 568.0+ KB\n"
     ]
    }
   ],
   "source": [
    "df.info()"
   ]
  },
  {
   "cell_type": "markdown",
   "id": "693bd401",
   "metadata": {},
   "source": [
    "On observe que toutes les colonnes devant contenir des valeurs numériques sont bien au format numérique. Nous allons maintenant nous ocuper des variables catégorielles."
   ]
  },
  {
   "cell_type": "code",
   "execution_count": 9,
   "id": "978d93b0",
   "metadata": {},
   "outputs": [
    {
     "name": "stdout",
     "output_type": "stream",
     "text": [
      "<class 'pandas.core.frame.DataFrame'>\n",
      "RangeIndex: 1652 entries, 0 to 1651\n",
      "Data columns (total 44 columns):\n",
      " #   Column             Non-Null Count  Dtype  \n",
      "---  ------             --------------  -----  \n",
      " 0   C                  1652 non-null   float64\n",
      " 1   Si                 1652 non-null   float64\n",
      " 2   Mn                 1652 non-null   float64\n",
      " 3   S                  1648 non-null   float64\n",
      " 4   P                  1642 non-null   float64\n",
      " 5   Ni                 697 non-null    float64\n",
      " 6   Cr                 784 non-null    float64\n",
      " 7   Mo                 793 non-null    float64\n",
      " 8   V                  928 non-null    float64\n",
      " 9   Cu                 578 non-null    float64\n",
      " 10  Co                 129 non-null    float64\n",
      " 11  W                  75 non-null     float64\n",
      " 12  O                  1256 non-null   float64\n",
      " 13  Ti                 935 non-null    float64\n",
      " 14  N                  1242 non-null   float64\n",
      " 15  Al                 905 non-null    float64\n",
      " 16  B                  504 non-null    float64\n",
      " 17  Nb                 752 non-null    float64\n",
      " 18  Sn                 296 non-null    float64\n",
      " 19  As                 234 non-null    float64\n",
      " 20  Sb                 260 non-null    float64\n",
      " 21  Current            1404 non-null   float64\n",
      " 22  Voltage            1404 non-null   float64\n",
      " 23  AC_DC              1437 non-null   object \n",
      " 24  Polarity           1496 non-null   object \n",
      " 25  Heat_input         1652 non-null   float64\n",
      " 26  Interpass_temp     1652 non-null   int64  \n",
      " 27  Weld_type          1652 non-null   object \n",
      " 28  PWHT_temp          1639 non-null   float64\n",
      " 29  PWHT_time          1639 non-null   float64\n",
      " 30  Yield_strength     780 non-null    float64\n",
      " 31  UTS                738 non-null    float64\n",
      " 32  Elongation         700 non-null    float64\n",
      " 33  RA                 705 non-null    float64\n",
      " 34  Charpy_temp        879 non-null    float64\n",
      " 35  Charpy_toughness   879 non-null    float64\n",
      " 36  Hardness           138 non-null    float64\n",
      " 37  FATT50             31 non-null     float64\n",
      " 38  Primary_ferrite    98 non-null     float64\n",
      " 39  Ferrite_2nd_phase  90 non-null     float64\n",
      " 40  Acicular_ferrite   90 non-null     float64\n",
      " 41  Martensite         89 non-null     float64\n",
      " 42  Ferrite_carbide    89 non-null     float64\n",
      " 43  Weld_ID            1652 non-null   object \n",
      "dtypes: float64(39), int64(1), object(4)\n",
      "memory usage: 568.0+ KB\n"
     ]
    }
   ],
   "source": [
    "df.info()"
   ]
  },
  {
   "cell_type": "code",
   "execution_count": 10,
   "id": "c16b1be9",
   "metadata": {},
   "outputs": [],
   "source": [
    "df = df.drop('Weld_ID', axis=1)"
   ]
  },
  {
   "cell_type": "code",
   "execution_count": 11,
   "id": "73ec4603",
   "metadata": {},
   "outputs": [
    {
     "name": "stdout",
     "output_type": "stream",
     "text": [
      "<class 'pandas.core.frame.DataFrame'>\n",
      "RangeIndex: 1652 entries, 0 to 1651\n",
      "Data columns (total 43 columns):\n",
      " #   Column             Non-Null Count  Dtype  \n",
      "---  ------             --------------  -----  \n",
      " 0   C                  1652 non-null   float64\n",
      " 1   Si                 1652 non-null   float64\n",
      " 2   Mn                 1652 non-null   float64\n",
      " 3   S                  1648 non-null   float64\n",
      " 4   P                  1642 non-null   float64\n",
      " 5   Ni                 697 non-null    float64\n",
      " 6   Cr                 784 non-null    float64\n",
      " 7   Mo                 793 non-null    float64\n",
      " 8   V                  928 non-null    float64\n",
      " 9   Cu                 578 non-null    float64\n",
      " 10  Co                 129 non-null    float64\n",
      " 11  W                  75 non-null     float64\n",
      " 12  O                  1256 non-null   float64\n",
      " 13  Ti                 935 non-null    float64\n",
      " 14  N                  1242 non-null   float64\n",
      " 15  Al                 905 non-null    float64\n",
      " 16  B                  504 non-null    float64\n",
      " 17  Nb                 752 non-null    float64\n",
      " 18  Sn                 296 non-null    float64\n",
      " 19  As                 234 non-null    float64\n",
      " 20  Sb                 260 non-null    float64\n",
      " 21  Current            1404 non-null   float64\n",
      " 22  Voltage            1404 non-null   float64\n",
      " 23  AC_DC              1437 non-null   object \n",
      " 24  Polarity           1496 non-null   object \n",
      " 25  Heat_input         1652 non-null   float64\n",
      " 26  Interpass_temp     1652 non-null   int64  \n",
      " 27  Weld_type          1652 non-null   object \n",
      " 28  PWHT_temp          1639 non-null   float64\n",
      " 29  PWHT_time          1639 non-null   float64\n",
      " 30  Yield_strength     780 non-null    float64\n",
      " 31  UTS                738 non-null    float64\n",
      " 32  Elongation         700 non-null    float64\n",
      " 33  RA                 705 non-null    float64\n",
      " 34  Charpy_temp        879 non-null    float64\n",
      " 35  Charpy_toughness   879 non-null    float64\n",
      " 36  Hardness           138 non-null    float64\n",
      " 37  FATT50             31 non-null     float64\n",
      " 38  Primary_ferrite    98 non-null     float64\n",
      " 39  Ferrite_2nd_phase  90 non-null     float64\n",
      " 40  Acicular_ferrite   90 non-null     float64\n",
      " 41  Martensite         89 non-null     float64\n",
      " 42  Ferrite_carbide    89 non-null     float64\n",
      "dtypes: float64(39), int64(1), object(3)\n",
      "memory usage: 555.1+ KB\n"
     ]
    }
   ],
   "source": [
    "df.info()"
   ]
  },
  {
   "cell_type": "markdown",
   "id": "1611df04",
   "metadata": {},
   "source": [
    "<h3>Colonnes à supprimer</h3>\n",
    "\n",
    "Nous allons maintenant nou intéresser aux features que nous pouvons supprimer de notre dataset sans perdre trop d'information. Pour ce faire, nous allons étudier la corrélation entre les variables, et supprimer celles pour lesquelles les données sont largement absentes, tout en ayant très peu de corrélation avec les variables d'intérêt pour qualifier la qualité d'une soudure. D'après le papier scientifique fourni avec le dataset, les trois features les plus intéressantes pour qualifier la qualité 'une soudure sont les suivantes : \n",
    "    <li>Charpy Toughness</li>\n",
    "    <li>Elongation</li>\n",
    "    <li>Ultimate tensile strength</li>"
   ]
  },
  {
   "cell_type": "code",
   "execution_count": 12,
   "id": "6651a4e0",
   "metadata": {},
   "outputs": [],
   "source": [
    "miss = df.isna().mean().sort_values(ascending=False)\n",
    "miss_df = miss.to_frame(name=\"missing_ratio\").reset_index().rename(columns={\"index\": \"column\"})"
   ]
  },
  {
   "cell_type": "code",
   "execution_count": 13,
   "id": "dac7eb08",
   "metadata": {},
   "outputs": [
    {
     "name": "stdout",
     "output_type": "stream",
     "text": [
      "=== Corrélation absolue avec les variables de qualité ===\n",
      "                   Charpy_toughness  Elongation    UTS  Yield_strength\n",
      "column                                                                \n",
      "FATT50                          NaN      -0.321 -0.547          -0.332\n",
      "W                               NaN      -0.309  0.186           0.082\n",
      "Ferrite_carbide                 NaN         NaN    NaN             NaN\n",
      "Martensite                      NaN         NaN    NaN             NaN\n",
      "Acicular_ferrite                NaN         NaN    NaN             NaN\n",
      "Ferrite_2nd_phase               NaN         NaN    NaN             NaN\n",
      "Primary_ferrite                 NaN         NaN    NaN             NaN\n",
      "Co                              NaN      -0.124  0.105          -0.002\n",
      "Hardness                        NaN      -0.671  0.864           0.812\n",
      "As                           -0.051       0.096 -0.136           0.029\n",
      "Sb                            0.065       0.077 -0.318          -0.244\n",
      "Sn                            0.010      -0.021 -0.145          -0.134\n",
      "B                            -0.171      -0.298  0.416           0.294\n",
      "Cu                           -0.051       0.012 -0.035           0.034\n",
      "Ni                            0.013      -0.014  0.145           0.114\n",
      "Elongation                    0.359       1.000 -0.739          -0.681\n",
      "RA                            0.831       0.535 -0.661          -0.460\n",
      "UTS                          -0.702      -0.739  1.000           0.915\n",
      "Nb                           -0.079      -0.478  0.480           0.423\n",
      "Yield_strength               -0.412      -0.681  0.915           1.000\n",
      "Cr                           -0.073      -0.429  0.471           0.386\n",
      "Mo                            0.251      -0.362  0.229           0.095\n",
      "Charpy_toughness              1.000       0.359 -0.702          -0.412\n",
      "Charpy_temp                   0.474      -0.522  0.513           0.320\n",
      "Al                           -0.133       0.004  0.088           0.060\n",
      "V                            -0.031      -0.063  0.046           0.071\n",
      "Ti                            0.044      -0.033  0.060           0.014\n",
      "N                            -0.141      -0.439  0.430           0.384\n",
      "O                            -0.141      -0.324  0.038           0.044\n",
      "Current                      -0.077      -0.088  0.139           0.092\n",
      "Voltage                      -0.094      -0.130  0.135           0.062\n",
      "AC_DC                           NaN         NaN    NaN             NaN\n",
      "Polarity                        NaN         NaN    NaN             NaN\n",
      "PWHT_time                    -0.078      -0.018 -0.066           0.013\n",
      "PWHT_temp                     0.015      -0.162  0.182           0.139\n",
      "P                               NaN         NaN    NaN             NaN\n",
      "S                               NaN         NaN    NaN             NaN\n",
      "Weld_type                       NaN         NaN    NaN             NaN\n",
      "Interpass_temp                0.235       0.002 -0.003          -0.003\n",
      "Heat_input                   -0.129      -0.091  0.114           0.063\n",
      "Si                              NaN      -0.029  0.056           0.039\n",
      "Mn                           -0.066      -0.021  0.131           0.109\n",
      "C                               NaN         NaN    NaN             NaN\n"
     ]
    },
    {
     "data": {
      "application/vnd.plotly.v1+json": {
       "config": {
        "plotlyServerURL": "https://plotly.com"
       },
       "data": [
        {
         "coloraxis": "coloraxis",
         "hovertemplate": "x: %{x}<br>column: %{y}<br>color: %{z}<extra></extra>",
         "name": "0",
         "type": "heatmap",
         "x": [
          "Charpy_toughness",
          "Elongation",
          "UTS",
          "Yield_strength"
         ],
         "xaxis": "x",
         "y": [
          "FATT50",
          "W",
          "Ferrite_carbide",
          "Martensite",
          "Acicular_ferrite",
          "Ferrite_2nd_phase",
          "Primary_ferrite",
          "Co",
          "Hardness",
          "As",
          "Sb",
          "Sn",
          "B",
          "Cu",
          "Ni",
          "Elongation",
          "RA",
          "UTS",
          "Nb",
          "Yield_strength",
          "Cr",
          "Mo",
          "Charpy_toughness",
          "Charpy_temp",
          "Al",
          "V",
          "Ti",
          "N",
          "O",
          "Current",
          "Voltage",
          "AC_DC",
          "Polarity",
          "PWHT_time",
          "PWHT_temp",
          "P",
          "S",
          "Weld_type",
          "Interpass_temp",
          "Heat_input",
          "Si",
          "Mn",
          "C"
         ],
         "yaxis": "y",
         "z": {
          "bdata": "AAAAAAAA+H+Xq4usdYPUv779ggmafuG/PPzOxzJC1b8AAAAAAAD4fy1dSp1HxtO/Rr/guszPxz+bFGspiPC0PwAAAAAAAPh/AAAAAAAA+H8AAAAAAAD4fwAAAAAAAPh/AAAAAAAA+H8AAAAAAAD4fwAAAAAAAPh/AAAAAAAA+H8AAAAAAAD4fwAAAAAAAPh/AAAAAAAA+H8AAAAAAAD4fwAAAAAAAPh/AAAAAAAA+H8AAAAAAAD4fwAAAAAAAPh/AAAAAAAA+H8AAAAAAAD4fwAAAAAAAPh/AAAAAAAA+H8AAAAAAAD4fxyrKZ/Jy7+/CtfINgjduj8PKkimWFBjvwAAAAAAAPh/DeqkRXl15b/J+pqjE6brP7RqPIq6/+k/OmIXMdQNqr/pB0JR/3i4P5pvAOe0YMG/pb/xTAMZnj+OT5kqVKSwP6Gs9UL6qrM/CFQgB+tZ1L/wwslQV0XPv3gax58FYIU/7bGUrQ2mlb9hw9MAT5fCvyoh5Bg2HMG/Lg4OT1/exb9DEyWlsAvTv6NIi40emNo/0/hWk0TV0j9PRs3q3uypv3PUHEl6TYg/6NNzm0zsob9/vc5rejChP8BXtXEDe4o/kc1hX/6ajb86F4MQw5rCP3xin14mTL0/cEj8J/P71j8AAAAAAADwP/yNhMQKp+e//aTG8ebK5b/K/rIwLZnqP2Ped/7IG+E/eNgryXYn5b+QsK7M723dvw377LRhdua//I2ExAqn578AAAAAAADwP+dWjxFlS+0/FKVPbo9RtL8ltNKY14/ev0wa5S+nt94/2M8RnH4V2z960Mk4iWTav/2kxvHmyuW/51aPEWVL7T8AAAAAAADwP1stR06VzLK/RvgLRBd427+I/09XIyjePxoWXYVwsNg/QW/4+BAW0D8HYLpM/CTXv8REPSLoTM0/yCs2YpFguD8AAAAAAADwP3BI/Cfz+9Y/DfvstGF25r960Mk4iWTavyfV4b/cUN4/nGPJ5pKw4L8RKfWrm2ngP2ta52YVe9Q/5/wF064Pwb8fTdLjlwlwP9tDaP4sfrY/Br0K393qrj/SW49kfnufvzMtf3+5HrC/ylXm4RjBpz9KE1IWNEuyP/7JdeURkaY/7wlYnVnIoL/mFYqLQYSuP70+Pw/5no0/nCuPTyb+wb8s5kCg3BLcvwfRWedsids/ICB7+T2a2D8p5ZWrggDCv3A3vkYTudS/VZyd8Aaooz8bBxj2aYumP7dIbKrjxLO/MQz0qntstr+VMymu3cTBP2/fqTi6lrc/P3u6tW0AuL/29j9t3pTAvzhknPPWTcE/E9PK7grurz8AAAAAAAD4fwAAAAAAAPh/AAAAAAAA+H8AAAAAAAD4fwAAAAAAAPh/AAAAAAAA+H8AAAAAAAD4fwAAAAAAAPh/6WgWpVkItL/zGzP+ucCSv2ZZggKD/LC/cvoIGz3KiT/GR29vsVeOP1LUEXADyMS/OHXN8dpVxz+160TD2L3BPwAAAAAAAPh/AAAAAAAA+H8AAAAAAAD4fwAAAAAAAPh/AAAAAAAA+H8AAAAAAAD4fwAAAAAAAPh/AAAAAAAA+H8AAAAAAAD4fwAAAAAAAPh/AAAAAAAA+H8AAAAAAAD4f79CUqeMCs4/5xL2PprAWT/puP7OHJlmvy++ee3ZumS/ESD2WYKEwL/4HlDrqkC3v79XgmZlH70/HlQ+PXQ4sD8AAAAAAAD4f9JkywwTw52/kMnFpBOIrD9Rgvtu2fqjPy9FVtXE2LC/RJCBeKLUlb9rVkPB0MTAP/rmhPij77s/AAAAAAAA+H8AAAAAAAD4fwAAAAAAAPh/AAAAAAAA+H8=",
          "dtype": "f8",
          "shape": "43, 4"
         }
        }
       ],
       "layout": {
        "coloraxis": {
         "colorscale": [
          [
           0,
           "rgb(5,48,97)"
          ],
          [
           0.1,
           "rgb(33,102,172)"
          ],
          [
           0.2,
           "rgb(67,147,195)"
          ],
          [
           0.3,
           "rgb(146,197,222)"
          ],
          [
           0.4,
           "rgb(209,229,240)"
          ],
          [
           0.5,
           "rgb(247,247,247)"
          ],
          [
           0.6,
           "rgb(253,219,199)"
          ],
          [
           0.7,
           "rgb(244,165,130)"
          ],
          [
           0.8,
           "rgb(214,96,77)"
          ],
          [
           0.9,
           "rgb(178,24,43)"
          ],
          [
           1,
           "rgb(103,0,31)"
          ]
         ]
        },
        "template": {
         "data": {
          "bar": [
           {
            "error_x": {
             "color": "#2a3f5f"
            },
            "error_y": {
             "color": "#2a3f5f"
            },
            "marker": {
             "line": {
              "color": "#E5ECF6",
              "width": 0.5
             },
             "pattern": {
              "fillmode": "overlay",
              "size": 10,
              "solidity": 0.2
             }
            },
            "type": "bar"
           }
          ],
          "barpolar": [
           {
            "marker": {
             "line": {
              "color": "#E5ECF6",
              "width": 0.5
             },
             "pattern": {
              "fillmode": "overlay",
              "size": 10,
              "solidity": 0.2
             }
            },
            "type": "barpolar"
           }
          ],
          "carpet": [
           {
            "aaxis": {
             "endlinecolor": "#2a3f5f",
             "gridcolor": "white",
             "linecolor": "white",
             "minorgridcolor": "white",
             "startlinecolor": "#2a3f5f"
            },
            "baxis": {
             "endlinecolor": "#2a3f5f",
             "gridcolor": "white",
             "linecolor": "white",
             "minorgridcolor": "white",
             "startlinecolor": "#2a3f5f"
            },
            "type": "carpet"
           }
          ],
          "choropleth": [
           {
            "colorbar": {
             "outlinewidth": 0,
             "ticks": ""
            },
            "type": "choropleth"
           }
          ],
          "contour": [
           {
            "colorbar": {
             "outlinewidth": 0,
             "ticks": ""
            },
            "colorscale": [
             [
              0,
              "#0d0887"
             ],
             [
              0.1111111111111111,
              "#46039f"
             ],
             [
              0.2222222222222222,
              "#7201a8"
             ],
             [
              0.3333333333333333,
              "#9c179e"
             ],
             [
              0.4444444444444444,
              "#bd3786"
             ],
             [
              0.5555555555555556,
              "#d8576b"
             ],
             [
              0.6666666666666666,
              "#ed7953"
             ],
             [
              0.7777777777777778,
              "#fb9f3a"
             ],
             [
              0.8888888888888888,
              "#fdca26"
             ],
             [
              1,
              "#f0f921"
             ]
            ],
            "type": "contour"
           }
          ],
          "contourcarpet": [
           {
            "colorbar": {
             "outlinewidth": 0,
             "ticks": ""
            },
            "type": "contourcarpet"
           }
          ],
          "heatmap": [
           {
            "colorbar": {
             "outlinewidth": 0,
             "ticks": ""
            },
            "colorscale": [
             [
              0,
              "#0d0887"
             ],
             [
              0.1111111111111111,
              "#46039f"
             ],
             [
              0.2222222222222222,
              "#7201a8"
             ],
             [
              0.3333333333333333,
              "#9c179e"
             ],
             [
              0.4444444444444444,
              "#bd3786"
             ],
             [
              0.5555555555555556,
              "#d8576b"
             ],
             [
              0.6666666666666666,
              "#ed7953"
             ],
             [
              0.7777777777777778,
              "#fb9f3a"
             ],
             [
              0.8888888888888888,
              "#fdca26"
             ],
             [
              1,
              "#f0f921"
             ]
            ],
            "type": "heatmap"
           }
          ],
          "histogram": [
           {
            "marker": {
             "pattern": {
              "fillmode": "overlay",
              "size": 10,
              "solidity": 0.2
             }
            },
            "type": "histogram"
           }
          ],
          "histogram2d": [
           {
            "colorbar": {
             "outlinewidth": 0,
             "ticks": ""
            },
            "colorscale": [
             [
              0,
              "#0d0887"
             ],
             [
              0.1111111111111111,
              "#46039f"
             ],
             [
              0.2222222222222222,
              "#7201a8"
             ],
             [
              0.3333333333333333,
              "#9c179e"
             ],
             [
              0.4444444444444444,
              "#bd3786"
             ],
             [
              0.5555555555555556,
              "#d8576b"
             ],
             [
              0.6666666666666666,
              "#ed7953"
             ],
             [
              0.7777777777777778,
              "#fb9f3a"
             ],
             [
              0.8888888888888888,
              "#fdca26"
             ],
             [
              1,
              "#f0f921"
             ]
            ],
            "type": "histogram2d"
           }
          ],
          "histogram2dcontour": [
           {
            "colorbar": {
             "outlinewidth": 0,
             "ticks": ""
            },
            "colorscale": [
             [
              0,
              "#0d0887"
             ],
             [
              0.1111111111111111,
              "#46039f"
             ],
             [
              0.2222222222222222,
              "#7201a8"
             ],
             [
              0.3333333333333333,
              "#9c179e"
             ],
             [
              0.4444444444444444,
              "#bd3786"
             ],
             [
              0.5555555555555556,
              "#d8576b"
             ],
             [
              0.6666666666666666,
              "#ed7953"
             ],
             [
              0.7777777777777778,
              "#fb9f3a"
             ],
             [
              0.8888888888888888,
              "#fdca26"
             ],
             [
              1,
              "#f0f921"
             ]
            ],
            "type": "histogram2dcontour"
           }
          ],
          "mesh3d": [
           {
            "colorbar": {
             "outlinewidth": 0,
             "ticks": ""
            },
            "type": "mesh3d"
           }
          ],
          "parcoords": [
           {
            "line": {
             "colorbar": {
              "outlinewidth": 0,
              "ticks": ""
             }
            },
            "type": "parcoords"
           }
          ],
          "pie": [
           {
            "automargin": true,
            "type": "pie"
           }
          ],
          "scatter": [
           {
            "fillpattern": {
             "fillmode": "overlay",
             "size": 10,
             "solidity": 0.2
            },
            "type": "scatter"
           }
          ],
          "scatter3d": [
           {
            "line": {
             "colorbar": {
              "outlinewidth": 0,
              "ticks": ""
             }
            },
            "marker": {
             "colorbar": {
              "outlinewidth": 0,
              "ticks": ""
             }
            },
            "type": "scatter3d"
           }
          ],
          "scattercarpet": [
           {
            "marker": {
             "colorbar": {
              "outlinewidth": 0,
              "ticks": ""
             }
            },
            "type": "scattercarpet"
           }
          ],
          "scattergeo": [
           {
            "marker": {
             "colorbar": {
              "outlinewidth": 0,
              "ticks": ""
             }
            },
            "type": "scattergeo"
           }
          ],
          "scattergl": [
           {
            "marker": {
             "colorbar": {
              "outlinewidth": 0,
              "ticks": ""
             }
            },
            "type": "scattergl"
           }
          ],
          "scattermap": [
           {
            "marker": {
             "colorbar": {
              "outlinewidth": 0,
              "ticks": ""
             }
            },
            "type": "scattermap"
           }
          ],
          "scattermapbox": [
           {
            "marker": {
             "colorbar": {
              "outlinewidth": 0,
              "ticks": ""
             }
            },
            "type": "scattermapbox"
           }
          ],
          "scatterpolar": [
           {
            "marker": {
             "colorbar": {
              "outlinewidth": 0,
              "ticks": ""
             }
            },
            "type": "scatterpolar"
           }
          ],
          "scatterpolargl": [
           {
            "marker": {
             "colorbar": {
              "outlinewidth": 0,
              "ticks": ""
             }
            },
            "type": "scatterpolargl"
           }
          ],
          "scatterternary": [
           {
            "marker": {
             "colorbar": {
              "outlinewidth": 0,
              "ticks": ""
             }
            },
            "type": "scatterternary"
           }
          ],
          "surface": [
           {
            "colorbar": {
             "outlinewidth": 0,
             "ticks": ""
            },
            "colorscale": [
             [
              0,
              "#0d0887"
             ],
             [
              0.1111111111111111,
              "#46039f"
             ],
             [
              0.2222222222222222,
              "#7201a8"
             ],
             [
              0.3333333333333333,
              "#9c179e"
             ],
             [
              0.4444444444444444,
              "#bd3786"
             ],
             [
              0.5555555555555556,
              "#d8576b"
             ],
             [
              0.6666666666666666,
              "#ed7953"
             ],
             [
              0.7777777777777778,
              "#fb9f3a"
             ],
             [
              0.8888888888888888,
              "#fdca26"
             ],
             [
              1,
              "#f0f921"
             ]
            ],
            "type": "surface"
           }
          ],
          "table": [
           {
            "cells": {
             "fill": {
              "color": "#EBF0F8"
             },
             "line": {
              "color": "white"
             }
            },
            "header": {
             "fill": {
              "color": "#C8D4E3"
             },
             "line": {
              "color": "white"
             }
            },
            "type": "table"
           }
          ]
         },
         "layout": {
          "annotationdefaults": {
           "arrowcolor": "#2a3f5f",
           "arrowhead": 0,
           "arrowwidth": 1
          },
          "autotypenumbers": "strict",
          "coloraxis": {
           "colorbar": {
            "outlinewidth": 0,
            "ticks": ""
           }
          },
          "colorscale": {
           "diverging": [
            [
             0,
             "#8e0152"
            ],
            [
             0.1,
             "#c51b7d"
            ],
            [
             0.2,
             "#de77ae"
            ],
            [
             0.3,
             "#f1b6da"
            ],
            [
             0.4,
             "#fde0ef"
            ],
            [
             0.5,
             "#f7f7f7"
            ],
            [
             0.6,
             "#e6f5d0"
            ],
            [
             0.7,
             "#b8e186"
            ],
            [
             0.8,
             "#7fbc41"
            ],
            [
             0.9,
             "#4d9221"
            ],
            [
             1,
             "#276419"
            ]
           ],
           "sequential": [
            [
             0,
             "#0d0887"
            ],
            [
             0.1111111111111111,
             "#46039f"
            ],
            [
             0.2222222222222222,
             "#7201a8"
            ],
            [
             0.3333333333333333,
             "#9c179e"
            ],
            [
             0.4444444444444444,
             "#bd3786"
            ],
            [
             0.5555555555555556,
             "#d8576b"
            ],
            [
             0.6666666666666666,
             "#ed7953"
            ],
            [
             0.7777777777777778,
             "#fb9f3a"
            ],
            [
             0.8888888888888888,
             "#fdca26"
            ],
            [
             1,
             "#f0f921"
            ]
           ],
           "sequentialminus": [
            [
             0,
             "#0d0887"
            ],
            [
             0.1111111111111111,
             "#46039f"
            ],
            [
             0.2222222222222222,
             "#7201a8"
            ],
            [
             0.3333333333333333,
             "#9c179e"
            ],
            [
             0.4444444444444444,
             "#bd3786"
            ],
            [
             0.5555555555555556,
             "#d8576b"
            ],
            [
             0.6666666666666666,
             "#ed7953"
            ],
            [
             0.7777777777777778,
             "#fb9f3a"
            ],
            [
             0.8888888888888888,
             "#fdca26"
            ],
            [
             1,
             "#f0f921"
            ]
           ]
          },
          "colorway": [
           "#636efa",
           "#EF553B",
           "#00cc96",
           "#ab63fa",
           "#FFA15A",
           "#19d3f3",
           "#FF6692",
           "#B6E880",
           "#FF97FF",
           "#FECB52"
          ],
          "font": {
           "color": "#2a3f5f"
          },
          "geo": {
           "bgcolor": "white",
           "lakecolor": "white",
           "landcolor": "#E5ECF6",
           "showlakes": true,
           "showland": true,
           "subunitcolor": "white"
          },
          "hoverlabel": {
           "align": "left"
          },
          "hovermode": "closest",
          "mapbox": {
           "style": "light"
          },
          "paper_bgcolor": "white",
          "plot_bgcolor": "#E5ECF6",
          "polar": {
           "angularaxis": {
            "gridcolor": "white",
            "linecolor": "white",
            "ticks": ""
           },
           "bgcolor": "#E5ECF6",
           "radialaxis": {
            "gridcolor": "white",
            "linecolor": "white",
            "ticks": ""
           }
          },
          "scene": {
           "xaxis": {
            "backgroundcolor": "#E5ECF6",
            "gridcolor": "white",
            "gridwidth": 2,
            "linecolor": "white",
            "showbackground": true,
            "ticks": "",
            "zerolinecolor": "white"
           },
           "yaxis": {
            "backgroundcolor": "#E5ECF6",
            "gridcolor": "white",
            "gridwidth": 2,
            "linecolor": "white",
            "showbackground": true,
            "ticks": "",
            "zerolinecolor": "white"
           },
           "zaxis": {
            "backgroundcolor": "#E5ECF6",
            "gridcolor": "white",
            "gridwidth": 2,
            "linecolor": "white",
            "showbackground": true,
            "ticks": "",
            "zerolinecolor": "white"
           }
          },
          "shapedefaults": {
           "line": {
            "color": "#2a3f5f"
           }
          },
          "ternary": {
           "aaxis": {
            "gridcolor": "white",
            "linecolor": "white",
            "ticks": ""
           },
           "baxis": {
            "gridcolor": "white",
            "linecolor": "white",
            "ticks": ""
           },
           "bgcolor": "#E5ECF6",
           "caxis": {
            "gridcolor": "white",
            "linecolor": "white",
            "ticks": ""
           }
          },
          "title": {
           "x": 0.05
          },
          "xaxis": {
           "automargin": true,
           "gridcolor": "white",
           "linecolor": "white",
           "ticks": "",
           "title": {
            "standoff": 15
           },
           "zerolinecolor": "white",
           "zerolinewidth": 2
          },
          "yaxis": {
           "automargin": true,
           "gridcolor": "white",
           "linecolor": "white",
           "ticks": "",
           "title": {
            "standoff": 15
           },
           "zerolinecolor": "white",
           "zerolinewidth": 2
          }
         }
        },
        "title": {
         "text": "Correlation absolue entre les variables numériques et les variables de qualité"
        },
        "xaxis": {
         "anchor": "y",
         "domain": [
          0,
          1
         ]
        },
        "yaxis": {
         "anchor": "x",
         "autorange": "reversed",
         "domain": [
          0,
          1
         ],
         "title": {
          "text": "column"
         }
        }
       }
      }
     },
     "metadata": {},
     "output_type": "display_data"
    }
   ],
   "source": [
    "import plotly.express as px\n",
    "\n",
    "target_vars = [\"Charpy_toughness\", \"Elongation\", \"UTS\", \"Yield_strength\"]\n",
    "\n",
    "num_cols = df.select_dtypes(include=[np.number]).columns.tolist()\n",
    "\n",
    "corrs = df[num_cols].corr(method='pearson')[target_vars]\n",
    "\n",
    "# Tri des corrélations en fonction de la quantité de missing values\n",
    "corrs_sorted = corrs.reindex(miss_df['column'])\n",
    "\n",
    "\n",
    "print(\"=== Corrélation absolue avec les variables de qualité ===\")\n",
    "print(corrs_sorted.round(3))\n",
    "fig = px.imshow(\n",
    "    corrs_sorted,\n",
    "    aspect=\"auto\",\n",
    "    color_continuous_scale=\"RdBu_r\",\n",
    "    title=\"Correlation absolue entre les variables numériques et les variables de qualité\"\n",
    ")\n",
    "fig.show()"
   ]
  },
  {
   "cell_type": "markdown",
   "id": "f6abba05",
   "metadata": {},
   "source": [
    "Suite à cette étude, nous élimonons les colonnes suivantes :"
   ]
  },
  {
   "cell_type": "code",
   "execution_count": 14,
   "id": "82fb601a",
   "metadata": {},
   "outputs": [],
   "source": [
    "COLS_TO_DROP = [\"FATT50\", \"W\", \"Ferrite_carbide\", \"Martensite\", \"Ferrite_2nd_phase\", \"Acicular_ferrite\", \n",
    "                \"Primary_ferrite\", \"Co\", \"Hardness\", \"As\", \"Sb\", \"Sn\", \"B\", \"Cu\"]\n",
    "df = df.drop(columns=COLS_TO_DROP)"
   ]
  },
  {
   "cell_type": "code",
   "execution_count": 15,
   "id": "1d3cbbd3",
   "metadata": {},
   "outputs": [
    {
     "name": "stdout",
     "output_type": "stream",
     "text": [
      "<class 'pandas.core.frame.DataFrame'>\n",
      "RangeIndex: 1652 entries, 0 to 1651\n",
      "Data columns (total 29 columns):\n",
      " #   Column            Non-Null Count  Dtype  \n",
      "---  ------            --------------  -----  \n",
      " 0   C                 1652 non-null   float64\n",
      " 1   Si                1652 non-null   float64\n",
      " 2   Mn                1652 non-null   float64\n",
      " 3   S                 1648 non-null   float64\n",
      " 4   P                 1642 non-null   float64\n",
      " 5   Ni                697 non-null    float64\n",
      " 6   Cr                784 non-null    float64\n",
      " 7   Mo                793 non-null    float64\n",
      " 8   V                 928 non-null    float64\n",
      " 9   O                 1256 non-null   float64\n",
      " 10  Ti                935 non-null    float64\n",
      " 11  N                 1242 non-null   float64\n",
      " 12  Al                905 non-null    float64\n",
      " 13  Nb                752 non-null    float64\n",
      " 14  Current           1404 non-null   float64\n",
      " 15  Voltage           1404 non-null   float64\n",
      " 16  AC_DC             1437 non-null   object \n",
      " 17  Polarity          1496 non-null   object \n",
      " 18  Heat_input        1652 non-null   float64\n",
      " 19  Interpass_temp    1652 non-null   int64  \n",
      " 20  Weld_type         1652 non-null   object \n",
      " 21  PWHT_temp         1639 non-null   float64\n",
      " 22  PWHT_time         1639 non-null   float64\n",
      " 23  Yield_strength    780 non-null    float64\n",
      " 24  UTS               738 non-null    float64\n",
      " 25  Elongation        700 non-null    float64\n",
      " 26  RA                705 non-null    float64\n",
      " 27  Charpy_temp       879 non-null    float64\n",
      " 28  Charpy_toughness  879 non-null    float64\n",
      "dtypes: float64(25), int64(1), object(3)\n",
      "memory usage: 374.4+ KB\n"
     ]
    }
   ],
   "source": [
    "df.info()"
   ]
  },
  {
   "cell_type": "markdown",
   "id": "d0001146",
   "metadata": {},
   "source": [
    "D'après le même papier scientifique, nous pouvons aussi remplacer les valeurs vides de certaines colonnes par 0."
   ]
  },
  {
   "cell_type": "markdown",
   "id": "60b1e54a",
   "metadata": {},
   "source": [
    "Ensuite, pour remplir les autres colonnes, nous utilisons un KNNImputer de la bibliothèque sklearn, de sorte à peupler notre dataset avec des valeurs potentiellement plus proches de la réalité que par des transformation utilisant la médiane ou la moyenne de l'ensemble du dataset."
   ]
  },
  {
   "cell_type": "markdown",
   "id": "55a7d057",
   "metadata": {},
   "source": [
    "Pour être en mesure d'évaluer la qualité de notre modèle, nous séparons tout de suite le dataset en 2 (un set pour le train et un set pour le test). Ainsi, nous remplirons uniquement les valeurs manquantes pour le dataset de train à l'aide d'un KNN."
   ]
  },
  {
   "cell_type": "code",
   "execution_count": 16,
   "id": "4d5dc72f",
   "metadata": {},
   "outputs": [
    {
     "name": "stdout",
     "output_type": "stream",
     "text": [
      "(331, 29)\n",
      "(1321, 29)\n",
      "<class 'pandas.core.frame.DataFrame'>\n",
      "Index: 1321 entries, 306 to 1126\n",
      "Data columns (total 29 columns):\n",
      " #   Column            Non-Null Count  Dtype  \n",
      "---  ------            --------------  -----  \n",
      " 0   C                 1321 non-null   float64\n",
      " 1   Si                1321 non-null   float64\n",
      " 2   Mn                1321 non-null   float64\n",
      " 3   S                 1317 non-null   float64\n",
      " 4   P                 1313 non-null   float64\n",
      " 5   Ni                570 non-null    float64\n",
      " 6   Cr                633 non-null    float64\n",
      " 7   Mo                643 non-null    float64\n",
      " 8   V                 745 non-null    float64\n",
      " 9   O                 1009 non-null   float64\n",
      " 10  Ti                737 non-null    float64\n",
      " 11  N                 1003 non-null   float64\n",
      " 12  Al                726 non-null    float64\n",
      " 13  Nb                602 non-null    float64\n",
      " 14  Current           1115 non-null   float64\n",
      " 15  Voltage           1115 non-null   float64\n",
      " 16  AC_DC             1138 non-null   object \n",
      " 17  Polarity          1190 non-null   object \n",
      " 18  Heat_input        1321 non-null   float64\n",
      " 19  Interpass_temp    1321 non-null   int64  \n",
      " 20  Weld_type         1321 non-null   object \n",
      " 21  PWHT_temp         1314 non-null   float64\n",
      " 22  PWHT_time         1314 non-null   float64\n",
      " 23  Yield_strength    613 non-null    float64\n",
      " 24  UTS               589 non-null    float64\n",
      " 25  Elongation        553 non-null    float64\n",
      " 26  RA                555 non-null    float64\n",
      " 27  Charpy_temp       708 non-null    float64\n",
      " 28  Charpy_toughness  708 non-null    float64\n",
      "dtypes: float64(25), int64(1), object(3)\n",
      "memory usage: 309.6+ KB\n"
     ]
    }
   ],
   "source": [
    "from sklearn.model_selection import train_test_split\n",
    "\n",
    "df_train, df_test = train_test_split(df,random_state=42,train_size=0.8)\n",
    "\n",
    "print(df_test.shape)\n",
    "print(df_train.shape)\n",
    "\n",
    "df_train.info()"
   ]
  },
  {
   "cell_type": "code",
   "execution_count": 17,
   "id": "2774894c",
   "metadata": {},
   "outputs": [],
   "source": [
    "impurity_elements = [\"P\", \"S\"]\n",
    "deliberate_elements = [\"Mn\", \"Ni\", \"Cr\", \"Mo\"]\n",
    "\n",
    "for col in impurity_elements + deliberate_elements:\n",
    "    df_train[col] = pd.to_numeric(df_train[col], errors='coerce')\n",
    "\n",
    "# Add indicators\n",
    "for col in impurity_elements + deliberate_elements:\n",
    "    df_train[f\"{col}_was_na\"] = df_train[col].isna().astype(int)\n",
    "\n",
    "# Apply domain-specific fills\n",
    "for col in impurity_elements:\n",
    "    df_train[col] = df_train[col].fillna(df_train[col].mean())\n",
    "for col in deliberate_elements:\n",
    "    df_train[col] = df_train[col].fillna(0)"
   ]
  },
  {
   "cell_type": "code",
   "execution_count": 18,
   "id": "bd1bfbd9",
   "metadata": {},
   "outputs": [
    {
     "name": "stdout",
     "output_type": "stream",
     "text": [
      "Nombre total de valeurs manquantes avant traitement : 8044\n"
     ]
    },
    {
     "data": {
      "application/vnd.plotly.v1+json": {
       "config": {
        "plotlyServerURL": "https://plotly.com"
       },
       "data": [
        {
         "bingroup": "x",
         "hovertemplate": "Ti=%{x}<br>count=%{y}<extra></extra>",
         "legendgroup": "",
         "marker": {
          "color": "#636efa",
          "pattern": {
           "shape": ""
          }
         },
         "name": "",
         "nbinsx": 30,
         "orientation": "v",
         "showlegend": false,
         "type": "histogram",
         "x": {
          "bdata": "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",
          "dtype": "f8"
         },
         "xaxis": "x",
         "yaxis": "y"
        }
       ],
       "layout": {
        "barmode": "relative",
        "legend": {
         "tracegroupgap": 0
        },
        "template": {
         "data": {
          "bar": [
           {
            "error_x": {
             "color": "#2a3f5f"
            },
            "error_y": {
             "color": "#2a3f5f"
            },
            "marker": {
             "line": {
              "color": "#E5ECF6",
              "width": 0.5
             },
             "pattern": {
              "fillmode": "overlay",
              "size": 10,
              "solidity": 0.2
             }
            },
            "type": "bar"
           }
          ],
          "barpolar": [
           {
            "marker": {
             "line": {
              "color": "#E5ECF6",
              "width": 0.5
             },
             "pattern": {
              "fillmode": "overlay",
              "size": 10,
              "solidity": 0.2
             }
            },
            "type": "barpolar"
           }
          ],
          "carpet": [
           {
            "aaxis": {
             "endlinecolor": "#2a3f5f",
             "gridcolor": "white",
             "linecolor": "white",
             "minorgridcolor": "white",
             "startlinecolor": "#2a3f5f"
            },
            "baxis": {
             "endlinecolor": "#2a3f5f",
             "gridcolor": "white",
             "linecolor": "white",
             "minorgridcolor": "white",
             "startlinecolor": "#2a3f5f"
            },
            "type": "carpet"
           }
          ],
          "choropleth": [
           {
            "colorbar": {
             "outlinewidth": 0,
             "ticks": ""
            },
            "type": "choropleth"
           }
          ],
          "contour": [
           {
            "colorbar": {
             "outlinewidth": 0,
             "ticks": ""
            },
            "colorscale": [
             [
              0,
              "#0d0887"
             ],
             [
              0.1111111111111111,
              "#46039f"
             ],
             [
              0.2222222222222222,
              "#7201a8"
             ],
             [
              0.3333333333333333,
              "#9c179e"
             ],
             [
              0.4444444444444444,
              "#bd3786"
             ],
             [
              0.5555555555555556,
              "#d8576b"
             ],
             [
              0.6666666666666666,
              "#ed7953"
             ],
             [
              0.7777777777777778,
              "#fb9f3a"
             ],
             [
              0.8888888888888888,
              "#fdca26"
             ],
             [
              1,
              "#f0f921"
             ]
            ],
            "type": "contour"
           }
          ],
          "contourcarpet": [
           {
            "colorbar": {
             "outlinewidth": 0,
             "ticks": ""
            },
            "type": "contourcarpet"
           }
          ],
          "heatmap": [
           {
            "colorbar": {
             "outlinewidth": 0,
             "ticks": ""
            },
            "colorscale": [
             [
              0,
              "#0d0887"
             ],
             [
              0.1111111111111111,
              "#46039f"
             ],
             [
              0.2222222222222222,
              "#7201a8"
             ],
             [
              0.3333333333333333,
              "#9c179e"
             ],
             [
              0.4444444444444444,
              "#bd3786"
             ],
             [
              0.5555555555555556,
              "#d8576b"
             ],
             [
              0.6666666666666666,
              "#ed7953"
             ],
             [
              0.7777777777777778,
              "#fb9f3a"
             ],
             [
              0.8888888888888888,
              "#fdca26"
             ],
             [
              1,
              "#f0f921"
             ]
            ],
            "type": "heatmap"
           }
          ],
          "histogram": [
           {
            "marker": {
             "pattern": {
              "fillmode": "overlay",
              "size": 10,
              "solidity": 0.2
             }
            },
            "type": "histogram"
           }
          ],
          "histogram2d": [
           {
            "colorbar": {
             "outlinewidth": 0,
             "ticks": ""
            },
            "colorscale": [
             [
              0,
              "#0d0887"
             ],
             [
              0.1111111111111111,
              "#46039f"
             ],
             [
              0.2222222222222222,
              "#7201a8"
             ],
             [
              0.3333333333333333,
              "#9c179e"
             ],
             [
              0.4444444444444444,
              "#bd3786"
             ],
             [
              0.5555555555555556,
              "#d8576b"
             ],
             [
              0.6666666666666666,
              "#ed7953"
             ],
             [
              0.7777777777777778,
              "#fb9f3a"
             ],
             [
              0.8888888888888888,
              "#fdca26"
             ],
             [
              1,
              "#f0f921"
             ]
            ],
            "type": "histogram2d"
           }
          ],
          "histogram2dcontour": [
           {
            "colorbar": {
             "outlinewidth": 0,
             "ticks": ""
            },
            "colorscale": [
             [
              0,
              "#0d0887"
             ],
             [
              0.1111111111111111,
              "#46039f"
             ],
             [
              0.2222222222222222,
              "#7201a8"
             ],
             [
              0.3333333333333333,
              "#9c179e"
             ],
             [
              0.4444444444444444,
              "#bd3786"
             ],
             [
              0.5555555555555556,
              "#d8576b"
             ],
             [
              0.6666666666666666,
              "#ed7953"
             ],
             [
              0.7777777777777778,
              "#fb9f3a"
             ],
             [
              0.8888888888888888,
              "#fdca26"
             ],
             [
              1,
              "#f0f921"
             ]
            ],
            "type": "histogram2dcontour"
           }
          ],
          "mesh3d": [
           {
            "colorbar": {
             "outlinewidth": 0,
             "ticks": ""
            },
            "type": "mesh3d"
           }
          ],
          "parcoords": [
           {
            "line": {
             "colorbar": {
              "outlinewidth": 0,
              "ticks": ""
             }
            },
            "type": "parcoords"
           }
          ],
          "pie": [
           {
            "automargin": true,
            "type": "pie"
           }
          ],
          "scatter": [
           {
            "fillpattern": {
             "fillmode": "overlay",
             "size": 10,
             "solidity": 0.2
            },
            "type": "scatter"
           }
          ],
          "scatter3d": [
           {
            "line": {
             "colorbar": {
              "outlinewidth": 0,
              "ticks": ""
             }
            },
            "marker": {
             "colorbar": {
              "outlinewidth": 0,
              "ticks": ""
             }
            },
            "type": "scatter3d"
           }
          ],
          "scattercarpet": [
           {
            "marker": {
             "colorbar": {
              "outlinewidth": 0,
              "ticks": ""
             }
            },
            "type": "scattercarpet"
           }
          ],
          "scattergeo": [
           {
            "marker": {
             "colorbar": {
              "outlinewidth": 0,
              "ticks": ""
             }
            },
            "type": "scattergeo"
           }
          ],
          "scattergl": [
           {
            "marker": {
             "colorbar": {
              "outlinewidth": 0,
              "ticks": ""
             }
            },
            "type": "scattergl"
           }
          ],
          "scattermap": [
           {
            "marker": {
             "colorbar": {
              "outlinewidth": 0,
              "ticks": ""
             }
            },
            "type": "scattermap"
           }
          ],
          "scattermapbox": [
           {
            "marker": {
             "colorbar": {
              "outlinewidth": 0,
              "ticks": ""
             }
            },
            "type": "scattermapbox"
           }
          ],
          "scatterpolar": [
           {
            "marker": {
             "colorbar": {
              "outlinewidth": 0,
              "ticks": ""
             }
            },
            "type": "scatterpolar"
           }
          ],
          "scatterpolargl": [
           {
            "marker": {
             "colorbar": {
              "outlinewidth": 0,
              "ticks": ""
             }
            },
            "type": "scatterpolargl"
           }
          ],
          "scatterternary": [
           {
            "marker": {
             "colorbar": {
              "outlinewidth": 0,
              "ticks": ""
             }
            },
            "type": "scatterternary"
           }
          ],
          "surface": [
           {
            "colorbar": {
             "outlinewidth": 0,
             "ticks": ""
            },
            "colorscale": [
             [
              0,
              "#0d0887"
             ],
             [
              0.1111111111111111,
              "#46039f"
             ],
             [
              0.2222222222222222,
              "#7201a8"
             ],
             [
              0.3333333333333333,
              "#9c179e"
             ],
             [
              0.4444444444444444,
              "#bd3786"
             ],
             [
              0.5555555555555556,
              "#d8576b"
             ],
             [
              0.6666666666666666,
              "#ed7953"
             ],
             [
              0.7777777777777778,
              "#fb9f3a"
             ],
             [
              0.8888888888888888,
              "#fdca26"
             ],
             [
              1,
              "#f0f921"
             ]
            ],
            "type": "surface"
           }
          ],
          "table": [
           {
            "cells": {
             "fill": {
              "color": "#EBF0F8"
             },
             "line": {
              "color": "white"
             }
            },
            "header": {
             "fill": {
              "color": "#C8D4E3"
             },
             "line": {
              "color": "white"
             }
            },
            "type": "table"
           }
          ]
         },
         "layout": {
          "annotationdefaults": {
           "arrowcolor": "#2a3f5f",
           "arrowhead": 0,
           "arrowwidth": 1
          },
          "autotypenumbers": "strict",
          "coloraxis": {
           "colorbar": {
            "outlinewidth": 0,
            "ticks": ""
           }
          },
          "colorscale": {
           "diverging": [
            [
             0,
             "#8e0152"
            ],
            [
             0.1,
             "#c51b7d"
            ],
            [
             0.2,
             "#de77ae"
            ],
            [
             0.3,
             "#f1b6da"
            ],
            [
             0.4,
             "#fde0ef"
            ],
            [
             0.5,
             "#f7f7f7"
            ],
            [
             0.6,
             "#e6f5d0"
            ],
            [
             0.7,
             "#b8e186"
            ],
            [
             0.8,
             "#7fbc41"
            ],
            [
             0.9,
             "#4d9221"
            ],
            [
             1,
             "#276419"
            ]
           ],
           "sequential": [
            [
             0,
             "#0d0887"
            ],
            [
             0.1111111111111111,
             "#46039f"
            ],
            [
             0.2222222222222222,
             "#7201a8"
            ],
            [
             0.3333333333333333,
             "#9c179e"
            ],
            [
             0.4444444444444444,
             "#bd3786"
            ],
            [
             0.5555555555555556,
             "#d8576b"
            ],
            [
             0.6666666666666666,
             "#ed7953"
            ],
            [
             0.7777777777777778,
             "#fb9f3a"
            ],
            [
             0.8888888888888888,
             "#fdca26"
            ],
            [
             1,
             "#f0f921"
            ]
           ],
           "sequentialminus": [
            [
             0,
             "#0d0887"
            ],
            [
             0.1111111111111111,
             "#46039f"
            ],
            [
             0.2222222222222222,
             "#7201a8"
            ],
            [
             0.3333333333333333,
             "#9c179e"
            ],
            [
             0.4444444444444444,
             "#bd3786"
            ],
            [
             0.5555555555555556,
             "#d8576b"
            ],
            [
             0.6666666666666666,
             "#ed7953"
            ],
            [
             0.7777777777777778,
             "#fb9f3a"
            ],
            [
             0.8888888888888888,
             "#fdca26"
            ],
            [
             1,
             "#f0f921"
            ]
           ]
          },
          "colorway": [
           "#636efa",
           "#EF553B",
           "#00cc96",
           "#ab63fa",
           "#FFA15A",
           "#19d3f3",
           "#FF6692",
           "#B6E880",
           "#FF97FF",
           "#FECB52"
          ],
          "font": {
           "color": "#2a3f5f"
          },
          "geo": {
           "bgcolor": "white",
           "lakecolor": "white",
           "landcolor": "#E5ECF6",
           "showlakes": true,
           "showland": true,
           "subunitcolor": "white"
          },
          "hoverlabel": {
           "align": "left"
          },
          "hovermode": "closest",
          "mapbox": {
           "style": "light"
          },
          "paper_bgcolor": "white",
          "plot_bgcolor": "#E5ECF6",
          "polar": {
           "angularaxis": {
            "gridcolor": "white",
            "linecolor": "white",
            "ticks": ""
           },
           "bgcolor": "#E5ECF6",
           "radialaxis": {
            "gridcolor": "white",
            "linecolor": "white",
            "ticks": ""
           }
          },
          "scene": {
           "xaxis": {
            "backgroundcolor": "#E5ECF6",
            "gridcolor": "white",
            "gridwidth": 2,
            "linecolor": "white",
            "showbackground": true,
            "ticks": "",
            "zerolinecolor": "white"
           },
           "yaxis": {
            "backgroundcolor": "#E5ECF6",
            "gridcolor": "white",
            "gridwidth": 2,
            "linecolor": "white",
            "showbackground": true,
            "ticks": "",
            "zerolinecolor": "white"
           },
           "zaxis": {
            "backgroundcolor": "#E5ECF6",
            "gridcolor": "white",
            "gridwidth": 2,
            "linecolor": "white",
            "showbackground": true,
            "ticks": "",
            "zerolinecolor": "white"
           }
          },
          "shapedefaults": {
           "line": {
            "color": "#2a3f5f"
           }
          },
          "ternary": {
           "aaxis": {
            "gridcolor": "white",
            "linecolor": "white",
            "ticks": ""
           },
           "baxis": {
            "gridcolor": "white",
            "linecolor": "white",
            "ticks": ""
           },
           "bgcolor": "#E5ECF6",
           "caxis": {
            "gridcolor": "white",
            "linecolor": "white",
            "ticks": ""
           }
          },
          "title": {
           "x": 0.05
          },
          "xaxis": {
           "automargin": true,
           "gridcolor": "white",
           "linecolor": "white",
           "ticks": "",
           "title": {
            "standoff": 15
           },
           "zerolinecolor": "white",
           "zerolinewidth": 2
          },
          "yaxis": {
           "automargin": true,
           "gridcolor": "white",
           "linecolor": "white",
           "ticks": "",
           "title": {
            "standoff": 15
           },
           "zerolinecolor": "white",
           "zerolinewidth": 2
          }
         }
        },
        "title": {
         "text": "Ti before imputation"
        },
        "xaxis": {
         "anchor": "y",
         "domain": [
          0,
          1
         ],
         "title": {
          "text": "Ti"
         }
        },
        "yaxis": {
         "anchor": "x",
         "domain": [
          0,
          1
         ],
         "title": {
          "text": "count"
         }
        }
       }
      }
     },
     "metadata": {},
     "output_type": "display_data"
    },
    {
     "name": "stdout",
     "output_type": "stream",
     "text": [
      "Index(['AC_DC', 'Polarity', 'Weld_type'], dtype='object')\n",
      "<class 'pandas.core.frame.DataFrame'>\n",
      "Index: 1321 entries, 306 to 1126\n",
      "Data columns (total 35 columns):\n",
      " #   Column            Non-Null Count  Dtype  \n",
      "---  ------            --------------  -----  \n",
      " 0   C                 1321 non-null   float64\n",
      " 1   Si                1321 non-null   float64\n",
      " 2   Mn                1321 non-null   float64\n",
      " 3   S                 1321 non-null   float64\n",
      " 4   P                 1321 non-null   float64\n",
      " 5   Ni                1321 non-null   float64\n",
      " 6   Cr                1321 non-null   float64\n",
      " 7   Mo                1321 non-null   float64\n",
      " 8   V                 1321 non-null   float64\n",
      " 9   O                 1321 non-null   float64\n",
      " 10  Ti                1321 non-null   float64\n",
      " 11  N                 1321 non-null   float64\n",
      " 12  Al                1321 non-null   float64\n",
      " 13  Nb                1321 non-null   float64\n",
      " 14  Current           1321 non-null   float64\n",
      " 15  Voltage           1321 non-null   float64\n",
      " 16  AC_DC             1321 non-null   object \n",
      " 17  Polarity          1321 non-null   object \n",
      " 18  Heat_input        1321 non-null   float64\n",
      " 19  Interpass_temp    1321 non-null   float64\n",
      " 20  Weld_type         1321 non-null   object \n",
      " 21  PWHT_temp         1321 non-null   float64\n",
      " 22  PWHT_time         1321 non-null   float64\n",
      " 23  Yield_strength    1321 non-null   float64\n",
      " 24  UTS               589 non-null    float64\n",
      " 25  Elongation        553 non-null    float64\n",
      " 26  RA                1321 non-null   float64\n",
      " 27  Charpy_temp       1321 non-null   float64\n",
      " 28  Charpy_toughness  708 non-null    float64\n",
      " 29  P_was_na          1321 non-null   float64\n",
      " 30  S_was_na          1321 non-null   float64\n",
      " 31  Mn_was_na         1321 non-null   float64\n",
      " 32  Ni_was_na         1321 non-null   float64\n",
      " 33  Cr_was_na         1321 non-null   float64\n",
      " 34  Mo_was_na         1321 non-null   float64\n",
      "dtypes: float64(32), object(3)\n",
      "memory usage: 371.5+ KB\n",
      "None\n",
      "Nombre total de valeurs manquantes après traitement : 2113\n"
     ]
    },
    {
     "data": {
      "application/vnd.plotly.v1+json": {
       "config": {
        "plotlyServerURL": "https://plotly.com"
       },
       "data": [
        {
         "bingroup": "x",
         "hovertemplate": "Ti=%{x}<br>count=%{y}<extra></extra>",
         "legendgroup": "",
         "marker": {
          "color": "#636efa",
          "pattern": {
           "shape": ""
          }
         },
         "name": "",
         "nbinsx": 30,
         "orientation": "v",
         "showlegend": false,
         "type": "histogram",
         "x": {
          "bdata": "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",
          "dtype": "f8"
         },
         "xaxis": "x",
         "yaxis": "y"
        }
       ],
       "layout": {
        "barmode": "relative",
        "legend": {
         "tracegroupgap": 0
        },
        "template": {
         "data": {
          "bar": [
           {
            "error_x": {
             "color": "#2a3f5f"
            },
            "error_y": {
             "color": "#2a3f5f"
            },
            "marker": {
             "line": {
              "color": "#E5ECF6",
              "width": 0.5
             },
             "pattern": {
              "fillmode": "overlay",
              "size": 10,
              "solidity": 0.2
             }
            },
            "type": "bar"
           }
          ],
          "barpolar": [
           {
            "marker": {
             "line": {
              "color": "#E5ECF6",
              "width": 0.5
             },
             "pattern": {
              "fillmode": "overlay",
              "size": 10,
              "solidity": 0.2
             }
            },
            "type": "barpolar"
           }
          ],
          "carpet": [
           {
            "aaxis": {
             "endlinecolor": "#2a3f5f",
             "gridcolor": "white",
             "linecolor": "white",
             "minorgridcolor": "white",
             "startlinecolor": "#2a3f5f"
            },
            "baxis": {
             "endlinecolor": "#2a3f5f",
             "gridcolor": "white",
             "linecolor": "white",
             "minorgridcolor": "white",
             "startlinecolor": "#2a3f5f"
            },
            "type": "carpet"
           }
          ],
          "choropleth": [
           {
            "colorbar": {
             "outlinewidth": 0,
             "ticks": ""
            },
            "type": "choropleth"
           }
          ],
          "contour": [
           {
            "colorbar": {
             "outlinewidth": 0,
             "ticks": ""
            },
            "colorscale": [
             [
              0,
              "#0d0887"
             ],
             [
              0.1111111111111111,
              "#46039f"
             ],
             [
              0.2222222222222222,
              "#7201a8"
             ],
             [
              0.3333333333333333,
              "#9c179e"
             ],
             [
              0.4444444444444444,
              "#bd3786"
             ],
             [
              0.5555555555555556,
              "#d8576b"
             ],
             [
              0.6666666666666666,
              "#ed7953"
             ],
             [
              0.7777777777777778,
              "#fb9f3a"
             ],
             [
              0.8888888888888888,
              "#fdca26"
             ],
             [
              1,
              "#f0f921"
             ]
            ],
            "type": "contour"
           }
          ],
          "contourcarpet": [
           {
            "colorbar": {
             "outlinewidth": 0,
             "ticks": ""
            },
            "type": "contourcarpet"
           }
          ],
          "heatmap": [
           {
            "colorbar": {
             "outlinewidth": 0,
             "ticks": ""
            },
            "colorscale": [
             [
              0,
              "#0d0887"
             ],
             [
              0.1111111111111111,
              "#46039f"
             ],
             [
              0.2222222222222222,
              "#7201a8"
             ],
             [
              0.3333333333333333,
              "#9c179e"
             ],
             [
              0.4444444444444444,
              "#bd3786"
             ],
             [
              0.5555555555555556,
              "#d8576b"
             ],
             [
              0.6666666666666666,
              "#ed7953"
             ],
             [
              0.7777777777777778,
              "#fb9f3a"
             ],
             [
              0.8888888888888888,
              "#fdca26"
             ],
             [
              1,
              "#f0f921"
             ]
            ],
            "type": "heatmap"
           }
          ],
          "histogram": [
           {
            "marker": {
             "pattern": {
              "fillmode": "overlay",
              "size": 10,
              "solidity": 0.2
             }
            },
            "type": "histogram"
           }
          ],
          "histogram2d": [
           {
            "colorbar": {
             "outlinewidth": 0,
             "ticks": ""
            },
            "colorscale": [
             [
              0,
              "#0d0887"
             ],
             [
              0.1111111111111111,
              "#46039f"
             ],
             [
              0.2222222222222222,
              "#7201a8"
             ],
             [
              0.3333333333333333,
              "#9c179e"
             ],
             [
              0.4444444444444444,
              "#bd3786"
             ],
             [
              0.5555555555555556,
              "#d8576b"
             ],
             [
              0.6666666666666666,
              "#ed7953"
             ],
             [
              0.7777777777777778,
              "#fb9f3a"
             ],
             [
              0.8888888888888888,
              "#fdca26"
             ],
             [
              1,
              "#f0f921"
             ]
            ],
            "type": "histogram2d"
           }
          ],
          "histogram2dcontour": [
           {
            "colorbar": {
             "outlinewidth": 0,
             "ticks": ""
            },
            "colorscale": [
             [
              0,
              "#0d0887"
             ],
             [
              0.1111111111111111,
              "#46039f"
             ],
             [
              0.2222222222222222,
              "#7201a8"
             ],
             [
              0.3333333333333333,
              "#9c179e"
             ],
             [
              0.4444444444444444,
              "#bd3786"
             ],
             [
              0.5555555555555556,
              "#d8576b"
             ],
             [
              0.6666666666666666,
              "#ed7953"
             ],
             [
              0.7777777777777778,
              "#fb9f3a"
             ],
             [
              0.8888888888888888,
              "#fdca26"
             ],
             [
              1,
              "#f0f921"
             ]
            ],
            "type": "histogram2dcontour"
           }
          ],
          "mesh3d": [
           {
            "colorbar": {
             "outlinewidth": 0,
             "ticks": ""
            },
            "type": "mesh3d"
           }
          ],
          "parcoords": [
           {
            "line": {
             "colorbar": {
              "outlinewidth": 0,
              "ticks": ""
             }
            },
            "type": "parcoords"
           }
          ],
          "pie": [
           {
            "automargin": true,
            "type": "pie"
           }
          ],
          "scatter": [
           {
            "fillpattern": {
             "fillmode": "overlay",
             "size": 10,
             "solidity": 0.2
            },
            "type": "scatter"
           }
          ],
          "scatter3d": [
           {
            "line": {
             "colorbar": {
              "outlinewidth": 0,
              "ticks": ""
             }
            },
            "marker": {
             "colorbar": {
              "outlinewidth": 0,
              "ticks": ""
             }
            },
            "type": "scatter3d"
           }
          ],
          "scattercarpet": [
           {
            "marker": {
             "colorbar": {
              "outlinewidth": 0,
              "ticks": ""
             }
            },
            "type": "scattercarpet"
           }
          ],
          "scattergeo": [
           {
            "marker": {
             "colorbar": {
              "outlinewidth": 0,
              "ticks": ""
             }
            },
            "type": "scattergeo"
           }
          ],
          "scattergl": [
           {
            "marker": {
             "colorbar": {
              "outlinewidth": 0,
              "ticks": ""
             }
            },
            "type": "scattergl"
           }
          ],
          "scattermap": [
           {
            "marker": {
             "colorbar": {
              "outlinewidth": 0,
              "ticks": ""
             }
            },
            "type": "scattermap"
           }
          ],
          "scattermapbox": [
           {
            "marker": {
             "colorbar": {
              "outlinewidth": 0,
              "ticks": ""
             }
            },
            "type": "scattermapbox"
           }
          ],
          "scatterpolar": [
           {
            "marker": {
             "colorbar": {
              "outlinewidth": 0,
              "ticks": ""
             }
            },
            "type": "scatterpolar"
           }
          ],
          "scatterpolargl": [
           {
            "marker": {
             "colorbar": {
              "outlinewidth": 0,
              "ticks": ""
             }
            },
            "type": "scatterpolargl"
           }
          ],
          "scatterternary": [
           {
            "marker": {
             "colorbar": {
              "outlinewidth": 0,
              "ticks": ""
             }
            },
            "type": "scatterternary"
           }
          ],
          "surface": [
           {
            "colorbar": {
             "outlinewidth": 0,
             "ticks": ""
            },
            "colorscale": [
             [
              0,
              "#0d0887"
             ],
             [
              0.1111111111111111,
              "#46039f"
             ],
             [
              0.2222222222222222,
              "#7201a8"
             ],
             [
              0.3333333333333333,
              "#9c179e"
             ],
             [
              0.4444444444444444,
              "#bd3786"
             ],
             [
              0.5555555555555556,
              "#d8576b"
             ],
             [
              0.6666666666666666,
              "#ed7953"
             ],
             [
              0.7777777777777778,
              "#fb9f3a"
             ],
             [
              0.8888888888888888,
              "#fdca26"
             ],
             [
              1,
              "#f0f921"
             ]
            ],
            "type": "surface"
           }
          ],
          "table": [
           {
            "cells": {
             "fill": {
              "color": "#EBF0F8"
             },
             "line": {
              "color": "white"
             }
            },
            "header": {
             "fill": {
              "color": "#C8D4E3"
             },
             "line": {
              "color": "white"
             }
            },
            "type": "table"
           }
          ]
         },
         "layout": {
          "annotationdefaults": {
           "arrowcolor": "#2a3f5f",
           "arrowhead": 0,
           "arrowwidth": 1
          },
          "autotypenumbers": "strict",
          "coloraxis": {
           "colorbar": {
            "outlinewidth": 0,
            "ticks": ""
           }
          },
          "colorscale": {
           "diverging": [
            [
             0,
             "#8e0152"
            ],
            [
             0.1,
             "#c51b7d"
            ],
            [
             0.2,
             "#de77ae"
            ],
            [
             0.3,
             "#f1b6da"
            ],
            [
             0.4,
             "#fde0ef"
            ],
            [
             0.5,
             "#f7f7f7"
            ],
            [
             0.6,
             "#e6f5d0"
            ],
            [
             0.7,
             "#b8e186"
            ],
            [
             0.8,
             "#7fbc41"
            ],
            [
             0.9,
             "#4d9221"
            ],
            [
             1,
             "#276419"
            ]
           ],
           "sequential": [
            [
             0,
             "#0d0887"
            ],
            [
             0.1111111111111111,
             "#46039f"
            ],
            [
             0.2222222222222222,
             "#7201a8"
            ],
            [
             0.3333333333333333,
             "#9c179e"
            ],
            [
             0.4444444444444444,
             "#bd3786"
            ],
            [
             0.5555555555555556,
             "#d8576b"
            ],
            [
             0.6666666666666666,
             "#ed7953"
            ],
            [
             0.7777777777777778,
             "#fb9f3a"
            ],
            [
             0.8888888888888888,
             "#fdca26"
            ],
            [
             1,
             "#f0f921"
            ]
           ],
           "sequentialminus": [
            [
             0,
             "#0d0887"
            ],
            [
             0.1111111111111111,
             "#46039f"
            ],
            [
             0.2222222222222222,
             "#7201a8"
            ],
            [
             0.3333333333333333,
             "#9c179e"
            ],
            [
             0.4444444444444444,
             "#bd3786"
            ],
            [
             0.5555555555555556,
             "#d8576b"
            ],
            [
             0.6666666666666666,
             "#ed7953"
            ],
            [
             0.7777777777777778,
             "#fb9f3a"
            ],
            [
             0.8888888888888888,
             "#fdca26"
            ],
            [
             1,
             "#f0f921"
            ]
           ]
          },
          "colorway": [
           "#636efa",
           "#EF553B",
           "#00cc96",
           "#ab63fa",
           "#FFA15A",
           "#19d3f3",
           "#FF6692",
           "#B6E880",
           "#FF97FF",
           "#FECB52"
          ],
          "font": {
           "color": "#2a3f5f"
          },
          "geo": {
           "bgcolor": "white",
           "lakecolor": "white",
           "landcolor": "#E5ECF6",
           "showlakes": true,
           "showland": true,
           "subunitcolor": "white"
          },
          "hoverlabel": {
           "align": "left"
          },
          "hovermode": "closest",
          "mapbox": {
           "style": "light"
          },
          "paper_bgcolor": "white",
          "plot_bgcolor": "#E5ECF6",
          "polar": {
           "angularaxis": {
            "gridcolor": "white",
            "linecolor": "white",
            "ticks": ""
           },
           "bgcolor": "#E5ECF6",
           "radialaxis": {
            "gridcolor": "white",
            "linecolor": "white",
            "ticks": ""
           }
          },
          "scene": {
           "xaxis": {
            "backgroundcolor": "#E5ECF6",
            "gridcolor": "white",
            "gridwidth": 2,
            "linecolor": "white",
            "showbackground": true,
            "ticks": "",
            "zerolinecolor": "white"
           },
           "yaxis": {
            "backgroundcolor": "#E5ECF6",
            "gridcolor": "white",
            "gridwidth": 2,
            "linecolor": "white",
            "showbackground": true,
            "ticks": "",
            "zerolinecolor": "white"
           },
           "zaxis": {
            "backgroundcolor": "#E5ECF6",
            "gridcolor": "white",
            "gridwidth": 2,
            "linecolor": "white",
            "showbackground": true,
            "ticks": "",
            "zerolinecolor": "white"
           }
          },
          "shapedefaults": {
           "line": {
            "color": "#2a3f5f"
           }
          },
          "ternary": {
           "aaxis": {
            "gridcolor": "white",
            "linecolor": "white",
            "ticks": ""
           },
           "baxis": {
            "gridcolor": "white",
            "linecolor": "white",
            "ticks": ""
           },
           "bgcolor": "#E5ECF6",
           "caxis": {
            "gridcolor": "white",
            "linecolor": "white",
            "ticks": ""
           }
          },
          "title": {
           "x": 0.05
          },
          "xaxis": {
           "automargin": true,
           "gridcolor": "white",
           "linecolor": "white",
           "ticks": "",
           "title": {
            "standoff": 15
           },
           "zerolinecolor": "white",
           "zerolinewidth": 2
          },
          "yaxis": {
           "automargin": true,
           "gridcolor": "white",
           "linecolor": "white",
           "ticks": "",
           "title": {
            "standoff": 15
           },
           "zerolinecolor": "white",
           "zerolinewidth": 2
          }
         }
        },
        "title": {
         "text": "Ti after imputation"
        },
        "xaxis": {
         "anchor": "y",
         "domain": [
          0,
          1
         ],
         "title": {
          "text": "Ti"
         }
        },
        "yaxis": {
         "anchor": "x",
         "domain": [
          0,
          1
         ],
         "title": {
          "text": "count"
         }
        }
       }
      }
     },
     "metadata": {},
     "output_type": "display_data"
    }
   ],
   "source": [
    "#uts before imputation :\n",
    "from sklearn.impute import KNNImputer\n",
    "from sklearn.pipeline import Pipeline\n",
    "from sklearn.preprocessing import StandardScaler\n",
    "\n",
    "print(\"Nombre total de valeurs manquantes avant traitement :\", df_train.isna().sum().sum())\n",
    "\n",
    "px.histogram(df_train, x=\"Ti\", nbins=30, title=\"Ti before imputation\").show()\n",
    "\n",
    "# Colonnes à exclure du traitement\n",
    "excluded_cols = [\"Charpy_toughness\", \"Elongation\", \"UTS\"]\n",
    "\n",
    "# Séparation des colonnes numériques et catégorielles\n",
    "num_cols = df_train.select_dtypes(include=[np.number]).columns\n",
    "cat_cols = df_train.select_dtypes(exclude=[np.number]).columns\n",
    "\n",
    "# Colonnes numériques sur lesquelles appliquer le KNNImputer\n",
    "num_cols_to_impute = [col for col in num_cols if col not in excluded_cols]\n",
    "\n",
    "# Création du pipeline\n",
    "pipeline = Pipeline([\n",
    "    ('scaler', StandardScaler()),\n",
    "    ('imputer', KNNImputer(n_neighbors=5))\n",
    "])\n",
    "\n",
    "# Application du pipeline uniquement sur les colonnes sélectionnées\n",
    "df_train[num_cols_to_impute] = pipeline.fit_transform(df_train[num_cols_to_impute])\n",
    "\n",
    "# Remplissage des valeurs manquantes pour les variables catégorielles\n",
    "for col in cat_cols:\n",
    "    df_train[col] = df_train[col].fillna(df_train[col].mode()[0])\n",
    "\n",
    "print(cat_cols)\n",
    "print(df_train.info())\n",
    "# Vérification finale du nombre de valeurs manquantes restantes\n",
    "print(\"Nombre total de valeurs manquantes après traitement :\", df_train.isna().sum().sum())\n",
    "px.histogram(df_train, x=\"Ti\", nbins=30, title=\"Ti after imputation\").show()"
   ]
  },
  {
   "cell_type": "code",
   "execution_count": 19,
   "id": "ec294944",
   "metadata": {},
   "outputs": [
    {
     "name": "stdout",
     "output_type": "stream",
     "text": [
      "<class 'pandas.core.frame.DataFrame'>\n",
      "Index: 1321 entries, 306 to 1126\n",
      "Data columns (total 35 columns):\n",
      " #   Column            Non-Null Count  Dtype  \n",
      "---  ------            --------------  -----  \n",
      " 0   C                 1321 non-null   float64\n",
      " 1   Si                1321 non-null   float64\n",
      " 2   Mn                1321 non-null   float64\n",
      " 3   S                 1321 non-null   float64\n",
      " 4   P                 1321 non-null   float64\n",
      " 5   Ni                1321 non-null   float64\n",
      " 6   Cr                1321 non-null   float64\n",
      " 7   Mo                1321 non-null   float64\n",
      " 8   V                 1321 non-null   float64\n",
      " 9   O                 1321 non-null   float64\n",
      " 10  Ti                1321 non-null   float64\n",
      " 11  N                 1321 non-null   float64\n",
      " 12  Al                1321 non-null   float64\n",
      " 13  Nb                1321 non-null   float64\n",
      " 14  Current           1321 non-null   float64\n",
      " 15  Voltage           1321 non-null   float64\n",
      " 16  AC_DC             1321 non-null   object \n",
      " 17  Polarity          1321 non-null   object \n",
      " 18  Heat_input        1321 non-null   float64\n",
      " 19  Interpass_temp    1321 non-null   float64\n",
      " 20  Weld_type         1321 non-null   object \n",
      " 21  PWHT_temp         1321 non-null   float64\n",
      " 22  PWHT_time         1321 non-null   float64\n",
      " 23  Yield_strength    1321 non-null   float64\n",
      " 24  UTS               589 non-null    float64\n",
      " 25  Elongation        553 non-null    float64\n",
      " 26  RA                1321 non-null   float64\n",
      " 27  Charpy_temp       1321 non-null   float64\n",
      " 28  Charpy_toughness  708 non-null    float64\n",
      " 29  P_was_na          1321 non-null   float64\n",
      " 30  S_was_na          1321 non-null   float64\n",
      " 31  Mn_was_na         1321 non-null   float64\n",
      " 32  Ni_was_na         1321 non-null   float64\n",
      " 33  Cr_was_na         1321 non-null   float64\n",
      " 34  Mo_was_na         1321 non-null   float64\n",
      "dtypes: float64(32), object(3)\n",
      "memory usage: 371.5+ KB\n"
     ]
    }
   ],
   "source": [
    "df_train.info()"
   ]
  },
  {
   "cell_type": "code",
   "execution_count": 20,
   "id": "8da707c6",
   "metadata": {},
   "outputs": [],
   "source": [
    "#convert AC/DC to 1/0\n",
    "df_train['AC_DC'] = df_train['AC_DC'].map({'AC': 1, 'DC': 0})\n",
    "\n",
    "dummy_cols = [c for c in df_train.columns if c.startswith('Polarity_') or c.startswith('Weld_type_')]\n",
    "df_train[dummy_cols] = df_train[dummy_cols].astype(int)"
   ]
  },
  {
   "cell_type": "markdown",
   "id": "a2a62d95",
   "metadata": {},
   "source": [
    "<h3>PCA</h3>\n",
    "\n",
    "Nous réalisons ensuite une PCA pour faire apparaitre quelles sont les features les plus intéressantes pour qualifier la qualité d'une soudure, en excluant les 3 colonnes citées précédemment."
   ]
  },
  {
   "cell_type": "code",
   "execution_count": 21,
   "id": "f6fc0b6a",
   "metadata": {},
   "outputs": [
    {
     "name": "stdout",
     "output_type": "stream",
     "text": [
      "<class 'pandas.core.frame.DataFrame'>\n",
      "Index: 1321 entries, 306 to 1126\n",
      "Data columns (total 35 columns):\n",
      " #   Column            Non-Null Count  Dtype  \n",
      "---  ------            --------------  -----  \n",
      " 0   C                 1321 non-null   float64\n",
      " 1   Si                1321 non-null   float64\n",
      " 2   Mn                1321 non-null   float64\n",
      " 3   S                 1321 non-null   float64\n",
      " 4   P                 1321 non-null   float64\n",
      " 5   Ni                1321 non-null   float64\n",
      " 6   Cr                1321 non-null   float64\n",
      " 7   Mo                1321 non-null   float64\n",
      " 8   V                 1321 non-null   float64\n",
      " 9   O                 1321 non-null   float64\n",
      " 10  Ti                1321 non-null   float64\n",
      " 11  N                 1321 non-null   float64\n",
      " 12  Al                1321 non-null   float64\n",
      " 13  Nb                1321 non-null   float64\n",
      " 14  Current           1321 non-null   float64\n",
      " 15  Voltage           1321 non-null   float64\n",
      " 16  AC_DC             1321 non-null   int64  \n",
      " 17  Polarity          1321 non-null   object \n",
      " 18  Heat_input        1321 non-null   float64\n",
      " 19  Interpass_temp    1321 non-null   float64\n",
      " 20  Weld_type         1321 non-null   object \n",
      " 21  PWHT_temp         1321 non-null   float64\n",
      " 22  PWHT_time         1321 non-null   float64\n",
      " 23  Yield_strength    1321 non-null   float64\n",
      " 24  UTS               589 non-null    float64\n",
      " 25  Elongation        553 non-null    float64\n",
      " 26  RA                1321 non-null   float64\n",
      " 27  Charpy_temp       1321 non-null   float64\n",
      " 28  Charpy_toughness  708 non-null    float64\n",
      " 29  P_was_na          1321 non-null   float64\n",
      " 30  S_was_na          1321 non-null   float64\n",
      " 31  Mn_was_na         1321 non-null   float64\n",
      " 32  Ni_was_na         1321 non-null   float64\n",
      " 33  Cr_was_na         1321 non-null   float64\n",
      " 34  Mo_was_na         1321 non-null   float64\n",
      "dtypes: float64(32), int64(1), object(2)\n",
      "memory usage: 371.5+ KB\n"
     ]
    }
   ],
   "source": [
    "df_train.info()"
   ]
  },
  {
   "cell_type": "code",
   "execution_count": 22,
   "id": "ff8631d4",
   "metadata": {},
   "outputs": [
    {
     "data": {
      "image/png": "[encoded data removed]",
      "text/plain": [
       "<Figure size 640x480 with 1 Axes>"
      ]
     },
     "metadata": {},
     "output_type": "display_data"
    },
    {
     "data": {
      "image/png": "[encoded data removed]",
      "text/plain": [
       "<Figure size 640x480 with 1 Axes>"
      ]
     },
     "metadata": {},
     "output_type": "display_data"
    },
    {
     "data": {
      "image/png": "[encoded data removed]",
      "text/plain": [
       "<Figure size 640x480 with 1 Axes>"
      ]
     },
     "metadata": {},
     "output_type": "display_data"
    },
    {
     "data": {
      "image/png": "[encoded data removed]",
      "text/plain": [
       "<Figure size 800x450 with 1 Axes>"
      ]
     },
     "metadata": {},
     "output_type": "display_data"
    }
   ],
   "source": [
    "import numpy as np\n",
    "import pandas as pd\n",
    "import matplotlib.pyplot as plt\n",
    "from sklearn.preprocessing import StandardScaler\n",
    "from sklearn.decomposition import PCA\n",
    "\n",
    "# -------------------------\n",
    "# 0) Paramètres utilisateur\n",
    "# -------------------------\n",
    "excluded_cols = [\"Charpy_toughness\", \"Elongation\", \"UTS\", \"P_was_na\", \"S_was_na\", \"Mn_was_na\", \"Ni_was_na\", \"Cr_was_na\", \"Mo_was_na\", \"Weld_type_FCA\",\n",
    "                 \"Weld_type_GMAA\", \"Weld_type_GTAA\", \"Weld_type_MMA\", \"Weld_type_NGGMA\", \"Weld_type_NGSAW\", \"Weld_type_SA\", \"Weld_type_SAA\", \n",
    "                 \"Weld_type_ShMA\", \"Weld_type_TSA\", \"Polarity_0\", \"Polarity_+\", \"Polarity_-\"]\n",
    "label_col = None  # (optionnel) nom d'une colonne à afficher comme étiquette sur le scatter PC1–PC2 (ex: \"AlloyID\")\n",
    "n_top_loadings = 15  # nombre de variables les plus contributrices à afficher\n",
    "\n",
    "# -------------------------\n",
    "# 1) Préparation des données\n",
    "# -------------------------\n",
    "num_cols = df_train.select_dtypes(include=[np.number]).columns.tolist()\n",
    "pca_features = [c for c in num_cols if c not in excluded_cols]\n",
    "\n",
    "\n",
    "# Standardisation\n",
    "scaler = StandardScaler()  ## attention on a deja scale\n",
    "X_scaled = scaler.fit_transform(df_train[pca_features])\n",
    "\n",
    "# -------------------------\n",
    "# 2) PCA\n",
    "# -------------------------\n",
    "pca = PCA(n_components=None)\n",
    "X_pca = pca.fit_transform(X_scaled)\n",
    "\n",
    "explained = pca.explained_variance_ratio_\n",
    "cum_explained = np.cumsum(explained)\n",
    "\n",
    "# Noms des composantes et DataFrames utiles\n",
    "pc_names = [f\"PC{i+1}\" for i in range(X_pca.shape[1])]\n",
    "df_scores = pd.DataFrame(X_pca, columns=pc_names, index=df_train.index)\n",
    "loadings = pd.DataFrame(pca.components_.T, index=pca_features, columns=pc_names)\n",
    "\n",
    "# -------------------------\n",
    "# 3) Graphiques\n",
    "# -------------------------\n",
    "\n",
    "# (A) Scree plot — variance expliquée par composante\n",
    "plt.figure()\n",
    "plt.plot(range(1, len(explained) + 1), explained, marker='o')\n",
    "plt.title(\"Scree plot — Variance expliquée par composante\")\n",
    "plt.xlabel(\"Composante principale\")\n",
    "plt.ylabel(\"Part de variance expliquée\")\n",
    "plt.grid(True, linestyle='--', alpha=0.5)\n",
    "plt.tight_layout()\n",
    "plt.show()\n",
    "\n",
    "# (B) Variance expliquée cumulée\n",
    "plt.figure()\n",
    "plt.plot(range(1, len(cum_explained) + 1), cum_explained, marker='o')\n",
    "plt.title(\"Variance expliquée cumulée\")\n",
    "plt.xlabel(\"Composante principale\")\n",
    "plt.ylabel(\"Variance expliquée cumulée\")\n",
    "plt.axhline(0.80, linestyle='--')  # repère 80%\n",
    "plt.axhline(0.90, linestyle='--')  # repère 90%\n",
    "plt.grid(True, linestyle='--', alpha=0.5)\n",
    "plt.tight_layout()\n",
    "plt.show()\n",
    "\n",
    "# (C) Nuage de points PC1 vs PC2\n",
    "plt.figure()\n",
    "plt.scatter(df_scores[\"PC1\"], df_scores[\"PC2\"])\n",
    "plt.title(\"Projection des observations — PC1 vs PC2\")\n",
    "plt.xlabel(f\"PC1 ({explained[0]*100:.1f}% de variance)\")\n",
    "plt.ylabel(f\"PC2 ({explained[1]*100:.1f}% de variance)\")\n",
    "plt.grid(True, linestyle='--', alpha=0.5)\n",
    "\n",
    "\n",
    "\n",
    "plt.tight_layout()\n",
    "plt.show()\n",
    "\n",
    "# (D) Contributions (loadings) — variables les plus importantes sur PC1\n",
    "# On affiche les |coefficients| les plus élevés de PC1\n",
    "pc1_load = loadings[\"PC1\"].abs().sort_values(ascending=False).head(n_top_loadings)\n",
    "vars_to_plot = pc1_load.index.tolist()\n",
    "\n",
    "plt.figure(figsize=(8, max(4, 0.3*len(vars_to_plot))))\n",
    "plt.barh(vars_to_plot[::-1], loadings.loc[vars_to_plot, \"PC1\"][::-1])\n",
    "plt.title(f\"Contributions des variables à PC1 (top {len(vars_to_plot)})\")\n",
    "plt.xlabel(\"Coefficient de chargement (loading)\")\n",
    "plt.ylabel(\"Variables\")\n",
    "plt.tight_layout()\n",
    "plt.show()\n",
    "\n",
    "# -------------------------\n",
    "# 4) (Option) Export des résultats\n",
    "# -------------------------\n",
    "# df_scores.to_csv(\"pca_scores.csv\", index=False)\n",
    "# loadings.to_csv(\"pca_loadings.csv\")\n",
    "\n"
   ]
  }
 ],
 "metadata": {
  "kernelspec": {
   "display_name": "Python 3",
   "language": "python",
   "name": "python3"
  },
  "language_info": {
   "codemirror_mode": {
    "name": "ipython",
    "version": 3
   },
   "file_extension": ".py",
   "mimetype": "text/x-python",
   "name": "python",
   "nbconvert_exporter": "python",
   "pygments_lexer": "ipython3",
   "version": "3.10.11"
  }
 },
 "nbformat": 4,
 "nbformat_minor": 5
}
