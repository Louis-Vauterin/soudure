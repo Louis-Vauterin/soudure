{
 "cells": [
  {
   "cell_type": "markdown",
   "id": "7d0d7147",
   "metadata": {},
   "source": [
    "<h1>Préprocessing</h1>\n",
    "\n",
    "<h3>Lecture du dataset</h3>\n",
    "\n",
    "Dans un premier temps, nous ouvrons simplement le fichier 'welddb.data', et nous nommons les colonnes selon le fichier .info"
   ]
  },
  {
   "cell_type": "code",
   "execution_count": 1,
   "id": "9c7e6da2",
   "metadata": {},
   "outputs": [],
   "source": [
    "import pandas as pd\n",
    "\n",
    "df = pd.read_csv(\"./welddb/welddb.data\", \n",
    "                 sep=r\"\\s+\",      \n",
    "                 header=None,    \n",
    "                 na_values=\"N\")  \n",
    "\n",
    "columns = [\n",
    "    \"C\", \"Si\", \"Mn\", \"S\", \"P\", \"Ni\", \"Cr\", \"Mo\", \"V\", \"Cu\", \"Co\", \"W\",\n",
    "    \"O\", \"Ti\", \"N\", \"Al\", \"B\", \"Nb\", \"Sn\", \"As\", \"Sb\",\n",
    "    \"Current\", \"Voltage\", \"AC_DC\", \"Polarity\", \"Heat_input\", \"Interpass_temp\",\n",
    "    \"Weld_type\", \"PWHT_temp\", \"PWHT_time\",\n",
    "    \"Yield_strength\", \"UTS\", \"Elongation\", \"RA\",\n",
    "    \"Charpy_temp\", \"Charpy_toughness\", \"Hardness\",\n",
    "    \"FATT50\", \"Primary_ferrite\", \"Ferrite_2nd_phase\",\n",
    "    \"Acicular_ferrite\", \"Martensite\", \"Ferrite_carbide\",\n",
    "    \"Weld_ID\"\n",
    "]\n",
    "\n",
    "df.columns = columns"
   ]
  },
  {
   "cell_type": "markdown",
   "id": "cd0b022d",
   "metadata": {},
   "source": [
    "Nous nous intéressons ensuite à la structure de la base de données, nous utlisons donc les méthodes fournies par pandas pour analyser les différentes colonnes, ainsi que déterminer lesquelles ont le plus de valeurs non renseignées."
   ]
  },
  {
   "cell_type": "code",
   "execution_count": 2,
   "id": "9dcd65d8",
   "metadata": {},
   "outputs": [
    {
     "data": {
      "text/html": [
       "<div>\n",
       "<style scoped>\n",
       "    .dataframe tbody tr th:only-of-type {\n",
       "        vertical-align: middle;\n",
       "    }\n",
       "\n",
       "    .dataframe tbody tr th {\n",
       "        vertical-align: top;\n",
       "    }\n",
       "\n",
       "    .dataframe thead th {\n",
       "        text-align: right;\n",
       "    }\n",
       "</style>\n",
       "<table border=\"1\" class=\"dataframe\">\n",
       "  <thead>\n",
       "    <tr style=\"text-align: right;\">\n",
       "      <th></th>\n",
       "      <th>C</th>\n",
       "      <th>Si</th>\n",
       "      <th>Mn</th>\n",
       "      <th>P</th>\n",
       "      <th>Ni</th>\n",
       "      <th>Cr</th>\n",
       "      <th>O</th>\n",
       "      <th>Current</th>\n",
       "      <th>Voltage</th>\n",
       "      <th>Heat_input</th>\n",
       "      <th>...</th>\n",
       "      <th>UTS</th>\n",
       "      <th>Elongation</th>\n",
       "      <th>RA</th>\n",
       "      <th>Charpy_temp</th>\n",
       "      <th>Charpy_toughness</th>\n",
       "      <th>FATT50</th>\n",
       "      <th>Ferrite_2nd_phase</th>\n",
       "      <th>Acicular_ferrite</th>\n",
       "      <th>Martensite</th>\n",
       "      <th>Ferrite_carbide</th>\n",
       "    </tr>\n",
       "  </thead>\n",
       "  <tbody>\n",
       "    <tr>\n",
       "      <th>count</th>\n",
       "      <td>1652.000000</td>\n",
       "      <td>1652.000000</td>\n",
       "      <td>1652.000000</td>\n",
       "      <td>1642.000000</td>\n",
       "      <td>697.000000</td>\n",
       "      <td>784.000000</td>\n",
       "      <td>1256.000000</td>\n",
       "      <td>1404.000000</td>\n",
       "      <td>1404.000000</td>\n",
       "      <td>1652.000000</td>\n",
       "      <td>...</td>\n",
       "      <td>738.000000</td>\n",
       "      <td>700.000000</td>\n",
       "      <td>705.000000</td>\n",
       "      <td>879.000000</td>\n",
       "      <td>879.00000</td>\n",
       "      <td>31.000000</td>\n",
       "      <td>90.000000</td>\n",
       "      <td>90.000000</td>\n",
       "      <td>89.000000</td>\n",
       "      <td>89.000000</td>\n",
       "    </tr>\n",
       "    <tr>\n",
       "      <th>mean</th>\n",
       "      <td>0.075521</td>\n",
       "      <td>0.328577</td>\n",
       "      <td>1.202821</td>\n",
       "      <td>0.012952</td>\n",
       "      <td>0.415034</td>\n",
       "      <td>2.101273</td>\n",
       "      <td>441.967357</td>\n",
       "      <td>283.843661</td>\n",
       "      <td>27.607379</td>\n",
       "      <td>1.700987</td>\n",
       "      <td>...</td>\n",
       "      <td>594.386314</td>\n",
       "      <td>26.275714</td>\n",
       "      <td>71.799858</td>\n",
       "      <td>-34.606371</td>\n",
       "      <td>87.68942</td>\n",
       "      <td>-31.096774</td>\n",
       "      <td>25.955556</td>\n",
       "      <td>52.833333</td>\n",
       "      <td>0.337079</td>\n",
       "      <td>0.438202</td>\n",
       "    </tr>\n",
       "    <tr>\n",
       "      <th>std</th>\n",
       "      <td>0.023898</td>\n",
       "      <td>0.112455</td>\n",
       "      <td>0.382137</td>\n",
       "      <td>0.019627</td>\n",
       "      <td>0.786951</td>\n",
       "      <td>3.026548</td>\n",
       "      <td>147.483825</td>\n",
       "      <td>192.560955</td>\n",
       "      <td>12.555629</td>\n",
       "      <td>1.298465</td>\n",
       "      <td>...</td>\n",
       "      <td>88.636238</td>\n",
       "      <td>4.895986</td>\n",
       "      <td>8.926551</td>\n",
       "      <td>34.738624</td>\n",
       "      <td>50.11670</td>\n",
       "      <td>43.644285</td>\n",
       "      <td>21.283486</td>\n",
       "      <td>23.483798</td>\n",
       "      <td>3.179994</td>\n",
       "      <td>1.397685</td>\n",
       "    </tr>\n",
       "    <tr>\n",
       "      <th>min</th>\n",
       "      <td>0.029000</td>\n",
       "      <td>0.040000</td>\n",
       "      <td>0.270000</td>\n",
       "      <td>0.002000</td>\n",
       "      <td>0.000000</td>\n",
       "      <td>0.000000</td>\n",
       "      <td>132.000000</td>\n",
       "      <td>115.000000</td>\n",
       "      <td>11.500000</td>\n",
       "      <td>0.600000</td>\n",
       "      <td>...</td>\n",
       "      <td>447.000000</td>\n",
       "      <td>10.600000</td>\n",
       "      <td>17.000000</td>\n",
       "      <td>-114.000000</td>\n",
       "      <td>3.00000</td>\n",
       "      <td>-126.000000</td>\n",
       "      <td>3.000000</td>\n",
       "      <td>0.000000</td>\n",
       "      <td>0.000000</td>\n",
       "      <td>0.000000</td>\n",
       "    </tr>\n",
       "    <tr>\n",
       "      <th>25%</th>\n",
       "      <td>0.061750</td>\n",
       "      <td>0.270000</td>\n",
       "      <td>0.940000</td>\n",
       "      <td>0.007000</td>\n",
       "      <td>0.000000</td>\n",
       "      <td>0.000000</td>\n",
       "      <td>370.000000</td>\n",
       "      <td>170.000000</td>\n",
       "      <td>21.000000</td>\n",
       "      <td>1.000000</td>\n",
       "      <td>...</td>\n",
       "      <td>532.775000</td>\n",
       "      <td>22.800000</td>\n",
       "      <td>68.000000</td>\n",
       "      <td>-60.000000</td>\n",
       "      <td>38.00000</td>\n",
       "      <td>-62.000000</td>\n",
       "      <td>9.000000</td>\n",
       "      <td>35.500000</td>\n",
       "      <td>0.000000</td>\n",
       "      <td>0.000000</td>\n",
       "    </tr>\n",
       "    <tr>\n",
       "      <th>50%</th>\n",
       "      <td>0.074000</td>\n",
       "      <td>0.320000</td>\n",
       "      <td>1.270000</td>\n",
       "      <td>0.010000</td>\n",
       "      <td>0.067000</td>\n",
       "      <td>0.530000</td>\n",
       "      <td>423.000000</td>\n",
       "      <td>170.000000</td>\n",
       "      <td>21.000000</td>\n",
       "      <td>1.000000</td>\n",
       "      <td>...</td>\n",
       "      <td>575.500000</td>\n",
       "      <td>26.800000</td>\n",
       "      <td>75.000000</td>\n",
       "      <td>-40.000000</td>\n",
       "      <td>100.00000</td>\n",
       "      <td>-15.000000</td>\n",
       "      <td>18.000000</td>\n",
       "      <td>60.000000</td>\n",
       "      <td>0.000000</td>\n",
       "      <td>0.000000</td>\n",
       "    </tr>\n",
       "    <tr>\n",
       "      <th>75%</th>\n",
       "      <td>0.086000</td>\n",
       "      <td>0.360000</td>\n",
       "      <td>1.440000</td>\n",
       "      <td>0.014000</td>\n",
       "      <td>0.260000</td>\n",
       "      <td>2.300000</td>\n",
       "      <td>471.000000</td>\n",
       "      <td>300.000000</td>\n",
       "      <td>30.000000</td>\n",
       "      <td>2.000000</td>\n",
       "      <td>...</td>\n",
       "      <td>647.000000</td>\n",
       "      <td>30.000000</td>\n",
       "      <td>78.000000</td>\n",
       "      <td>-17.500000</td>\n",
       "      <td>100.00000</td>\n",
       "      <td>5.000000</td>\n",
       "      <td>38.000000</td>\n",
       "      <td>71.750000</td>\n",
       "      <td>0.000000</td>\n",
       "      <td>0.000000</td>\n",
       "    </tr>\n",
       "    <tr>\n",
       "      <th>max</th>\n",
       "      <td>0.180000</td>\n",
       "      <td>1.140000</td>\n",
       "      <td>2.250000</td>\n",
       "      <td>0.250000</td>\n",
       "      <td>3.500000</td>\n",
       "      <td>10.200000</td>\n",
       "      <td>1650.000000</td>\n",
       "      <td>900.000000</td>\n",
       "      <td>75.360000</td>\n",
       "      <td>7.900000</td>\n",
       "      <td>...</td>\n",
       "      <td>1151.000000</td>\n",
       "      <td>37.000000</td>\n",
       "      <td>83.000000</td>\n",
       "      <td>188.000000</td>\n",
       "      <td>270.00000</td>\n",
       "      <td>30.000000</td>\n",
       "      <td>100.000000</td>\n",
       "      <td>88.000000</td>\n",
       "      <td>30.000000</td>\n",
       "      <td>8.000000</td>\n",
       "    </tr>\n",
       "  </tbody>\n",
       "</table>\n",
       "<p>8 rows × 23 columns</p>\n",
       "</div>"
      ],
      "text/plain": [
       "                 C           Si           Mn            P          Ni  \\\n",
       "count  1652.000000  1652.000000  1652.000000  1642.000000  697.000000   \n",
       "mean      0.075521     0.328577     1.202821     0.012952    0.415034   \n",
       "std       0.023898     0.112455     0.382137     0.019627    0.786951   \n",
       "min       0.029000     0.040000     0.270000     0.002000    0.000000   \n",
       "25%       0.061750     0.270000     0.940000     0.007000    0.000000   \n",
       "50%       0.074000     0.320000     1.270000     0.010000    0.067000   \n",
       "75%       0.086000     0.360000     1.440000     0.014000    0.260000   \n",
       "max       0.180000     1.140000     2.250000     0.250000    3.500000   \n",
       "\n",
       "               Cr            O      Current      Voltage   Heat_input  ...  \\\n",
       "count  784.000000  1256.000000  1404.000000  1404.000000  1652.000000  ...   \n",
       "mean     2.101273   441.967357   283.843661    27.607379     1.700987  ...   \n",
       "std      3.026548   147.483825   192.560955    12.555629     1.298465  ...   \n",
       "min      0.000000   132.000000   115.000000    11.500000     0.600000  ...   \n",
       "25%      0.000000   370.000000   170.000000    21.000000     1.000000  ...   \n",
       "50%      0.530000   423.000000   170.000000    21.000000     1.000000  ...   \n",
       "75%      2.300000   471.000000   300.000000    30.000000     2.000000  ...   \n",
       "max     10.200000  1650.000000   900.000000    75.360000     7.900000  ...   \n",
       "\n",
       "               UTS  Elongation          RA  Charpy_temp  Charpy_toughness  \\\n",
       "count   738.000000  700.000000  705.000000   879.000000         879.00000   \n",
       "mean    594.386314   26.275714   71.799858   -34.606371          87.68942   \n",
       "std      88.636238    4.895986    8.926551    34.738624          50.11670   \n",
       "min     447.000000   10.600000   17.000000  -114.000000           3.00000   \n",
       "25%     532.775000   22.800000   68.000000   -60.000000          38.00000   \n",
       "50%     575.500000   26.800000   75.000000   -40.000000         100.00000   \n",
       "75%     647.000000   30.000000   78.000000   -17.500000         100.00000   \n",
       "max    1151.000000   37.000000   83.000000   188.000000         270.00000   \n",
       "\n",
       "           FATT50  Ferrite_2nd_phase  Acicular_ferrite  Martensite  \\\n",
       "count   31.000000          90.000000         90.000000   89.000000   \n",
       "mean   -31.096774          25.955556         52.833333    0.337079   \n",
       "std     43.644285          21.283486         23.483798    3.179994   \n",
       "min   -126.000000           3.000000          0.000000    0.000000   \n",
       "25%    -62.000000           9.000000         35.500000    0.000000   \n",
       "50%    -15.000000          18.000000         60.000000    0.000000   \n",
       "75%      5.000000          38.000000         71.750000    0.000000   \n",
       "max     30.000000         100.000000         88.000000   30.000000   \n",
       "\n",
       "       Ferrite_carbide  \n",
       "count        89.000000  \n",
       "mean          0.438202  \n",
       "std           1.397685  \n",
       "min           0.000000  \n",
       "25%           0.000000  \n",
       "50%           0.000000  \n",
       "75%           0.000000  \n",
       "max           8.000000  \n",
       "\n",
       "[8 rows x 23 columns]"
      ]
     },
     "execution_count": 2,
     "metadata": {},
     "output_type": "execute_result"
    }
   ],
   "source": [
    "df.describe()"
   ]
  },
  {
   "cell_type": "code",
   "execution_count": 3,
   "id": "ef76e284",
   "metadata": {},
   "outputs": [
    {
     "name": "stdout",
     "output_type": "stream",
     "text": [
      "<class 'pandas.core.frame.DataFrame'>\n",
      "RangeIndex: 1652 entries, 0 to 1651\n",
      "Data columns (total 44 columns):\n",
      " #   Column             Non-Null Count  Dtype  \n",
      "---  ------             --------------  -----  \n",
      " 0   C                  1652 non-null   float64\n",
      " 1   Si                 1652 non-null   float64\n",
      " 2   Mn                 1652 non-null   float64\n",
      " 3   S                  1648 non-null   object \n",
      " 4   P                  1642 non-null   float64\n",
      " 5   Ni                 697 non-null    float64\n",
      " 6   Cr                 784 non-null    float64\n",
      " 7   Mo                 793 non-null    object \n",
      " 8   V                  928 non-null    object \n",
      " 9   Cu                 578 non-null    object \n",
      " 10  Co                 129 non-null    object \n",
      " 11  W                  75 non-null     object \n",
      " 12  O                  1256 non-null   float64\n",
      " 13  Ti                 935 non-null    object \n",
      " 14  N                  1242 non-null   object \n",
      " 15  Al                 905 non-null    object \n",
      " 16  B                  504 non-null    object \n",
      " 17  Nb                 752 non-null    object \n",
      " 18  Sn                 296 non-null    object \n",
      " 19  As                 234 non-null    object \n",
      " 20  Sb                 260 non-null    object \n",
      " 21  Current            1404 non-null   float64\n",
      " 22  Voltage            1404 non-null   float64\n",
      " 23  AC_DC              1437 non-null   object \n",
      " 24  Polarity           1496 non-null   object \n",
      " 25  Heat_input         1652 non-null   float64\n",
      " 26  Interpass_temp     1652 non-null   object \n",
      " 27  Weld_type          1652 non-null   object \n",
      " 28  PWHT_temp          1639 non-null   float64\n",
      " 29  PWHT_time          1639 non-null   float64\n",
      " 30  Yield_strength     780 non-null    float64\n",
      " 31  UTS                738 non-null    float64\n",
      " 32  Elongation         700 non-null    float64\n",
      " 33  RA                 705 non-null    float64\n",
      " 34  Charpy_temp        879 non-null    float64\n",
      " 35  Charpy_toughness   879 non-null    float64\n",
      " 36  Hardness           138 non-null    object \n",
      " 37  FATT50             31 non-null     float64\n",
      " 38  Primary_ferrite    98 non-null     object \n",
      " 39  Ferrite_2nd_phase  90 non-null     float64\n",
      " 40  Acicular_ferrite   90 non-null     float64\n",
      " 41  Martensite         89 non-null     float64\n",
      " 42  Ferrite_carbide    89 non-null     float64\n",
      " 43  Weld_ID            1652 non-null   object \n",
      "dtypes: float64(23), object(21)\n",
      "memory usage: 568.0+ KB\n"
     ]
    }
   ],
   "source": [
    "df.info()"
   ]
  },
  {
   "cell_type": "code",
   "execution_count": 4,
   "id": "1df6c120",
   "metadata": {},
   "outputs": [
    {
     "data": {
      "text/plain": [
       "FATT50               98.123487\n",
       "W                    95.460048\n",
       "Ferrite_carbide      94.612591\n",
       "Martensite           94.612591\n",
       "Ferrite_2nd_phase    94.552058\n",
       "Acicular_ferrite     94.552058\n",
       "Primary_ferrite      94.067797\n",
       "Co                   92.191283\n",
       "Hardness             91.646489\n",
       "As                   85.835351\n",
       "Sb                   84.261501\n",
       "Sn                   82.082324\n",
       "B                    69.491525\n",
       "Cu                   65.012107\n",
       "Ni                   57.808717\n",
       "Elongation           57.627119\n",
       "RA                   57.324455\n",
       "UTS                  55.326877\n",
       "Nb                   54.479419\n",
       "Yield_strength       52.784504\n",
       "Cr                   52.542373\n",
       "Mo                   51.997579\n",
       "Charpy_toughness     46.791768\n",
       "Charpy_temp          46.791768\n",
       "Al                   45.217918\n",
       "V                    43.825666\n",
       "Ti                   43.401937\n",
       "N                    24.818402\n",
       "O                    23.970944\n",
       "Voltage              15.012107\n",
       "Current              15.012107\n",
       "AC_DC                13.014528\n",
       "Polarity              9.443099\n",
       "PWHT_time             0.786925\n",
       "PWHT_temp             0.786925\n",
       "P                     0.605327\n",
       "S                     0.242131\n",
       "C                     0.000000\n",
       "Weld_type             0.000000\n",
       "Interpass_temp        0.000000\n",
       "Heat_input            0.000000\n",
       "Si                    0.000000\n",
       "Mn                    0.000000\n",
       "Weld_ID               0.000000\n",
       "dtype: float64"
      ]
     },
     "execution_count": 4,
     "metadata": {},
     "output_type": "execute_result"
    }
   ],
   "source": [
    "(df.isnull().sum().sort_values(ascending=False)/df.shape[0])*100"
   ]
  },
  {
   "cell_type": "markdown",
   "id": "ca114926",
   "metadata": {},
   "source": [
    "<h3>Nettoyage des données</h3>"
   ]
  },
  {
   "cell_type": "markdown",
   "id": "3095e6e5",
   "metadata": {},
   "source": [
    "Dans un second temps, nous nettoyons les données pour supprimer les valeurs non numériques dans les colonnes censées l'être."
   ]
  },
  {
   "cell_type": "code",
   "execution_count": 5,
   "id": "8163f9b9",
   "metadata": {},
   "outputs": [
    {
     "name": "stderr",
     "output_type": "stream",
     "text": [
      "/var/folders/qc/5qn44xzs143g6s6sy04v51qm0000gn/T/ipykernel_38869/3272282626.py:31: FutureWarning: DataFrame.applymap has been deprecated. Use DataFrame.map instead.\n",
      "  df[colonnes_a_nettoyer] = df[colonnes_a_nettoyer].applymap(nettoyer_valeur)\n"
     ]
    }
   ],
   "source": [
    "import re\n",
    "import numpy as np\n",
    "\n",
    "def nettoyer_valeur(val):\n",
    "    val = str(val).strip()\n",
    "\n",
    "    # Cas 'N' ou vide\n",
    "    if val.upper() == \"N\" or val == \"\":\n",
    "        return np.nan\n",
    "\n",
    "    # Cas '<5' -> remplacer par 5 (ou NaN si vous préférez)\n",
    "    if val.startswith(\"<\"):\n",
    "        try:\n",
    "            return float(val[1:])\n",
    "        except:\n",
    "            return np.nan\n",
    "\n",
    "    # Cas '67tot33res' -> extraire ce qu'il y a avant 'tot'\n",
    "    match = re.match(r\"(\\d+)\", val)\n",
    "    if match:\n",
    "        return float(match.group(1))\n",
    "\n",
    "    return np.nan\n",
    "\n",
    "colonnes_a_nettoyer = [\n",
    "    'C', 'Si', 'Mn', 'S', 'P', 'Ni', 'Cr', 'Mo', 'V', 'Cu', \n",
    "    'Co', 'W', 'O', 'Ti', 'N', 'Al', 'B', 'Nb', 'Sn', 'As', 'Sb'\n",
    "]\n",
    "\n",
    "# On applique la fonction seulement sur les colonnes ciblées\n",
    "df[colonnes_a_nettoyer] = df[colonnes_a_nettoyer].applymap(nettoyer_valeur)\n",
    "df.to_csv('./dataset_traité.csv')"
   ]
  },
  {
   "cell_type": "code",
   "execution_count": 6,
   "id": "094a1896",
   "metadata": {},
   "outputs": [
    {
     "name": "stdout",
     "output_type": "stream",
     "text": [
      "<class 'pandas.core.frame.DataFrame'>\n",
      "RangeIndex: 1652 entries, 0 to 1651\n",
      "Data columns (total 44 columns):\n",
      " #   Column             Non-Null Count  Dtype  \n",
      "---  ------             --------------  -----  \n",
      " 0   C                  1652 non-null   float64\n",
      " 1   Si                 1652 non-null   float64\n",
      " 2   Mn                 1652 non-null   float64\n",
      " 3   S                  1648 non-null   float64\n",
      " 4   P                  1642 non-null   float64\n",
      " 5   Ni                 697 non-null    float64\n",
      " 6   Cr                 784 non-null    float64\n",
      " 7   Mo                 793 non-null    float64\n",
      " 8   V                  928 non-null    float64\n",
      " 9   Cu                 578 non-null    float64\n",
      " 10  Co                 129 non-null    float64\n",
      " 11  W                  75 non-null     float64\n",
      " 12  O                  1256 non-null   float64\n",
      " 13  Ti                 935 non-null    float64\n",
      " 14  N                  1242 non-null   float64\n",
      " 15  Al                 905 non-null    float64\n",
      " 16  B                  504 non-null    float64\n",
      " 17  Nb                 752 non-null    float64\n",
      " 18  Sn                 296 non-null    float64\n",
      " 19  As                 234 non-null    float64\n",
      " 20  Sb                 260 non-null    float64\n",
      " 21  Current            1404 non-null   float64\n",
      " 22  Voltage            1404 non-null   float64\n",
      " 23  AC_DC              1437 non-null   object \n",
      " 24  Polarity           1496 non-null   object \n",
      " 25  Heat_input         1652 non-null   float64\n",
      " 26  Interpass_temp     1652 non-null   int64  \n",
      " 27  Weld_type          1652 non-null   object \n",
      " 28  PWHT_temp          1639 non-null   float64\n",
      " 29  PWHT_time          1639 non-null   float64\n",
      " 30  Yield_strength     780 non-null    float64\n",
      " 31  UTS                738 non-null    float64\n",
      " 32  Elongation         700 non-null    float64\n",
      " 33  RA                 705 non-null    float64\n",
      " 34  Charpy_temp        879 non-null    float64\n",
      " 35  Charpy_toughness   879 non-null    float64\n",
      " 36  Hardness           138 non-null    object \n",
      " 37  FATT50             31 non-null     float64\n",
      " 38  Primary_ferrite    98 non-null     object \n",
      " 39  Ferrite_2nd_phase  90 non-null     float64\n",
      " 40  Acicular_ferrite   90 non-null     float64\n",
      " 41  Martensite         89 non-null     float64\n",
      " 42  Ferrite_carbide    89 non-null     float64\n",
      " 43  Weld_ID            1652 non-null   object \n",
      "dtypes: float64(37), int64(1), object(6)\n",
      "memory usage: 568.0+ KB\n",
      "None\n"
     ]
    }
   ],
   "source": [
    "df['Interpass_temp'] = df['Interpass_temp'].replace(\"150-200\", 175)\n",
    "df['Interpass_temp'] = pd.to_numeric(df['Interpass_temp'])\n",
    "print(df.info())"
   ]
  },
  {
   "cell_type": "code",
   "execution_count": 7,
   "id": "5eca87f7",
   "metadata": {},
   "outputs": [],
   "source": [
    "df['Primary_ferrite'] = df['Primary_ferrite'].replace(\"<1\", 0)\n",
    "df['Primary_ferrite'] = pd.to_numeric(df['Primary_ferrite'])"
   ]
  },
  {
   "cell_type": "code",
   "execution_count": 8,
   "id": "5ebfda3d",
   "metadata": {},
   "outputs": [],
   "source": [
    "df[\"Hardness\"] = df[\"Hardness\"].astype(str).str.extract(r\"^(\\d+\\.?\\d*)\").astype(float)\n",
    "df['Hardness'] = pd.to_numeric(df['Hardness'])"
   ]
  },
  {
   "cell_type": "code",
   "execution_count": 9,
   "id": "122093be",
   "metadata": {},
   "outputs": [
    {
     "name": "stdout",
     "output_type": "stream",
     "text": [
      "<class 'pandas.core.frame.DataFrame'>\n",
      "RangeIndex: 1652 entries, 0 to 1651\n",
      "Data columns (total 44 columns):\n",
      " #   Column             Non-Null Count  Dtype  \n",
      "---  ------             --------------  -----  \n",
      " 0   C                  1652 non-null   float64\n",
      " 1   Si                 1652 non-null   float64\n",
      " 2   Mn                 1652 non-null   float64\n",
      " 3   S                  1648 non-null   float64\n",
      " 4   P                  1642 non-null   float64\n",
      " 5   Ni                 697 non-null    float64\n",
      " 6   Cr                 784 non-null    float64\n",
      " 7   Mo                 793 non-null    float64\n",
      " 8   V                  928 non-null    float64\n",
      " 9   Cu                 578 non-null    float64\n",
      " 10  Co                 129 non-null    float64\n",
      " 11  W                  75 non-null     float64\n",
      " 12  O                  1256 non-null   float64\n",
      " 13  Ti                 935 non-null    float64\n",
      " 14  N                  1242 non-null   float64\n",
      " 15  Al                 905 non-null    float64\n",
      " 16  B                  504 non-null    float64\n",
      " 17  Nb                 752 non-null    float64\n",
      " 18  Sn                 296 non-null    float64\n",
      " 19  As                 234 non-null    float64\n",
      " 20  Sb                 260 non-null    float64\n",
      " 21  Current            1404 non-null   float64\n",
      " 22  Voltage            1404 non-null   float64\n",
      " 23  AC_DC              1437 non-null   object \n",
      " 24  Polarity           1496 non-null   object \n",
      " 25  Heat_input         1652 non-null   float64\n",
      " 26  Interpass_temp     1652 non-null   int64  \n",
      " 27  Weld_type          1652 non-null   object \n",
      " 28  PWHT_temp          1639 non-null   float64\n",
      " 29  PWHT_time          1639 non-null   float64\n",
      " 30  Yield_strength     780 non-null    float64\n",
      " 31  UTS                738 non-null    float64\n",
      " 32  Elongation         700 non-null    float64\n",
      " 33  RA                 705 non-null    float64\n",
      " 34  Charpy_temp        879 non-null    float64\n",
      " 35  Charpy_toughness   879 non-null    float64\n",
      " 36  Hardness           138 non-null    float64\n",
      " 37  FATT50             31 non-null     float64\n",
      " 38  Primary_ferrite    98 non-null     float64\n",
      " 39  Ferrite_2nd_phase  90 non-null     float64\n",
      " 40  Acicular_ferrite   90 non-null     float64\n",
      " 41  Martensite         89 non-null     float64\n",
      " 42  Ferrite_carbide    89 non-null     float64\n",
      " 43  Weld_ID            1652 non-null   object \n",
      "dtypes: float64(39), int64(1), object(4)\n",
      "memory usage: 568.0+ KB\n"
     ]
    }
   ],
   "source": [
    "df.info()"
   ]
  },
  {
   "cell_type": "markdown",
   "id": "693bd401",
   "metadata": {},
   "source": [
    "On observe que toutes les colonnes devant contenir des valeurs numériques sont bien au format numérique. Nous allons maintenant nous ocuper des variables catégorielles."
   ]
  },
  {
   "cell_type": "code",
   "execution_count": null,
   "id": "3e660d2b",
   "metadata": {},
   "outputs": [],
   "source": []
  },
  {
   "cell_type": "code",
   "execution_count": 10,
   "id": "978d93b0",
   "metadata": {},
   "outputs": [
    {
     "name": "stdout",
     "output_type": "stream",
     "text": [
      "<class 'pandas.core.frame.DataFrame'>\n",
      "RangeIndex: 1652 entries, 0 to 1651\n",
      "Data columns (total 44 columns):\n",
      " #   Column             Non-Null Count  Dtype  \n",
      "---  ------             --------------  -----  \n",
      " 0   C                  1652 non-null   float64\n",
      " 1   Si                 1652 non-null   float64\n",
      " 2   Mn                 1652 non-null   float64\n",
      " 3   S                  1648 non-null   float64\n",
      " 4   P                  1642 non-null   float64\n",
      " 5   Ni                 697 non-null    float64\n",
      " 6   Cr                 784 non-null    float64\n",
      " 7   Mo                 793 non-null    float64\n",
      " 8   V                  928 non-null    float64\n",
      " 9   Cu                 578 non-null    float64\n",
      " 10  Co                 129 non-null    float64\n",
      " 11  W                  75 non-null     float64\n",
      " 12  O                  1256 non-null   float64\n",
      " 13  Ti                 935 non-null    float64\n",
      " 14  N                  1242 non-null   float64\n",
      " 15  Al                 905 non-null    float64\n",
      " 16  B                  504 non-null    float64\n",
      " 17  Nb                 752 non-null    float64\n",
      " 18  Sn                 296 non-null    float64\n",
      " 19  As                 234 non-null    float64\n",
      " 20  Sb                 260 non-null    float64\n",
      " 21  Current            1404 non-null   float64\n",
      " 22  Voltage            1404 non-null   float64\n",
      " 23  AC_DC              1437 non-null   object \n",
      " 24  Polarity           1496 non-null   object \n",
      " 25  Heat_input         1652 non-null   float64\n",
      " 26  Interpass_temp     1652 non-null   int64  \n",
      " 27  Weld_type          1652 non-null   object \n",
      " 28  PWHT_temp          1639 non-null   float64\n",
      " 29  PWHT_time          1639 non-null   float64\n",
      " 30  Yield_strength     780 non-null    float64\n",
      " 31  UTS                738 non-null    float64\n",
      " 32  Elongation         700 non-null    float64\n",
      " 33  RA                 705 non-null    float64\n",
      " 34  Charpy_temp        879 non-null    float64\n",
      " 35  Charpy_toughness   879 non-null    float64\n",
      " 36  Hardness           138 non-null    float64\n",
      " 37  FATT50             31 non-null     float64\n",
      " 38  Primary_ferrite    98 non-null     float64\n",
      " 39  Ferrite_2nd_phase  90 non-null     float64\n",
      " 40  Acicular_ferrite   90 non-null     float64\n",
      " 41  Martensite         89 non-null     float64\n",
      " 42  Ferrite_carbide    89 non-null     float64\n",
      " 43  Weld_ID            1652 non-null   object \n",
      "dtypes: float64(39), int64(1), object(4)\n",
      "memory usage: 568.0+ KB\n"
     ]
    }
   ],
   "source": [
    "df.info()"
   ]
  },
  {
   "cell_type": "code",
   "execution_count": 11,
   "id": "c16b1be9",
   "metadata": {},
   "outputs": [],
   "source": [
    "df = df.drop('Weld_ID', axis=1)"
   ]
  },
  {
   "cell_type": "code",
   "execution_count": 12,
   "id": "73ec4603",
   "metadata": {},
   "outputs": [
    {
     "name": "stdout",
     "output_type": "stream",
     "text": [
      "<class 'pandas.core.frame.DataFrame'>\n",
      "RangeIndex: 1652 entries, 0 to 1651\n",
      "Data columns (total 43 columns):\n",
      " #   Column             Non-Null Count  Dtype  \n",
      "---  ------             --------------  -----  \n",
      " 0   C                  1652 non-null   float64\n",
      " 1   Si                 1652 non-null   float64\n",
      " 2   Mn                 1652 non-null   float64\n",
      " 3   S                  1648 non-null   float64\n",
      " 4   P                  1642 non-null   float64\n",
      " 5   Ni                 697 non-null    float64\n",
      " 6   Cr                 784 non-null    float64\n",
      " 7   Mo                 793 non-null    float64\n",
      " 8   V                  928 non-null    float64\n",
      " 9   Cu                 578 non-null    float64\n",
      " 10  Co                 129 non-null    float64\n",
      " 11  W                  75 non-null     float64\n",
      " 12  O                  1256 non-null   float64\n",
      " 13  Ti                 935 non-null    float64\n",
      " 14  N                  1242 non-null   float64\n",
      " 15  Al                 905 non-null    float64\n",
      " 16  B                  504 non-null    float64\n",
      " 17  Nb                 752 non-null    float64\n",
      " 18  Sn                 296 non-null    float64\n",
      " 19  As                 234 non-null    float64\n",
      " 20  Sb                 260 non-null    float64\n",
      " 21  Current            1404 non-null   float64\n",
      " 22  Voltage            1404 non-null   float64\n",
      " 23  AC_DC              1437 non-null   object \n",
      " 24  Polarity           1496 non-null   object \n",
      " 25  Heat_input         1652 non-null   float64\n",
      " 26  Interpass_temp     1652 non-null   int64  \n",
      " 27  Weld_type          1652 non-null   object \n",
      " 28  PWHT_temp          1639 non-null   float64\n",
      " 29  PWHT_time          1639 non-null   float64\n",
      " 30  Yield_strength     780 non-null    float64\n",
      " 31  UTS                738 non-null    float64\n",
      " 32  Elongation         700 non-null    float64\n",
      " 33  RA                 705 non-null    float64\n",
      " 34  Charpy_temp        879 non-null    float64\n",
      " 35  Charpy_toughness   879 non-null    float64\n",
      " 36  Hardness           138 non-null    float64\n",
      " 37  FATT50             31 non-null     float64\n",
      " 38  Primary_ferrite    98 non-null     float64\n",
      " 39  Ferrite_2nd_phase  90 non-null     float64\n",
      " 40  Acicular_ferrite   90 non-null     float64\n",
      " 41  Martensite         89 non-null     float64\n",
      " 42  Ferrite_carbide    89 non-null     float64\n",
      "dtypes: float64(39), int64(1), object(3)\n",
      "memory usage: 555.1+ KB\n"
     ]
    }
   ],
   "source": [
    "df.info()"
   ]
  },
  {
   "cell_type": "markdown",
   "id": "1611df04",
   "metadata": {},
   "source": [
    "<h3>Colonnes à supprimer</h3>\n",
    "\n",
    "Nous allons maintenant nou intéresser aux features que nous pouvons supprimer de notre dataset sans perdre trop d'information. Pour ce faire, nous allons étudier la corrélation entre les variables, et supprimer celles pour lesquelles les données sont largement absentes, tout en ayant très peu de corrélation avec les variables d'intérêt pour qualifier la qualité d'une soudure. D'après le papier scientifique fourni avec le dataset, les trois features les plus intéressantes pour qualifier la qualité 'une soudure sont les suivantes : \n",
    "    <li>Charpy Toughness</li>\n",
    "    <li>Elongation</li>\n",
    "    <li>Ultimate tensile strength</li>"
   ]
  },
  {
   "cell_type": "code",
   "execution_count": 13,
   "id": "6651a4e0",
   "metadata": {},
   "outputs": [],
   "source": [
    "miss = df.isna().mean().sort_values(ascending=False)\n",
    "miss_df = miss.to_frame(name=\"missing_ratio\").reset_index().rename(columns={\"index\": \"column\"})"
   ]
  },
  {
   "cell_type": "code",
   "execution_count": 14,
   "id": "dac7eb08",
   "metadata": {},
   "outputs": [
    {
     "name": "stdout",
     "output_type": "stream",
     "text": [
      "=== Corrélation absolue avec les variables de qualité ===\n",
      "                   Charpy_toughness  Elongation    UTS  Yield_strength\n",
      "column                                                                \n",
      "FATT50                          NaN      -0.321 -0.547          -0.332\n",
      "W                               NaN      -0.309  0.186           0.082\n",
      "Ferrite_carbide                 NaN         NaN    NaN             NaN\n",
      "Martensite                      NaN         NaN    NaN             NaN\n",
      "Acicular_ferrite                NaN         NaN    NaN             NaN\n",
      "Ferrite_2nd_phase               NaN         NaN    NaN             NaN\n",
      "Primary_ferrite                 NaN         NaN    NaN             NaN\n",
      "Co                              NaN      -0.124  0.105          -0.002\n",
      "Hardness                        NaN      -0.671  0.864           0.812\n",
      "As                           -0.051       0.096 -0.136           0.029\n",
      "Sb                            0.065       0.077 -0.318          -0.244\n",
      "Sn                            0.010      -0.021 -0.145          -0.134\n",
      "B                            -0.171      -0.298  0.416           0.294\n",
      "Cu                           -0.051       0.012 -0.035           0.034\n",
      "Ni                            0.013      -0.014  0.145           0.114\n",
      "Elongation                    0.359       1.000 -0.739          -0.681\n",
      "RA                            0.831       0.535 -0.661          -0.460\n",
      "UTS                          -0.702      -0.739  1.000           0.915\n",
      "Nb                           -0.079      -0.478  0.480           0.423\n",
      "Yield_strength               -0.412      -0.681  0.915           1.000\n",
      "Cr                           -0.073      -0.429  0.471           0.386\n",
      "Mo                            0.251      -0.362  0.229           0.095\n",
      "Charpy_toughness              1.000       0.359 -0.702          -0.412\n",
      "Charpy_temp                   0.474      -0.522  0.513           0.320\n",
      "Al                           -0.133       0.004  0.088           0.060\n",
      "V                            -0.031      -0.063  0.046           0.071\n",
      "Ti                            0.044      -0.033  0.060           0.014\n",
      "N                            -0.141      -0.439  0.430           0.384\n",
      "O                            -0.141      -0.324  0.038           0.044\n",
      "Current                      -0.077      -0.088  0.139           0.092\n",
      "Voltage                      -0.094      -0.130  0.135           0.062\n",
      "AC_DC                           NaN         NaN    NaN             NaN\n",
      "Polarity                        NaN         NaN    NaN             NaN\n",
      "PWHT_time                    -0.078      -0.018 -0.066           0.013\n",
      "PWHT_temp                     0.015      -0.162  0.182           0.139\n",
      "P                               NaN         NaN    NaN             NaN\n",
      "S                               NaN         NaN    NaN             NaN\n",
      "Weld_type                       NaN         NaN    NaN             NaN\n",
      "Interpass_temp                0.235       0.002 -0.003          -0.003\n",
      "Heat_input                   -0.129      -0.091  0.114           0.063\n",
      "Si                              NaN      -0.029  0.056           0.039\n",
      "Mn                           -0.066      -0.021  0.131           0.109\n",
      "C                               NaN         NaN    NaN             NaN\n"
     ]
    },
    {
     "data": {
      "application/vnd.plotly.v1+json": {
       "config": {
        "plotlyServerURL": "https://plotly.com"
       },
       "data": [
        {
         "coloraxis": "coloraxis",
         "hovertemplate": "x: %{x}<br>column: %{y}<br>color: %{z}<extra></extra>",
         "name": "0",
         "type": "heatmap",
         "x": [
          "Charpy_toughness",
          "Elongation",
          "UTS",
          "Yield_strength"
         ],
         "xaxis": "x",
         "y": [
          "FATT50",
          "W",
          "Ferrite_carbide",
          "Martensite",
          "Acicular_ferrite",
          "Ferrite_2nd_phase",
          "Primary_ferrite",
          "Co",
          "Hardness",
          "As",
          "Sb",
          "Sn",
          "B",
          "Cu",
          "Ni",
          "Elongation",
          "RA",
          "UTS",
          "Nb",
          "Yield_strength",
          "Cr",
          "Mo",
          "Charpy_toughness",
          "Charpy_temp",
          "Al",
          "V",
          "Ti",
          "N",
          "O",
          "Current",
          "Voltage",
          "AC_DC",
          "Polarity",
          "PWHT_time",
          "PWHT_temp",
          "P",
          "S",
          "Weld_type",
          "Interpass_temp",
          "Heat_input",
          "Si",
          "Mn",
          "C"
         ],
         "yaxis": "y",
         "z": {
          "bdata": "AAAAAAAA+H+Xq4usdYPUv779ggmafuG/PPzOxzJC1b8AAAAAAAD4fy1dSp1HxtO/Rr/guszPxz+bFGspiPC0PwAAAAAAAPh/AAAAAAAA+H8AAAAAAAD4fwAAAAAAAPh/AAAAAAAA+H8AAAAAAAD4fwAAAAAAAPh/AAAAAAAA+H8AAAAAAAD4fwAAAAAAAPh/AAAAAAAA+H8AAAAAAAD4fwAAAAAAAPh/AAAAAAAA+H8AAAAAAAD4fwAAAAAAAPh/AAAAAAAA+H8AAAAAAAD4fwAAAAAAAPh/AAAAAAAA+H8AAAAAAAD4fxyrKZ/Jy7+/CtfINgjduj8PKkimWFBjvwAAAAAAAPh/DeqkRXl15b/J+pqjE6brP7RqPIq6/+k/OmIXMdQNqr/pB0JR/3i4P5pvAOe0YMG/pb/xTAMZnj+OT5kqVKSwP6Gs9UL6qrM/CFQgB+tZ1L/wwslQV0XPv3gax58FYIU/7bGUrQ2mlb9hw9MAT5fCvyoh5Bg2HMG/Lg4OT1/exb9DEyWlsAvTv6NIi40emNo/0/hWk0TV0j9PRs3q3uypv3PUHEl6TYg/6NNzm0zsob9/vc5rejChP8BXtXEDe4o/kc1hX/6ajb86F4MQw5rCP3xin14mTL0/cEj8J/P71j8AAAAAAADwP/yNhMQKp+e//aTG8ebK5b/K/rIwLZnqP2Ped/7IG+E/eNgryXYn5b+QsK7M723dvw377LRhdua//I2ExAqn578AAAAAAADwP+dWjxFlS+0/FKVPbo9RtL8ltNKY14/ev0wa5S+nt94/2M8RnH4V2z960Mk4iWTav/2kxvHmyuW/51aPEWVL7T8AAAAAAADwP1stR06VzLK/RvgLRBd427+I/09XIyjePxoWXYVwsNg/QW/4+BAW0D8HYLpM/CTXv8REPSLoTM0/yCs2YpFguD8AAAAAAADwP3BI/Cfz+9Y/DfvstGF25r960Mk4iWTavyfV4b/cUN4/nGPJ5pKw4L8RKfWrm2ngP2ta52YVe9Q/5/wF064Pwb8fTdLjlwlwP9tDaP4sfrY/Br0K393qrj/SW49kfnufvzMtf3+5HrC/ylXm4RjBpz9KE1IWNEuyP/7JdeURkaY/7wlYnVnIoL/mFYqLQYSuP70+Pw/5no0/nCuPTyb+wb8s5kCg3BLcvwfRWedsids/ICB7+T2a2D8p5ZWrggDCv3A3vkYTudS/VZyd8Aaooz8bBxj2aYumP7dIbKrjxLO/MQz0qntstr+VMymu3cTBP2/fqTi6lrc/P3u6tW0AuL/29j9t3pTAvzhknPPWTcE/E9PK7grurz8AAAAAAAD4fwAAAAAAAPh/AAAAAAAA+H8AAAAAAAD4fwAAAAAAAPh/AAAAAAAA+H8AAAAAAAD4fwAAAAAAAPh/6WgWpVkItL/zGzP+ucCSv2ZZggKD/LC/cvoIGz3KiT/GR29vsVeOP1LUEXADyMS/OHXN8dpVxz+160TD2L3BPwAAAAAAAPh/AAAAAAAA+H8AAAAAAAD4fwAAAAAAAPh/AAAAAAAA+H8AAAAAAAD4fwAAAAAAAPh/AAAAAAAA+H8AAAAAAAD4fwAAAAAAAPh/AAAAAAAA+H8AAAAAAAD4f79CUqeMCs4/5xL2PprAWT/puP7OHJlmvy++ee3ZumS/ESD2WYKEwL/4HlDrqkC3v79XgmZlH70/HlQ+PXQ4sD8AAAAAAAD4f9JkywwTw52/kMnFpBOIrD9Rgvtu2fqjPy9FVtXE2LC/RJCBeKLUlb9rVkPB0MTAP/rmhPij77s/AAAAAAAA+H8AAAAAAAD4fwAAAAAAAPh/AAAAAAAA+H8=",
          "dtype": "f8",
          "shape": "43, 4"
         }
        }
       ],
       "layout": {
        "coloraxis": {
         "colorscale": [
          [
           0,
           "rgb(5,48,97)"
          ],
          [
           0.1,
           "rgb(33,102,172)"
          ],
          [
           0.2,
           "rgb(67,147,195)"
          ],
          [
           0.3,
           "rgb(146,197,222)"
          ],
          [
           0.4,
           "rgb(209,229,240)"
          ],
          [
           0.5,
           "rgb(247,247,247)"
          ],
          [
           0.6,
           "rgb(253,219,199)"
          ],
          [
           0.7,
           "rgb(244,165,130)"
          ],
          [
           0.8,
           "rgb(214,96,77)"
          ],
          [
           0.9,
           "rgb(178,24,43)"
          ],
          [
           1,
           "rgb(103,0,31)"
          ]
         ]
        },
        "template": {
         "data": {
          "bar": [
           {
            "error_x": {
             "color": "#2a3f5f"
            },
            "error_y": {
             "color": "#2a3f5f"
            },
            "marker": {
             "line": {
              "color": "#E5ECF6",
              "width": 0.5
             },
             "pattern": {
              "fillmode": "overlay",
              "size": 10,
              "solidity": 0.2
             }
            },
            "type": "bar"
           }
          ],
          "barpolar": [
           {
            "marker": {
             "line": {
              "color": "#E5ECF6",
              "width": 0.5
             },
             "pattern": {
              "fillmode": "overlay",
              "size": 10,
              "solidity": 0.2
             }
            },
            "type": "barpolar"
           }
          ],
          "carpet": [
           {
            "aaxis": {
             "endlinecolor": "#2a3f5f",
             "gridcolor": "white",
             "linecolor": "white",
             "minorgridcolor": "white",
             "startlinecolor": "#2a3f5f"
            },
            "baxis": {
             "endlinecolor": "#2a3f5f",
             "gridcolor": "white",
             "linecolor": "white",
             "minorgridcolor": "white",
             "startlinecolor": "#2a3f5f"
            },
            "type": "carpet"
           }
          ],
          "choropleth": [
           {
            "colorbar": {
             "outlinewidth": 0,
             "ticks": ""
            },
            "type": "choropleth"
           }
          ],
          "contour": [
           {
            "colorbar": {
             "outlinewidth": 0,
             "ticks": ""
            },
            "colorscale": [
             [
              0,
              "#0d0887"
             ],
             [
              0.1111111111111111,
              "#46039f"
             ],
             [
              0.2222222222222222,
              "#7201a8"
             ],
             [
              0.3333333333333333,
              "#9c179e"
             ],
             [
              0.4444444444444444,
              "#bd3786"
             ],
             [
              0.5555555555555556,
              "#d8576b"
             ],
             [
              0.6666666666666666,
              "#ed7953"
             ],
             [
              0.7777777777777778,
              "#fb9f3a"
             ],
             [
              0.8888888888888888,
              "#fdca26"
             ],
             [
              1,
              "#f0f921"
             ]
            ],
            "type": "contour"
           }
          ],
          "contourcarpet": [
           {
            "colorbar": {
             "outlinewidth": 0,
             "ticks": ""
            },
            "type": "contourcarpet"
           }
          ],
          "heatmap": [
           {
            "colorbar": {
             "outlinewidth": 0,
             "ticks": ""
            },
            "colorscale": [
             [
              0,
              "#0d0887"
             ],
             [
              0.1111111111111111,
              "#46039f"
             ],
             [
              0.2222222222222222,
              "#7201a8"
             ],
             [
              0.3333333333333333,
              "#9c179e"
             ],
             [
              0.4444444444444444,
              "#bd3786"
             ],
             [
              0.5555555555555556,
              "#d8576b"
             ],
             [
              0.6666666666666666,
              "#ed7953"
             ],
             [
              0.7777777777777778,
              "#fb9f3a"
             ],
             [
              0.8888888888888888,
              "#fdca26"
             ],
             [
              1,
              "#f0f921"
             ]
            ],
            "type": "heatmap"
           }
          ],
          "histogram": [
           {
            "marker": {
             "pattern": {
              "fillmode": "overlay",
              "size": 10,
              "solidity": 0.2
             }
            },
            "type": "histogram"
           }
          ],
          "histogram2d": [
           {
            "colorbar": {
             "outlinewidth": 0,
             "ticks": ""
            },
            "colorscale": [
             [
              0,
              "#0d0887"
             ],
             [
              0.1111111111111111,
              "#46039f"
             ],
             [
              0.2222222222222222,
              "#7201a8"
             ],
             [
              0.3333333333333333,
              "#9c179e"
             ],
             [
              0.4444444444444444,
              "#bd3786"
             ],
             [
              0.5555555555555556,
              "#d8576b"
             ],
             [
              0.6666666666666666,
              "#ed7953"
             ],
             [
              0.7777777777777778,
              "#fb9f3a"
             ],
             [
              0.8888888888888888,
              "#fdca26"
             ],
             [
              1,
              "#f0f921"
             ]
            ],
            "type": "histogram2d"
           }
          ],
          "histogram2dcontour": [
           {
            "colorbar": {
             "outlinewidth": 0,
             "ticks": ""
            },
            "colorscale": [
             [
              0,
              "#0d0887"
             ],
             [
              0.1111111111111111,
              "#46039f"
             ],
             [
              0.2222222222222222,
              "#7201a8"
             ],
             [
              0.3333333333333333,
              "#9c179e"
             ],
             [
              0.4444444444444444,
              "#bd3786"
             ],
             [
              0.5555555555555556,
              "#d8576b"
             ],
             [
              0.6666666666666666,
              "#ed7953"
             ],
             [
              0.7777777777777778,
              "#fb9f3a"
             ],
             [
              0.8888888888888888,
              "#fdca26"
             ],
             [
              1,
              "#f0f921"
             ]
            ],
            "type": "histogram2dcontour"
           }
          ],
          "mesh3d": [
           {
            "colorbar": {
             "outlinewidth": 0,
             "ticks": ""
            },
            "type": "mesh3d"
           }
          ],
          "parcoords": [
           {
            "line": {
             "colorbar": {
              "outlinewidth": 0,
              "ticks": ""
             }
            },
            "type": "parcoords"
           }
          ],
          "pie": [
           {
            "automargin": true,
            "type": "pie"
           }
          ],
          "scatter": [
           {
            "fillpattern": {
             "fillmode": "overlay",
             "size": 10,
             "solidity": 0.2
            },
            "type": "scatter"
           }
          ],
          "scatter3d": [
           {
            "line": {
             "colorbar": {
              "outlinewidth": 0,
              "ticks": ""
             }
            },
            "marker": {
             "colorbar": {
              "outlinewidth": 0,
              "ticks": ""
             }
            },
            "type": "scatter3d"
           }
          ],
          "scattercarpet": [
           {
            "marker": {
             "colorbar": {
              "outlinewidth": 0,
              "ticks": ""
             }
            },
            "type": "scattercarpet"
           }
          ],
          "scattergeo": [
           {
            "marker": {
             "colorbar": {
              "outlinewidth": 0,
              "ticks": ""
             }
            },
            "type": "scattergeo"
           }
          ],
          "scattergl": [
           {
            "marker": {
             "colorbar": {
              "outlinewidth": 0,
              "ticks": ""
             }
            },
            "type": "scattergl"
           }
          ],
          "scattermap": [
           {
            "marker": {
             "colorbar": {
              "outlinewidth": 0,
              "ticks": ""
             }
            },
            "type": "scattermap"
           }
          ],
          "scattermapbox": [
           {
            "marker": {
             "colorbar": {
              "outlinewidth": 0,
              "ticks": ""
             }
            },
            "type": "scattermapbox"
           }
          ],
          "scatterpolar": [
           {
            "marker": {
             "colorbar": {
              "outlinewidth": 0,
              "ticks": ""
             }
            },
            "type": "scatterpolar"
           }
          ],
          "scatterpolargl": [
           {
            "marker": {
             "colorbar": {
              "outlinewidth": 0,
              "ticks": ""
             }
            },
            "type": "scatterpolargl"
           }
          ],
          "scatterternary": [
           {
            "marker": {
             "colorbar": {
              "outlinewidth": 0,
              "ticks": ""
             }
            },
            "type": "scatterternary"
           }
          ],
          "surface": [
           {
            "colorbar": {
             "outlinewidth": 0,
             "ticks": ""
            },
            "colorscale": [
             [
              0,
              "#0d0887"
             ],
             [
              0.1111111111111111,
              "#46039f"
             ],
             [
              0.2222222222222222,
              "#7201a8"
             ],
             [
              0.3333333333333333,
              "#9c179e"
             ],
             [
              0.4444444444444444,
              "#bd3786"
             ],
             [
              0.5555555555555556,
              "#d8576b"
             ],
             [
              0.6666666666666666,
              "#ed7953"
             ],
             [
              0.7777777777777778,
              "#fb9f3a"
             ],
             [
              0.8888888888888888,
              "#fdca26"
             ],
             [
              1,
              "#f0f921"
             ]
            ],
            "type": "surface"
           }
          ],
          "table": [
           {
            "cells": {
             "fill": {
              "color": "#EBF0F8"
             },
             "line": {
              "color": "white"
             }
            },
            "header": {
             "fill": {
              "color": "#C8D4E3"
             },
             "line": {
              "color": "white"
             }
            },
            "type": "table"
           }
          ]
         },
         "layout": {
          "annotationdefaults": {
           "arrowcolor": "#2a3f5f",
           "arrowhead": 0,
           "arrowwidth": 1
          },
          "autotypenumbers": "strict",
          "coloraxis": {
           "colorbar": {
            "outlinewidth": 0,
            "ticks": ""
           }
          },
          "colorscale": {
           "diverging": [
            [
             0,
             "#8e0152"
            ],
            [
             0.1,
             "#c51b7d"
            ],
            [
             0.2,
             "#de77ae"
            ],
            [
             0.3,
             "#f1b6da"
            ],
            [
             0.4,
             "#fde0ef"
            ],
            [
             0.5,
             "#f7f7f7"
            ],
            [
             0.6,
             "#e6f5d0"
            ],
            [
             0.7,
             "#b8e186"
            ],
            [
             0.8,
             "#7fbc41"
            ],
            [
             0.9,
             "#4d9221"
            ],
            [
             1,
             "#276419"
            ]
           ],
           "sequential": [
            [
             0,
             "#0d0887"
            ],
            [
             0.1111111111111111,
             "#46039f"
            ],
            [
             0.2222222222222222,
             "#7201a8"
            ],
            [
             0.3333333333333333,
             "#9c179e"
            ],
            [
             0.4444444444444444,
             "#bd3786"
            ],
            [
             0.5555555555555556,
             "#d8576b"
            ],
            [
             0.6666666666666666,
             "#ed7953"
            ],
            [
             0.7777777777777778,
             "#fb9f3a"
            ],
            [
             0.8888888888888888,
             "#fdca26"
            ],
            [
             1,
             "#f0f921"
            ]
           ],
           "sequentialminus": [
            [
             0,
             "#0d0887"
            ],
            [
             0.1111111111111111,
             "#46039f"
            ],
            [
             0.2222222222222222,
             "#7201a8"
            ],
            [
             0.3333333333333333,
             "#9c179e"
            ],
            [
             0.4444444444444444,
             "#bd3786"
            ],
            [
             0.5555555555555556,
             "#d8576b"
            ],
            [
             0.6666666666666666,
             "#ed7953"
            ],
            [
             0.7777777777777778,
             "#fb9f3a"
            ],
            [
             0.8888888888888888,
             "#fdca26"
            ],
            [
             1,
             "#f0f921"
            ]
           ]
          },
          "colorway": [
           "#636efa",
           "#EF553B",
           "#00cc96",
           "#ab63fa",
           "#FFA15A",
           "#19d3f3",
           "#FF6692",
           "#B6E880",
           "#FF97FF",
           "#FECB52"
          ],
          "font": {
           "color": "#2a3f5f"
          },
          "geo": {
           "bgcolor": "white",
           "lakecolor": "white",
           "landcolor": "#E5ECF6",
           "showlakes": true,
           "showland": true,
           "subunitcolor": "white"
          },
          "hoverlabel": {
           "align": "left"
          },
          "hovermode": "closest",
          "mapbox": {
           "style": "light"
          },
          "paper_bgcolor": "white",
          "plot_bgcolor": "#E5ECF6",
          "polar": {
           "angularaxis": {
            "gridcolor": "white",
            "linecolor": "white",
            "ticks": ""
           },
           "bgcolor": "#E5ECF6",
           "radialaxis": {
            "gridcolor": "white",
            "linecolor": "white",
            "ticks": ""
           }
          },
          "scene": {
           "xaxis": {
            "backgroundcolor": "#E5ECF6",
            "gridcolor": "white",
            "gridwidth": 2,
            "linecolor": "white",
            "showbackground": true,
            "ticks": "",
            "zerolinecolor": "white"
           },
           "yaxis": {
            "backgroundcolor": "#E5ECF6",
            "gridcolor": "white",
            "gridwidth": 2,
            "linecolor": "white",
            "showbackground": true,
            "ticks": "",
            "zerolinecolor": "white"
           },
           "zaxis": {
            "backgroundcolor": "#E5ECF6",
            "gridcolor": "white",
            "gridwidth": 2,
            "linecolor": "white",
            "showbackground": true,
            "ticks": "",
            "zerolinecolor": "white"
           }
          },
          "shapedefaults": {
           "line": {
            "color": "#2a3f5f"
           }
          },
          "ternary": {
           "aaxis": {
            "gridcolor": "white",
            "linecolor": "white",
            "ticks": ""
           },
           "baxis": {
            "gridcolor": "white",
            "linecolor": "white",
            "ticks": ""
           },
           "bgcolor": "#E5ECF6",
           "caxis": {
            "gridcolor": "white",
            "linecolor": "white",
            "ticks": ""
           }
          },
          "title": {
           "x": 0.05
          },
          "xaxis": {
           "automargin": true,
           "gridcolor": "white",
           "linecolor": "white",
           "ticks": "",
           "title": {
            "standoff": 15
           },
           "zerolinecolor": "white",
           "zerolinewidth": 2
          },
          "yaxis": {
           "automargin": true,
           "gridcolor": "white",
           "linecolor": "white",
           "ticks": "",
           "title": {
            "standoff": 15
           },
           "zerolinecolor": "white",
           "zerolinewidth": 2
          }
         }
        },
        "title": {
         "text": "Correlation absolue entre les variables numériques et les variables de qualité"
        },
        "xaxis": {
         "anchor": "y",
         "domain": [
          0,
          1
         ]
        },
        "yaxis": {
         "anchor": "x",
         "autorange": "reversed",
         "domain": [
          0,
          1
         ],
         "title": {
          "text": "column"
         }
        }
       }
      }
     },
     "metadata": {},
     "output_type": "display_data"
    }
   ],
   "source": [
    "import plotly.express as px\n",
    "\n",
    "target_vars = [\"Charpy_toughness\", \"Elongation\", \"UTS\", \"Yield_strength\"]\n",
    "\n",
    "num_cols = df.select_dtypes(include=[np.number]).columns.tolist()\n",
    "\n",
    "corrs = df[num_cols].corr(method='pearson')[target_vars]\n",
    "\n",
    "# Tri des corrélations en fonction de la quantité de missing values\n",
    "corrs_sorted = corrs.reindex(miss_df['column'])\n",
    "\n",
    "\n",
    "print(\"=== Corrélation absolue avec les variables de qualité ===\")\n",
    "print(corrs_sorted.round(3))\n",
    "fig = px.imshow(\n",
    "    corrs_sorted,\n",
    "    aspect=\"auto\",\n",
    "    color_continuous_scale=\"RdBu_r\",\n",
    "    title=\"Correlation absolue entre les variables numériques et les variables de qualité\"\n",
    ")\n",
    "fig.show()"
   ]
  },
  {
   "cell_type": "markdown",
   "id": "f6abba05",
   "metadata": {},
   "source": [
    "Suite à cette étude, nous élimonons les colonnes suivantes :"
   ]
  },
  {
   "cell_type": "code",
   "execution_count": 15,
   "id": "82fb601a",
   "metadata": {},
   "outputs": [],
   "source": [
    "COLS_TO_DROP = [\"FATT50\", \"W\", \"Ferrite_carbide\", \"Martensite\", \"Ferrite_2nd_phase\", \"Acicular_ferrite\", \n",
    "                \"Primary_ferrite\", \"Co\", \"Hardness\", \"As\", \"Sb\", \"Sn\", \"B\", \"Cu\"]\n",
    "df = df.drop(columns=COLS_TO_DROP)"
   ]
  },
  {
   "cell_type": "code",
   "execution_count": 16,
   "id": "1d3cbbd3",
   "metadata": {},
   "outputs": [
    {
     "name": "stdout",
     "output_type": "stream",
     "text": [
      "<class 'pandas.core.frame.DataFrame'>\n",
      "RangeIndex: 1652 entries, 0 to 1651\n",
      "Data columns (total 29 columns):\n",
      " #   Column            Non-Null Count  Dtype  \n",
      "---  ------            --------------  -----  \n",
      " 0   C                 1652 non-null   float64\n",
      " 1   Si                1652 non-null   float64\n",
      " 2   Mn                1652 non-null   float64\n",
      " 3   S                 1648 non-null   float64\n",
      " 4   P                 1642 non-null   float64\n",
      " 5   Ni                697 non-null    float64\n",
      " 6   Cr                784 non-null    float64\n",
      " 7   Mo                793 non-null    float64\n",
      " 8   V                 928 non-null    float64\n",
      " 9   O                 1256 non-null   float64\n",
      " 10  Ti                935 non-null    float64\n",
      " 11  N                 1242 non-null   float64\n",
      " 12  Al                905 non-null    float64\n",
      " 13  Nb                752 non-null    float64\n",
      " 14  Current           1404 non-null   float64\n",
      " 15  Voltage           1404 non-null   float64\n",
      " 16  AC_DC             1437 non-null   object \n",
      " 17  Polarity          1496 non-null   object \n",
      " 18  Heat_input        1652 non-null   float64\n",
      " 19  Interpass_temp    1652 non-null   int64  \n",
      " 20  Weld_type         1652 non-null   object \n",
      " 21  PWHT_temp         1639 non-null   float64\n",
      " 22  PWHT_time         1639 non-null   float64\n",
      " 23  Yield_strength    780 non-null    float64\n",
      " 24  UTS               738 non-null    float64\n",
      " 25  Elongation        700 non-null    float64\n",
      " 26  RA                705 non-null    float64\n",
      " 27  Charpy_temp       879 non-null    float64\n",
      " 28  Charpy_toughness  879 non-null    float64\n",
      "dtypes: float64(25), int64(1), object(3)\n",
      "memory usage: 374.4+ KB\n"
     ]
    }
   ],
   "source": [
    "df.info()"
   ]
  },
  {
   "cell_type": "markdown",
   "id": "d0001146",
   "metadata": {},
   "source": [
    "D'après le même papier scientifique, nous pouvons aussi remplacer les valeurs vides de certaines colonnes par 0."
   ]
  },
  {
   "cell_type": "code",
   "execution_count": 17,
   "id": "7ce62c1e",
   "metadata": {},
   "outputs": [],
   "source": [
    "impurity_elements = [\"P\", \"S\"]\n",
    "deliberate_elements = [\"Mn\", \"Ni\", \"Cr\", \"Mo\"]\n",
    "\n",
    "for col in impurity_elements + deliberate_elements:\n",
    "    df[col] = pd.to_numeric(df[col], errors='coerce')\n",
    "\n",
    "# Add indicators\n",
    "for col in impurity_elements + deliberate_elements:\n",
    "    df[f\"{col}_was_na\"] = df[col].isna().astype(int)\n",
    "\n",
    "# Apply domain-specific fills\n",
    "for col in impurity_elements:\n",
    "    df[col] = df[col].fillna(df[col].mean())\n",
    "for col in deliberate_elements:\n",
    "    df[col] = df[col].fillna(0)"
   ]
  },
  {
   "cell_type": "markdown",
   "id": "60b1e54a",
   "metadata": {},
   "source": [
    "Ensuite, pour remplir les autres colonnes, nous utilisons un KNNImputer de la bibliothèque sklearn, de sorte à peupler notre dataset avec des valeurs potentiellement plus proches de la réalité que par des transformation utilisant la médiane ou la moyenne de l'ensemble du dataset."
   ]
  },
  {
   "cell_type": "markdown",
   "id": "55a7d057",
   "metadata": {},
   "source": [
    "Pour être en mesure d'évaluer la qualité de notre modèle, nous séparons tout de suite le dataset en 2 (un set pour le train et un set pour le test). Ainsi, nous remplirons uniquement les valeurs manquantes pour le dataset de train à l'aide d'un KNN."
   ]
  },
  {
   "cell_type": "code",
   "execution_count": 18,
   "id": "4d5dc72f",
   "metadata": {},
   "outputs": [
    {
     "name": "stdout",
     "output_type": "stream",
     "text": [
      "(330, 35)\n",
      "(1322, 35)\n",
      "<class 'pandas.core.frame.DataFrame'>\n",
      "RangeIndex: 1322 entries, 330 to 1651\n",
      "Data columns (total 35 columns):\n",
      " #   Column            Non-Null Count  Dtype  \n",
      "---  ------            --------------  -----  \n",
      " 0   C                 1322 non-null   float64\n",
      " 1   Si                1322 non-null   float64\n",
      " 2   Mn                1322 non-null   float64\n",
      " 3   S                 1322 non-null   float64\n",
      " 4   P                 1322 non-null   float64\n",
      " 5   Ni                1322 non-null   float64\n",
      " 6   Cr                1322 non-null   float64\n",
      " 7   Mo                1322 non-null   float64\n",
      " 8   V                 748 non-null    float64\n",
      " 9   O                 1004 non-null   float64\n",
      " 10  Ti                745 non-null    float64\n",
      " 11  N                 994 non-null    float64\n",
      " 12  Al                721 non-null    float64\n",
      " 13  Nb                603 non-null    float64\n",
      " 14  Current           1125 non-null   float64\n",
      " 15  Voltage           1125 non-null   float64\n",
      " 16  AC_DC             1155 non-null   object \n",
      " 17  Polarity          1196 non-null   object \n",
      " 18  Heat_input        1322 non-null   float64\n",
      " 19  Interpass_temp    1322 non-null   int64  \n",
      " 20  Weld_type         1322 non-null   object \n",
      " 21  PWHT_temp         1309 non-null   float64\n",
      " 22  PWHT_time         1309 non-null   float64\n",
      " 23  Yield_strength    629 non-null    float64\n",
      " 24  UTS               596 non-null    float64\n",
      " 25  Elongation        570 non-null    float64\n",
      " 26  RA                575 non-null    float64\n",
      " 27  Charpy_temp       692 non-null    float64\n",
      " 28  Charpy_toughness  692 non-null    float64\n",
      " 29  P_was_na          1322 non-null   int64  \n",
      " 30  S_was_na          1322 non-null   int64  \n",
      " 31  Mn_was_na         1322 non-null   int64  \n",
      " 32  Ni_was_na         1322 non-null   int64  \n",
      " 33  Cr_was_na         1322 non-null   int64  \n",
      " 34  Mo_was_na         1322 non-null   int64  \n",
      "dtypes: float64(25), int64(7), object(3)\n",
      "memory usage: 361.6+ KB\n"
     ]
    }
   ],
   "source": [
    "df_shuffled = df.sample(frac=1).reset_index(drop=True)\n",
    "\n",
    "df_test = df_shuffled[:int(df_shuffled.shape[0]/5)]\n",
    "df_train = df_shuffled[int(df_shuffled.shape[0]/5):]\n",
    "\n",
    "print(df_test.shape)\n",
    "print(df_train.shape)\n",
    "\n",
    "df_train.info()"
   ]
  },
  {
   "cell_type": "code",
   "execution_count": 19,
   "id": "bd1bfbd9",
   "metadata": {},
   "outputs": [
    {
     "name": "stdout",
     "output_type": "stream",
     "text": [
      "Nombre total de valeurs manquantes avant traitement : 8008\n"
     ]
    },
    {
     "data": {
      "application/vnd.plotly.v1+json": {
       "config": {
        "plotlyServerURL": "https://plotly.com"
       },
       "data": [
        {
         "bingroup": "x",
         "hovertemplate": "Ti=%{x}<br>count=%{y}<extra></extra>",
         "legendgroup": "",
         "marker": {
          "color": "#636efa",
          "pattern": {
           "shape": ""
          }
         },
         "name": "",
         "nbinsx": 30,
         "orientation": "v",
         "showlegend": false,
         "type": "histogram",
         "x": {
          "bdata": "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",
          "dtype": "f8"
         },
         "xaxis": "x",
         "yaxis": "y"
        }
       ],
       "layout": {
        "barmode": "relative",
        "legend": {
         "tracegroupgap": 0
        },
        "template": {
         "data": {
          "bar": [
           {
            "error_x": {
             "color": "#2a3f5f"
            },
            "error_y": {
             "color": "#2a3f5f"
            },
            "marker": {
             "line": {
              "color": "#E5ECF6",
              "width": 0.5
             },
             "pattern": {
              "fillmode": "overlay",
              "size": 10,
              "solidity": 0.2
             }
            },
            "type": "bar"
           }
          ],
          "barpolar": [
           {
            "marker": {
             "line": {
              "color": "#E5ECF6",
              "width": 0.5
             },
             "pattern": {
              "fillmode": "overlay",
              "size": 10,
              "solidity": 0.2
             }
            },
            "type": "barpolar"
           }
          ],
          "carpet": [
           {
            "aaxis": {
             "endlinecolor": "#2a3f5f",
             "gridcolor": "white",
             "linecolor": "white",
             "minorgridcolor": "white",
             "startlinecolor": "#2a3f5f"
            },
            "baxis": {
             "endlinecolor": "#2a3f5f",
             "gridcolor": "white",
             "linecolor": "white",
             "minorgridcolor": "white",
             "startlinecolor": "#2a3f5f"
            },
            "type": "carpet"
           }
          ],
          "choropleth": [
           {
            "colorbar": {
             "outlinewidth": 0,
             "ticks": ""
            },
            "type": "choropleth"
           }
          ],
          "contour": [
           {
            "colorbar": {
             "outlinewidth": 0,
             "ticks": ""
            },
            "colorscale": [
             [
              0,
              "#0d0887"
             ],
             [
              0.1111111111111111,
              "#46039f"
             ],
             [
              0.2222222222222222,
              "#7201a8"
             ],
             [
              0.3333333333333333,
              "#9c179e"
             ],
             [
              0.4444444444444444,
              "#bd3786"
             ],
             [
              0.5555555555555556,
              "#d8576b"
             ],
             [
              0.6666666666666666,
              "#ed7953"
             ],
             [
              0.7777777777777778,
              "#fb9f3a"
             ],
             [
              0.8888888888888888,
              "#fdca26"
             ],
             [
              1,
              "#f0f921"
             ]
            ],
            "type": "contour"
           }
          ],
          "contourcarpet": [
           {
            "colorbar": {
             "outlinewidth": 0,
             "ticks": ""
            },
            "type": "contourcarpet"
           }
          ],
          "heatmap": [
           {
            "colorbar": {
             "outlinewidth": 0,
             "ticks": ""
            },
            "colorscale": [
             [
              0,
              "#0d0887"
             ],
             [
              0.1111111111111111,
              "#46039f"
             ],
             [
              0.2222222222222222,
              "#7201a8"
             ],
             [
              0.3333333333333333,
              "#9c179e"
             ],
             [
              0.4444444444444444,
              "#bd3786"
             ],
             [
              0.5555555555555556,
              "#d8576b"
             ],
             [
              0.6666666666666666,
              "#ed7953"
             ],
             [
              0.7777777777777778,
              "#fb9f3a"
             ],
             [
              0.8888888888888888,
              "#fdca26"
             ],
             [
              1,
              "#f0f921"
             ]
            ],
            "type": "heatmap"
           }
          ],
          "histogram": [
           {
            "marker": {
             "pattern": {
              "fillmode": "overlay",
              "size": 10,
              "solidity": 0.2
             }
            },
            "type": "histogram"
           }
          ],
          "histogram2d": [
           {
            "colorbar": {
             "outlinewidth": 0,
             "ticks": ""
            },
            "colorscale": [
             [
              0,
              "#0d0887"
             ],
             [
              0.1111111111111111,
              "#46039f"
             ],
             [
              0.2222222222222222,
              "#7201a8"
             ],
             [
              0.3333333333333333,
              "#9c179e"
             ],
             [
              0.4444444444444444,
              "#bd3786"
             ],
             [
              0.5555555555555556,
              "#d8576b"
             ],
             [
              0.6666666666666666,
              "#ed7953"
             ],
             [
              0.7777777777777778,
              "#fb9f3a"
             ],
             [
              0.8888888888888888,
              "#fdca26"
             ],
             [
              1,
              "#f0f921"
             ]
            ],
            "type": "histogram2d"
           }
          ],
          "histogram2dcontour": [
           {
            "colorbar": {
             "outlinewidth": 0,
             "ticks": ""
            },
            "colorscale": [
             [
              0,
              "#0d0887"
             ],
             [
              0.1111111111111111,
              "#46039f"
             ],
             [
              0.2222222222222222,
              "#7201a8"
             ],
             [
              0.3333333333333333,
              "#9c179e"
             ],
             [
              0.4444444444444444,
              "#bd3786"
             ],
             [
              0.5555555555555556,
              "#d8576b"
             ],
             [
              0.6666666666666666,
              "#ed7953"
             ],
             [
              0.7777777777777778,
              "#fb9f3a"
             ],
             [
              0.8888888888888888,
              "#fdca26"
             ],
             [
              1,
              "#f0f921"
             ]
            ],
            "type": "histogram2dcontour"
           }
          ],
          "mesh3d": [
           {
            "colorbar": {
             "outlinewidth": 0,
             "ticks": ""
            },
            "type": "mesh3d"
           }
          ],
          "parcoords": [
           {
            "line": {
             "colorbar": {
              "outlinewidth": 0,
              "ticks": ""
             }
            },
            "type": "parcoords"
           }
          ],
          "pie": [
           {
            "automargin": true,
            "type": "pie"
           }
          ],
          "scatter": [
           {
            "fillpattern": {
             "fillmode": "overlay",
             "size": 10,
             "solidity": 0.2
            },
            "type": "scatter"
           }
          ],
          "scatter3d": [
           {
            "line": {
             "colorbar": {
              "outlinewidth": 0,
              "ticks": ""
             }
            },
            "marker": {
             "colorbar": {
              "outlinewidth": 0,
              "ticks": ""
             }
            },
            "type": "scatter3d"
           }
          ],
          "scattercarpet": [
           {
            "marker": {
             "colorbar": {
              "outlinewidth": 0,
              "ticks": ""
             }
            },
            "type": "scattercarpet"
           }
          ],
          "scattergeo": [
           {
            "marker": {
             "colorbar": {
              "outlinewidth": 0,
              "ticks": ""
             }
            },
            "type": "scattergeo"
           }
          ],
          "scattergl": [
           {
            "marker": {
             "colorbar": {
              "outlinewidth": 0,
              "ticks": ""
             }
            },
            "type": "scattergl"
           }
          ],
          "scattermap": [
           {
            "marker": {
             "colorbar": {
              "outlinewidth": 0,
              "ticks": ""
             }
            },
            "type": "scattermap"
           }
          ],
          "scattermapbox": [
           {
            "marker": {
             "colorbar": {
              "outlinewidth": 0,
              "ticks": ""
             }
            },
            "type": "scattermapbox"
           }
          ],
          "scatterpolar": [
           {
            "marker": {
             "colorbar": {
              "outlinewidth": 0,
              "ticks": ""
             }
            },
            "type": "scatterpolar"
           }
          ],
          "scatterpolargl": [
           {
            "marker": {
             "colorbar": {
              "outlinewidth": 0,
              "ticks": ""
             }
            },
            "type": "scatterpolargl"
           }
          ],
          "scatterternary": [
           {
            "marker": {
             "colorbar": {
              "outlinewidth": 0,
              "ticks": ""
             }
            },
            "type": "scatterternary"
           }
          ],
          "surface": [
           {
            "colorbar": {
             "outlinewidth": 0,
             "ticks": ""
            },
            "colorscale": [
             [
              0,
              "#0d0887"
             ],
             [
              0.1111111111111111,
              "#46039f"
             ],
             [
              0.2222222222222222,
              "#7201a8"
             ],
             [
              0.3333333333333333,
              "#9c179e"
             ],
             [
              0.4444444444444444,
              "#bd3786"
             ],
             [
              0.5555555555555556,
              "#d8576b"
             ],
             [
              0.6666666666666666,
              "#ed7953"
             ],
             [
              0.7777777777777778,
              "#fb9f3a"
             ],
             [
              0.8888888888888888,
              "#fdca26"
             ],
             [
              1,
              "#f0f921"
             ]
            ],
            "type": "surface"
           }
          ],
          "table": [
           {
            "cells": {
             "fill": {
              "color": "#EBF0F8"
             },
             "line": {
              "color": "white"
             }
            },
            "header": {
             "fill": {
              "color": "#C8D4E3"
             },
             "line": {
              "color": "white"
             }
            },
            "type": "table"
           }
          ]
         },
         "layout": {
          "annotationdefaults": {
           "arrowcolor": "#2a3f5f",
           "arrowhead": 0,
           "arrowwidth": 1
          },
          "autotypenumbers": "strict",
          "coloraxis": {
           "colorbar": {
            "outlinewidth": 0,
            "ticks": ""
           }
          },
          "colorscale": {
           "diverging": [
            [
             0,
             "#8e0152"
            ],
            [
             0.1,
             "#c51b7d"
            ],
            [
             0.2,
             "#de77ae"
            ],
            [
             0.3,
             "#f1b6da"
            ],
            [
             0.4,
             "#fde0ef"
            ],
            [
             0.5,
             "#f7f7f7"
            ],
            [
             0.6,
             "#e6f5d0"
            ],
            [
             0.7,
             "#b8e186"
            ],
            [
             0.8,
             "#7fbc41"
            ],
            [
             0.9,
             "#4d9221"
            ],
            [
             1,
             "#276419"
            ]
           ],
           "sequential": [
            [
             0,
             "#0d0887"
            ],
            [
             0.1111111111111111,
             "#46039f"
            ],
            [
             0.2222222222222222,
             "#7201a8"
            ],
            [
             0.3333333333333333,
             "#9c179e"
            ],
            [
             0.4444444444444444,
             "#bd3786"
            ],
            [
             0.5555555555555556,
             "#d8576b"
            ],
            [
             0.6666666666666666,
             "#ed7953"
            ],
            [
             0.7777777777777778,
             "#fb9f3a"
            ],
            [
             0.8888888888888888,
             "#fdca26"
            ],
            [
             1,
             "#f0f921"
            ]
           ],
           "sequentialminus": [
            [
             0,
             "#0d0887"
            ],
            [
             0.1111111111111111,
             "#46039f"
            ],
            [
             0.2222222222222222,
             "#7201a8"
            ],
            [
             0.3333333333333333,
             "#9c179e"
            ],
            [
             0.4444444444444444,
             "#bd3786"
            ],
            [
             0.5555555555555556,
             "#d8576b"
            ],
            [
             0.6666666666666666,
             "#ed7953"
            ],
            [
             0.7777777777777778,
             "#fb9f3a"
            ],
            [
             0.8888888888888888,
             "#fdca26"
            ],
            [
             1,
             "#f0f921"
            ]
           ]
          },
          "colorway": [
           "#636efa",
           "#EF553B",
           "#00cc96",
           "#ab63fa",
           "#FFA15A",
           "#19d3f3",
           "#FF6692",
           "#B6E880",
           "#FF97FF",
           "#FECB52"
          ],
          "font": {
           "color": "#2a3f5f"
          },
          "geo": {
           "bgcolor": "white",
           "lakecolor": "white",
           "landcolor": "#E5ECF6",
           "showlakes": true,
           "showland": true,
           "subunitcolor": "white"
          },
          "hoverlabel": {
           "align": "left"
          },
          "hovermode": "closest",
          "mapbox": {
           "style": "light"
          },
          "paper_bgcolor": "white",
          "plot_bgcolor": "#E5ECF6",
          "polar": {
           "angularaxis": {
            "gridcolor": "white",
            "linecolor": "white",
            "ticks": ""
           },
           "bgcolor": "#E5ECF6",
           "radialaxis": {
            "gridcolor": "white",
            "linecolor": "white",
            "ticks": ""
           }
          },
          "scene": {
           "xaxis": {
            "backgroundcolor": "#E5ECF6",
            "gridcolor": "white",
            "gridwidth": 2,
            "linecolor": "white",
            "showbackground": true,
            "ticks": "",
            "zerolinecolor": "white"
           },
           "yaxis": {
            "backgroundcolor": "#E5ECF6",
            "gridcolor": "white",
            "gridwidth": 2,
            "linecolor": "white",
            "showbackground": true,
            "ticks": "",
            "zerolinecolor": "white"
           },
           "zaxis": {
            "backgroundcolor": "#E5ECF6",
            "gridcolor": "white",
            "gridwidth": 2,
            "linecolor": "white",
            "showbackground": true,
            "ticks": "",
            "zerolinecolor": "white"
           }
          },
          "shapedefaults": {
           "line": {
            "color": "#2a3f5f"
           }
          },
          "ternary": {
           "aaxis": {
            "gridcolor": "white",
            "linecolor": "white",
            "ticks": ""
           },
           "baxis": {
            "gridcolor": "white",
            "linecolor": "white",
            "ticks": ""
           },
           "bgcolor": "#E5ECF6",
           "caxis": {
            "gridcolor": "white",
            "linecolor": "white",
            "ticks": ""
           }
          },
          "title": {
           "x": 0.05
          },
          "xaxis": {
           "automargin": true,
           "gridcolor": "white",
           "linecolor": "white",
           "ticks": "",
           "title": {
            "standoff": 15
           },
           "zerolinecolor": "white",
           "zerolinewidth": 2
          },
          "yaxis": {
           "automargin": true,
           "gridcolor": "white",
           "linecolor": "white",
           "ticks": "",
           "title": {
            "standoff": 15
           },
           "zerolinecolor": "white",
           "zerolinewidth": 2
          }
         }
        },
        "title": {
         "text": "Ti before imputation"
        },
        "xaxis": {
         "anchor": "y",
         "domain": [
          0,
          1
         ],
         "title": {
          "text": "Ti"
         }
        },
        "yaxis": {
         "anchor": "x",
         "domain": [
          0,
          1
         ],
         "title": {
          "text": "count"
         }
        }
       }
      }
     },
     "metadata": {},
     "output_type": "display_data"
    },
    {
     "name": "stdout",
     "output_type": "stream",
     "text": [
      "Index(['AC_DC', 'Polarity', 'Weld_type'], dtype='object')\n",
      "<class 'pandas.core.frame.DataFrame'>\n",
      "RangeIndex: 1322 entries, 330 to 1651\n",
      "Data columns (total 35 columns):\n",
      " #   Column            Non-Null Count  Dtype  \n",
      "---  ------            --------------  -----  \n",
      " 0   C                 1322 non-null   float64\n",
      " 1   Si                1322 non-null   float64\n",
      " 2   Mn                1322 non-null   float64\n",
      " 3   S                 1322 non-null   float64\n",
      " 4   P                 1322 non-null   float64\n",
      " 5   Ni                1322 non-null   float64\n",
      " 6   Cr                1322 non-null   float64\n",
      " 7   Mo                1322 non-null   float64\n",
      " 8   V                 1322 non-null   float64\n",
      " 9   O                 1322 non-null   float64\n",
      " 10  Ti                1322 non-null   float64\n",
      " 11  N                 1322 non-null   float64\n",
      " 12  Al                1322 non-null   float64\n",
      " 13  Nb                1322 non-null   float64\n",
      " 14  Current           1322 non-null   float64\n",
      " 15  Voltage           1322 non-null   float64\n",
      " 16  AC_DC             1322 non-null   object \n",
      " 17  Polarity          1322 non-null   object \n",
      " 18  Heat_input        1322 non-null   float64\n",
      " 19  Interpass_temp    1322 non-null   float64\n",
      " 20  Weld_type         1322 non-null   object \n",
      " 21  PWHT_temp         1322 non-null   float64\n",
      " 22  PWHT_time         1322 non-null   float64\n",
      " 23  Yield_strength    1322 non-null   float64\n",
      " 24  UTS               596 non-null    float64\n",
      " 25  Elongation        570 non-null    float64\n",
      " 26  RA                1322 non-null   float64\n",
      " 27  Charpy_temp       1322 non-null   float64\n",
      " 28  Charpy_toughness  692 non-null    float64\n",
      " 29  P_was_na          1322 non-null   float64\n",
      " 30  S_was_na          1322 non-null   float64\n",
      " 31  Mn_was_na         1322 non-null   float64\n",
      " 32  Ni_was_na         1322 non-null   float64\n",
      " 33  Cr_was_na         1322 non-null   float64\n",
      " 34  Mo_was_na         1322 non-null   float64\n",
      "dtypes: float64(32), object(3)\n",
      "memory usage: 361.6+ KB\n",
      "None\n",
      "Nombre total de valeurs manquantes après traitement : 2108\n"
     ]
    },
    {
     "name": "stderr",
     "output_type": "stream",
     "text": [
      "/var/folders/qc/5qn44xzs143g6s6sy04v51qm0000gn/T/ipykernel_38869/3524037918.py:27: SettingWithCopyWarning:\n",
      "\n",
      "\n",
      "A value is trying to be set on a copy of a slice from a DataFrame.\n",
      "Try using .loc[row_indexer,col_indexer] = value instead\n",
      "\n",
      "See the caveats in the documentation: https://pandas.pydata.org/pandas-docs/stable/user_guide/indexing.html#returning-a-view-versus-a-copy\n",
      "\n",
      "/var/folders/qc/5qn44xzs143g6s6sy04v51qm0000gn/T/ipykernel_38869/3524037918.py:31: SettingWithCopyWarning:\n",
      "\n",
      "\n",
      "A value is trying to be set on a copy of a slice from a DataFrame.\n",
      "Try using .loc[row_indexer,col_indexer] = value instead\n",
      "\n",
      "See the caveats in the documentation: https://pandas.pydata.org/pandas-docs/stable/user_guide/indexing.html#returning-a-view-versus-a-copy\n",
      "\n"
     ]
    },
    {
     "data": {
      "application/vnd.plotly.v1+json": {
       "config": {
        "plotlyServerURL": "https://plotly.com"
       },
       "data": [
        {
         "bingroup": "x",
         "hovertemplate": "Ti=%{x}<br>count=%{y}<extra></extra>",
         "legendgroup": "",
         "marker": {
          "color": "#636efa",
          "pattern": {
           "shape": ""
          }
         },
         "name": "",
         "nbinsx": 30,
         "orientation": "v",
         "showlegend": false,
         "type": "histogram",
         "x": {
          "bdata": "EhVp6N083r8sa9obVsLKP2sAfq5WDN2/6WQ1RTuP378ta9obVsLKP4DYFwAoY9y/+KH/uLW+478R27gzvEzhv44lBNLFRdq/gNgXAChj3L97wpZDlWyuv5WZvvdgFbs/lZm+92AVuz8iUjNcWGziv5HCcpusefo/ZXXQLiOY27815tJeUPzUv2e5yn38Xui/AJoL+bbCZD+2TUPXtWXPv5Bp/iCfDOe/d2jcegi+47//zuDwytLEv82t0cY5Sti/DXqZCocV4782Ou8LTXbbv/ZT6K3QmNo/XM391JOz6L9S4TAsKwjpvws2n7utTta/fnrelh+K2T+Qaf4gnwznvxJJdNlIWPY/F2Zms+/A4r8sa9obVsLKPws2n7utTta/NjrvC01227/NrdHGOUrYv5Tx8r5RmuA/YOoir+8j2r8SBUeKuonkv38ZWW2AQ+E/jiUE0sVF2r/NrdHGOUrYv9IrqajgeMU/gNgXAChj3L/x3y2INcm5v9jDLMagMtu/LLnxJjvo4z+ef8ZB8G28v5XKHUrUQ+W/UJ023VFB3L9HKVH7r1nqvxIVaejdPN6/d2jcegi+478gDjkNf6XVvy1r2htWwso/O8Wci4Dq3L815tJeUPzUvxIVaejdPN6/jiUE0sVF2r/4of+4tb7jv+PJZWfkZ+S/Czafu61O1r87xZyLgOrcv1IvSDcQLsK/ZXXQLiOY27+IRjqllVfSv9WQIC9IvKG/Wg4SZEAcyr+Qaf4gnwznv8XOB5oJXNC/zK3RxjlK2L8NNnn+gUCrv7jVN3Vo89i/kGn+IJ8M57+OJQTSxUXav/okAorBaPo/XM391JOz6L84Wo2E68u1P44lBNLFRdq/awB+rlYM3b8u/et1FK/QP+pHqmp1D9S/kcJym6x5+j9AFppWkm7hv2rGzfk0HOC/Wg4SZEAcyr927Hc1ay/AP2V10C4jmNu/+KH/uLW+4787IzbT6UL4P5AxtEf2RwtA+KH/uLW+47+OJQTSxUXav1zN/dSTs+i/7YukuU7W4L/4of+4tb7jv//O4PDK0sS/SJoL+bbCZD9czf3Uk7PovzhajYTry7U/EhVp6N083r8LNp+7rU7Wv2rGzfk0HOC/AnRgaUPg2b9Imgv5tsJkPzXm0l5Q/NS/+KH/uLW+479elgYC86nTv2V10C4jmNu/KPmyr9+VDkArxlqj3bTVP7U61bj7RLC/ZXXQLiOY278pMf2IiFrqv7U61bj7RLC/YNoAUcxw4L/FgPCOJDbnP5Tx8r5RmuA/zaO0Ci7r2z+OJQTSxUXav0cpUfuvWeq/lPHyvlGa4D9LAmf/+hnhv1zN/dSTs+i/O8Wci4Dq3L8NepkKhxXjv1LhMCwrCOm/LGvaG1bCyj8NepkKhxXjv8Vec+e30vg/Czafu61O1r8LNp+7rU7Wv1TUx6+IO9e/O8Wci4Dq3L8o+bKv35UOQHbsdzVrL8A/DquyCVppD0BelgYC86nTvyxr2htWwso/uNU3dWjz2L9KH1/7qhK/v8fE6t39/NM/O8Wci4Dq3L87xZyLgOrcv1zN/dSTs+i/asbN+TQc4L8Oq7IJWmkPQJTx8r5RmuA/w9twFqwo4r/2XQVq3PfWv4DYFwAoY9y/XSZyT6Eg/D/ihWsYC6HXv1zN/dSTs+i/UJ023VFB3L9czf3Uk7Pov/dT6K3QmNo/AM/g8MrSxL91FtmtvfTfv5Bp/iCfDOe/XM391JOz6L+Y4tDGsGqIv7U61bj7RLC/tTrVuPtEsL/HPJA/4V/gv68tZRvZDua/Vu4zqGPF4L8wr0GMGQLavzCvQYwZAtq//TzPlgzm3r/ti6S5Ttbgv0AWmlaSbuG/LXiwueIH37+6KVQiZW3fv/ih/7i1vuO/LGvaG1bCyj+Qaf4gnwznv/HfLYg1ybm/XM391JOz6L+Qaf4gnwznv1zN/dSTs+i/8d8tiDXJub8ta9obVsLKPw6rsglaaQ9Acm6gU8QA079czf3Uk7Povyy58SY76OM/lPHyvlGa4D/NrdHGOUrYv/dT6K3QmNo/x2t2Y/CP8D87xZyLgOrcv18zdcvZ3fM/xYDwjiQ25z/NrdHGOUrYv2q5N5/m17q/RylR+69Z6r82gTUbvarNPy1r2htWwso/XpYGAvOp078ta9obVsLKP/ih/7i1vuO/J+0COq+T3b9czf3Uk7PovwDP4PDK0sS/za3RxjlK2L9AFppWkm7hv2e5yn38Xui/kWn+IJ8M57/9PM+WDObevzvFnIuA6ty/svZtSDgF0b8n7QI6r5Pdvyxr2htWwso/0iupqOB4xT8qMf2IiFrqv44lBNLFRdq/RilR+69Z6r/3U+it0JjaP2sAfq5WDN2/6WQ1RTuP379UL0g3EC7CvyCKo+1+jZK/zaO0Ci7r2z/FgPCOJDbnPyxr2htWwso/VRsOv/hvyT+FU6MhOCTkv44lBNLFRdq/+KH/uLW+47/pZDVFO4/fv5Tx8r5RmuA/O8Wci4Dq3L/O8csVExHlv4DYFwAoY9y/iu5y/45L37947Hc1ay/AP18zdcvZ3fM/agB+rlYM3b9QnTbdUUHcvyxr2htWwso/Ml7ewJ1uy7/ihWsYC6HXv82t0cY5Sti/DquyCVppD0Bczf3Uk7Povyxr2htWwso/s01D17Vlz7/Ha3Zj8I/wPyxr2htWwso/DquyCVppD0B6wpZDlWyuv3bsdzVrL8A/ZrnKffxe6L+U8fK+UZrgP3pNaoD07tq/asbN+TQc4L/WHq1NKCXGv8WA8I4kNuc/UuEwLCsI6b+Y50IkMLTWv1zN/dSTs+i/uNU3dWjz2L+GUxBDIp22vy1r2htWwso/LGvaG1bCyj/HxOrd/fzTP16WBgLzqdO/4oVrGAuh179elgYC86nTvxZZ0FihfL2/XpYGAvOp078Oq7IJWmkPQJPPdRflNvI/tU1D17Vlz78sa9obVsLKPy1r2htWwso/kGn+IJ8M57+U8fK+UZrgP5Bp/iCfDOe/svZtSDgF0b9czf3Uk7Pov4ZTEEMinba/O1qNhOvLtT8ta9obVsLKP82t0cY5Sti/RylR+69Z6r8eg2XQHyOpv0ofX/uqEr+/LWvaG1bCyj+Raf4gnwznvxdmZrPvwOK/2MMsxqAy279elgYC86nTv1XuM6hjxeC/GiVSJENY0T9lddAuI5jbv/08z5YM5t6/hVOjITgk5L9S4TAsKwjpvzvFnIuA6ty/w7sZAsw9n79elgYC86nTv1/aAFHMcOC/lcodStRD5b/3U+it0JjaP+2LpLlO1uC/LLnxJjvo4z/WHq1NKCXGv82t0cY5Sti/hlMQQyKdtr8pinEDlsf9P44lBNLFRdq/za3RxjlK2L/3U+it0JjaPxfhV9VpkeQ/TCz1VflW5L82Ou8LTXbbv16WBgLzqdO/X9oAUcxw4L8sufEmO+jjP8fE6t39/NM/XM391JOz6L9czf3Uk7Povy3QUaK9Bae/XM391JOz6L+WkyZ3MzrQv1zN/dSTs+i/Ui9INxAuwr/pZDVFO4/fv44lBNLFRdq/sfZtSDgF0b8sufEmO+jjP1zN/dSTs+i/zvHLFRMR5b9lddAuI5jbv2V10C4jmNu/fJFkz82157/3U+it0JjaP1zN/dSTs+i/XpYGAvOp078wr0GMGQLav9izCmh9f+G/YNoAUcxw4L9QnTbdUUHcv0cpUfuvWeq/hVOjITgk5L+Qaf4gnwznvwJ0YGlD4Nm/fOLHmklJ5j9V7jOoY8Xgv1CdNt1RQdy/LLnxJjvo4z/pZDVFO4/fvws2n7utTta/O8Wci4Dq3L9clbP76u4MQMfRwHuKQsi/6WQ1RTuP37/3U+it0JjaP4dGOqWVV9K/MK9BjBkC2r8XZmaz78Div2V10C4jmNu/LGvaG1bCyj/x3y2INcm5v2DqIq/vI9q/RilR+69Z6r9AFppWkm7hv0sSiV0ezdq/x8Tq3f380z+mQZhycGPmv0PYcakb9Pw/zvHLFRMR5b8ZQYcfJbzkv0sCZ//6GeG/lPHyvlGa4D+zdyTJiyihPy1r2htWwso/XM391JOz6L+GU6MhOCTkv4dGOqWVV9K/RylR+69Z6r+GUxBDIp22v1CdNt1RQdy/XM391JOz6L9AFppWkm7hv0PYcakb9Pw/pUGYcnBj5r9lddAuI5jbv8WA8I4kNuc/XM391JOz6L82Ou8LTXbbv1zN/dSTs+i/UuEwLCsI6b87xZyLgOrcvwb/Del2VNu/LGvaG1bCyj9lddAuI5jbv3vClkOVbK6/dux3NWsvwD9AFppWkm7hv5Bp/iCfDOe/UuEwLCsI6b9czf3Uk7Pov2DqIq/vI9q/VNTHr4g7179elgYC86nTv7jVN3Vo89i/MK9BjBkC2r8sa9obVsLKP0sCZ//6GeG/k891F+U28j9czf3Uk7Pov0sCZ//6GeG/QFBKC7Re3r/auLkqsbfmvyy58SY76OM/avBbUDNZ479czf3Uk7Pov0cpUfuvWeq/+afX880/FED/zuDwytLEvzvFnIuA6ty/LD4ABcEX4r9elgYC86nTv5Tx8r5RmuA/Sb5ssCFT1L9S4TAsKwjpv5Bp/iCfDOe/91PordCY2j/j2YfFBxvev2DaAFHMcOC/HYqj7X6Nkr8sa9obVsLKP8WA8I4kNuc/HYqj7X6Nkr9nucp9/F7ovws2n7utTta/1AgG1Gkgnb+qiEujyhDbv1zN/dSTs+i/O8Wci4Dq3L9czf3Uk7Povykx/YiIWuq/tTrVuPtEsL9HKVH7r1nqv4ZTEEMinba/LWvaG1bCyj+41Td1aPPYvyxr2htWwso/tI6ERA5G5L/4of+4tb7jv5Bp/iCfDOe/Wg4SZEAcyr8sa9obVsLKPw6rsglaaQ9ADquyCVppD0BlddAuI5jbvyxr2htWwso/kcJym6x5+j+Raf4gnwznv1LhMCwrCOm/XM391JOz6L9xpZcmZQrov0cpUfuvWeq/tnckyYsooT9LAmf/+hnhvyxr2htWwso/asbN+TQc4L9elgYC86nTv7VNQ9e1Zc+/uNU3dWjz2L8LNp+7rU7Wv1LhMCwrCOm//TzPlgzm3r8ta9obVsLKP16WBgLzqdO/G9enOkir2r9rAH6uVgzdv5Bp/iCfDOe/DquyCVppD0Cef8ZB8G28v2V10C4jmNu/MK9BjBkC2r+U8fK+UZrgP4DYFwAoY9y/aU4omFG50z8sa9obVsLKP3JuoFPEANO/lPHyvlGa4D/erHONPf/3P1LhMCwrCOm/EhVp6N083r8Grqod+8DMv7M61bj7RLC/XM391JOz6L9qxs35NBzgv43i0Mawaoi/awB+rlYM3b97wpZDlWyuv+KFaxgLode/XM391JOz6L+vLWUb2Q7mvyy58SY76OM/XpYGAvOp079bbEvNSPW8vxdmZrPvwOK/XpYGAvOp078ta9obVsLKP5WZvvdgFbs/za3RxjlK2L8SSXTZSFj2P1CdNt1RQdy/6WQ1RTuP37/4of+4tb7jv/dT6K3QmNo/kGn+IJ8M578eg2XQHyOpv3bsdzVrL8A/6WQ1RTuP378Grqod+8DMv0PYcakb9Pw/9g/uXvfR7T/UCAbUaSCdv8fE6t39/NM/GSVSJENY0T+j/Z0jl5zZv0YpUfuvWeq/Wg4SZEAcyr84Wo2E68u1P5Bp/iCfDOe/KYpxA5bH/T8pMf2IiFrqv6P9nSOXnNm/x2t2Y/CP8D8sPgAFwRfiv0q0T/QV9Nc/kGn+IJ8M57/2D+5e99HtP7ZNQ9e1Zc+/kGn+IJ8M57+Qaf4gnwznvykx/YiIWuq/LWvaG1bCyj9czf3Uk7PovxIVaejdPN6/VNTHr4g7178LNp+7rU7Wv0YpUfuvWeq/F+FX1WmR5D8NepkKhxXjv5PPdRflNvI/Q9hxqRv0/D8sPgAFwRfiv1LhMCwrCOm/mx7U9mau0b8Oq7IJWmkPQGsAfq5WDN2/XpYGAvOp0787xZyLgOrcv4ZTEEMinba/Z7nKffxe6L8sufEmO+jjPzvFnIuA6ty/+KH/uLW+479V7jOoY8Xgv+61MhBNE+S/XM391JOz6L+Qaf4gnwznv16WBgLzqdO/duOzoXAbDEB6TWqA9O7av//O4PDK0sS/hVOjITgk5L+Vmb73YBW7Pyw+AAXBF+K/RylR+69Z6r+41Td1aPPYv1zN/dSTs+i/1h6tTSglxr9czf3Uk7Povx7H8v0OcbO/uNU3dWjz2L87xZyLgOrcv8lmHpbfnOO/xYDwjiQ25z+OJQTSxUXavxvXpzpIq9q/LJd0f86E9T/3U+it0JjaP2V10C4jmNu/x8Tq3f380z815tJeUPzUv/dT6K3QmNo/M5oL+bbCZD84gTUbvarNP37YFwAoY9y/PLV6LV0347/4of+4tb7jvxJJdNlIWPY/klyVpPw/1b8sufEmO+jjP8fE6t39/NM/o/2dI5ec2b/FgPCOJDbnP8tmi7fJFba/G9enOkir2r/dTtpF1KbcvzvFnIuA6ty/pUGYcnBj5r+Qaf4gnwznv3Zo3HoIvuO/F2Zms+/A4r87xZyLgOrcv7U61bj7RLC//87g8MrSxL+1OtW4+0Swv0AWmlaSbuG/Czafu61O1r+OJQTSxUXav/ih/7i1vuO/Ve4zqGPF4L8sufEmO+jjP82t0cY5Sti/mx7U9mau0b+TPrfDLgUDQNIoXehJC+C/MK9BjBkC2r9HKVH7r1nqv16WBgLzqdO/UJ023VFB3L9U1MeviDvXv68tZRvZDua/4FerIQZmkT94qOoHfOHFv2rGzfk0HOC/91PordCY2j/Ha3Zj8I/wP6P9nSOXnNm/VijkXIW13b8Oq7IJWmkPQMWA8I4kNuc/XdPVD6w0GUCRwnKbrHn6P0AWmlaSbuG/F+FX1WmR5D/aCnPVEGfNP1zN/dSTs+i/LGvaG1bCyj8pMf2IiFrqvzvFnIuA6ty/LLnxJjvo4z+ef8ZB8G28vxoyKMLPncW/YNoAUcxw4L87xZyLgOrcv4VToyE4JOS/ZXXQLiOY27/3U+it0JjaP+tHqmp1D9S/lZm+92AVuz9elgYC86nTv82jtAou69s/UuEwLCsI6b9xpZcmZQrovw16mQqHFeO/Hsfy/Q5xs78Grqod+8DMv5Bp/iCfDOe/Czafu61O1r8SBUeKuonkv4hGOqWVV9K/kGn+IJ8M579mucp9/F7ov2rGzfk0HOC/XpYGAvOp07/9PM+WDObevyw+AAXBF+K/o/2dI5ec2b+zOtW4+0Swv1OTGSFG4t8/LLnxJjvo4z+j/Z0jl5zZvzhajYTry7U/lPHyvlGa4D9LAmf/+hnhvzXm0l5Q/NS/caWXJmUK6L9elgYC86nTvws2n7utTta/7rUyEE0T5L+Qaf4gnwznv/DfLYg1ybm/KTH9iIha6r/pZDVFO4/fv1XuM6hjxeC/DXqZCocV4787xZyLgOrcvyftAjqvk92/o/2dI5ec2b8pMf2IiFrqv91O2kXUpty/LGvaG1bCyj+ab2rCl0n1P1zN/dSTs+i/XpYGAvOp07+Qaf4gnwznv68tZRvZDua/gNgXAChj3L8sa9obVsLKPyftAjqvk92/uNU3dWjz2L+Qaf4gnwznvyxr2htWwso/d2jcegi+479GKVH7r1nqvyxr2htWwso/G9enOkir2r+U8fK+UZrgP/HfLYg1ybm/ZXXQLiOY27+41Td1aPPYv4hGOqWVV9K/LLnxJjvo4z9qAH6uVgzdv0PYcakb9Pw/UJ023VFB3L8wr0GMGQLavzY67wtNdtu/KPmyr9+VDkDYwyzGoDLbv/HfLYg1ybm/x9q3DzpeAUBelgYC86nTv9oKc9UQZ80/kGn+IJ8M57/ihWsYC6HXv2V10C4jmNu/O8Wci4Dq3L9fM3XL2d3zP16WBgLzqdO/asbN+TQc4L9g6iKv7yPav5ig/BTAf7S/UJ023VFB3L+Qaf4gnwznv9QIBtRpIJ2/x8Tq3f380z8LNp+7rU7Wvyxr2htWwso/1ZAgL0i8ob8SFWno3Tzev16WBgLzqdO/za3RxjlK2L9czf3Uk7Pov7U61bj7RLC/o/2dI5ec2b/Ha3Zj8I/wP/ih/7i1vuO/Ao7MYR5q479QnTbdUUHcvww2n7utTta/IQQcUXNG2T8pMf2IiFrqv16WBgLzqdO/kcJym6x5+j8XZmaz78Divykx/YiIWuq/LLnxJjvo4z/3U+it0JjaP1zN/dSTs+i/h0Y6pZVX0r98kWTPzbXnv/ih/7i1vuO/XpYGAvOp07+41Td1aPPYv/ih/7i1vuO/YOoir+8j2r9D2HGpG/T8P671GkIwSgpA0CupqOB4xT9elgYC86nTvw6rsglaaQ9AkGn+IJ8M579dSO/2DYTqP8fE6t39/NM/NjrvC012278WZmaz78Div68tZRvZDua/Vu4zqGPF4L/3U+it0JjaPzvFnIuA6ty/zaO0Ci7r2z//zuDwytLEvxvXpzpIq9q/LD4ABcEX4r/ihWsYC6HXv1CdNt1RQdy/lcodStRD5b+GUxBDIp22vyy58SY76OM/+KH/uLW+478Az+DwytLEvzY67wtNdtu/asbN+TQc4L+41Td1aPPYvyftAjqvk92/AM/g8MrSxL+aVcvJB7jmv16WBgLzqdO/xc4Hmglc0L8sa9obVsLKP18zdcvZ3fM/+KH/uLW+47/dTtpF1KbcvzvFnIuA6ty/Wg4SZEAcyr8n7QI6r5PdvxdmZrPvwOK/kcJym6x5+j9czf3Uk7Pov6VBmHJwY+a/YOoir+8j2r96TWqA9O7avzXm0l5Q/NS/LWvaG1bCyj/No7QKLuvbPxM2ef6BQKu/LGvaG1bCyj/4of+4tb7jv3bsdzVrL8A/LLnxJjvo4z87xZyLgOrcvykx/YiIWuq/KTH9iIha6r8ra9obVsLKPzXm0l5Q/NS//TzPlgzm3r+ejFycPrLhv1XuM6hjxeC/F2Zms+/A4r8wr0GMGQLavzJe3sCdbsu/xYDwjiQ25z/YwyzGoDLbv5Tx8r5RmuA/rhP5Iv6E3L8sufEmO+jjP+lkNUU7j9+/asbN+TQc4L8pMf2IiFrqv1zN/dSTs+i/KTH9iIha6r9g6iKv7yPavww2n7utTta/RilR+69Z6r96TWqA9O7avyxr2htWwso/NebSXlD81L+1OtW4+0Swv5WZvvdgFbs/xYDwjiQ25z9dSO/2DYTqPy1r2htWwso//TzPlgzm3r9VGw6/+G/JP5Bp/iCfDOe/Hsfy/Q5xs78Grqod+8DMv1zN/dSTs+i/Ve4zqGPF4L8sufEmO+jjPyxr2htWwso/ShKJXR7N2r87xZyLgOrcvzvFnIuA6ty/EhVp6N083r+Qaf4gnwznv+2LpLlO1uC/4jQITY8Nyb+IRjqllVfSv/ih/7i1vuO/XM391JOz6L/pZDVFO4/fvyw+AAXBF+K/kGn+IJ8M57+41Td1aPPYv1zN/dSTs+i/ftgXAChj3L9V7jOoY8XgvzXm0l5Q/NS/XM391JOz6L9QnTbdUUHcvws2n7utTta/LLnxJjvo4z/D65J0z9vbv/dT6K3QmNo/0CupqOB4xT9qxs35NBzgvxIVaejdPN6/ZXXQLiOY27/FgPCOJDbnP1zN/dSTs+i/jiUE0sVF2r/FzgeaCVzQv3BRe3lokOG//TzPlgzm3r9czf3Uk7Pov0cpUfuvWeq/LLnxJjvo4z+GUxBDIp22vws2n7utTta/+KH/uLW+47+IRjqllVfSv82t0cY5Sti/uNU3dWjz2L+Vmb73YBW7PzY67wtNdtu/1AgG1Gkgnb8ta9obVsLKP1oOEmRAHMq/+KH/uLW+478sa9obVsLKP8PbcBasKOK/za3RxjlK2L9q8FtQM1njv4hGOqWVV9K/GEGHHyW85L+lQZhycGPmvxdmZrPvwOK/LGvaG1bCyj8LNp+7rU7Wv1zN/dSTs+i/XpYGAvOp07/ihWsYC6HXv99Z101IExVARylR+69Z6r8sufEmO+jjP0TiW2VyS8S/ftgXAChj3L/NrdHGOUrYv4NjxX9b192/0acN7n0H6b8pinEDlsf9P1CdNt1RQdy/+KH/uLW+479lddAuI5jbv+lkNUU7j9+/LGvaG1bCyj96TWqA9O7avzbctaJEndg/IVIzXFhs4r/3U+it0JjaPzBe3sCdbsu/za3RxjlK2L+41Td1aPPYvyy58SY76OM/+KH/uLW+478ra9obVsLKP1zN/dSTs+i/dXFZNUXnyr9wiysuioDev/08z5YM5t6/VijkXIW13b+tE/ki/oTcv/dT6K3QmNo/gNgXAChj3L8C3y8tmv3hP0iaC/m2wmQ/agB+rlYM3b8m7QI6r5Pdv16WBgLzqdO/jiUE0sVF2r+A2BcAKGPcv3GllyZlCui/ek1qgPTu2r8SFWno3Tzev/ih/7i1vuO/unKmPk8n+T958LYdqdgDQBIVaejdPN6/XM391JOz6L8Irqod+8DMvyw+AAXBF+K/2gpz1RBnzT9V7jOoY8Xgv7B3JMmLKKE/4oVrGAuh17/9PM+WDObevyxr2htWwso/AnRgaUPg2b//zuDwytLEv/HfLYg1ybm//87g8MrSxL+41Td1aPPYv+lkNUU7j9+/LLnxJjvo4z9jIbSBJh7Vv2e5yn38Xui/za3RxjlK2L8sufEmO+jjP/dT6K3QmNo/tTrVuPtEsL8pinEDlsf9P1UbDr/4b8k/AOQHi4NWij8QNnn+gUCrvy1r2htWwso/0CupqOB4xT/hNAhNjw3Jv/ih/7i1vuO/uNU3dWjz2L/3U+it0JjaP75g5fSbZ9q/ek1qgPTu2r/pZDVFO4/fvyxr2htWwso/NebSXlD81L9lddAuI5jbv5Tx8r5RmuA/o/2dI5ec2b8LNp+7rU7Wv44lBNLFRdq//87g8MrSxL87xZyLgOrcv/YP7l730e0/nRS3OltP1T8ta9obVsLKP1oOEmRAHMq/EhVp6N083r9aDhJkQBzKvxIVaejdPN6/SwJn//oZ4b/4of+4tb7jvy1r2htWwso/+KH/uLW+478sa9obVsLKP/HfLYg1ybm/LWvaG1bCyj9lddAuI5jbv8fE6t39/NM/HoNl0B8jqb/FXnPnt9L4Pyxr2htWwso/LLnxJjvo4z+HRjqllVfSv44lBNLFRdq/LGvaG1bCyj9dSO/2DYTqP/08z5YM5t6/2MMsxqAy279lddAuI5jbv3GllyZlCui/91PordCY2j8b16c6SKvavxvXpzpIq9q/veg/k7gE7j8sPgAFwRfiv1CdNt1RQdy/+KH/uLW+478CdGBpQ+DZv+EouLW/igBA91PordCY2j84Wo2E68u1P95O2kXUpty/O8Wci4Dq3L96TWqA9O7av0cpUfuvWeq/O8Wci4Dq3L+tcOarLL6XP5Bp/iCfDOe/YNoAUcxw4L+Qaf4gnwznvyy58SY76OM/EhVp6N083r8sa9obVsLKP4hGOqWVV9K/o/2dI5ec2b+41Td1aPPYvzvFnIuA6ty/hVOjITgk5L8sa9obVsLKP2sAfq5WDN2/91PordCY2j/NrdHGOUrYvyyXdH/OhPU/kWn+IJ8M57/4of+4tb7jv44lBNLFRdq/hkY6pZVX0r9+hPtSK+nVv1TUx6+IO9e/XM391JOz6L87xZyLgOrcv+KFaxgLode/W2xLzUj1vL/4of+4tb7jv2V10C4jmNu/pUGYcnBj5r9lddAuI5jbv1zN/dSTs+i/LLnxJjvo4z+a3SVoJFXaP+61MhBNE+S/EhVp6N083r8Oq7IJWmkPQF6WBgLzqdO/lPHyvlGa4D/x3y2INcm5v1zN/dSTs+i/MK9BjBkC2r8LNp+7rU7Wv/HfLYg1ybm/dux3NWsvwD9czf3Uk7Pov1oOEmRAHMq/rgPXxNrR4r9czf3Uk7Pov1CdNt1RQdy/Q+JbZXJLxL8CdGBpQ+DZvy1r2htWwso/LLnxJjvo4z947Hc1ay/APxlBhx8lvOS/za3RxjlK2L8LNp+7rU7Wvw2Ku2iqyNy/LLnxJjvo4z+Vmb73YBW7P5Tx8r5RmuA/XM391JOz6L9xpZcmZQrov1zN/dSTs+i/eOx3NWsvwD9TMpT3ppvnP1XuM6hjxeC/ark3n+bXur8Grqod+8DMv1zN/dSTs+i/SJoL+bbCZD9lddAuI5jbv7WepqIx+d2/CK6qHfvAzL947Hc1ay/AP8drdmPwj/A/LLnxJjvo4z9Imgv5tsJkP16WBgLzqdO/o/2dI5ec2b8LNp+7rU7Wv16WBgLzqdO/tTrVuPtEsL8sa9obVsLKP671GkIwSgpACK6qHfvAzL9+2BcAKGPcv/dT6K3QmNo/ry1lG9kO5r87Wo2E68u1P82t0cY5Sti/O8Wci4Dq3L+Qaf4gnwznvw16mQqHFeO/RylR+69Z6r+vLWUb2Q7mv87xyxUTEeW/Ve4zqGPF4L/hKLi1v4oAQPZ3cWK3geC/LLnxJjvo4z/3U+it0JjaP0sCZ//6GeG/lPHyvlGa4D/NrdHGOUrYv2DqIq/vI9q/G9enOkir2r+Vmb73YBW7PyDQUaK9Bae/O8Wci4Dq3L+vLWUb2Q7mvws2n7utTta/vQKsi5OO1z+Qaf4gnwznvy1r2htWwso/kDG0R/ZHC0BxpZcmZQrov7N3JMmLKKE/Sx9f+6oSv7/FgPCOJDbnP16WBgLzqdO/XM391JOz6L/4of+4tb7jv1zN/dSTs+i/LLnxJjvo4z/4of+4tb7jv0iaC/m2wmQ/0iupqOB4xT9elgYC86nTv5Bp/iCfDOe/ZXXQLiOY27+OJQTSxUXav44lBNLFRdq/+FPordCY2j8o+bKv35UOQM2t0cY5Sti/LGvaG1bCyj82Ou8LTXbbvzCvQYwZAtq/SJoL+bbCZD9aDhJkQBzKv10mck+hIPw/XpYGAvOp079HKVH7r1nqv5pVy8kHuOa/+KH/uLW+47+OJQTSxUXavzvFnIuA6ty/JX8UlG2Aw7+YXG/n0DGqv2rGzfk0HOC/Lv3rdRSv0D+Qaf4gnwznv1oOEmRAHMq/Bv8N6XZU278LNp+7rU7WvzY67wtNdtu/Tu7MqILc/z9ybqBTxADTvykx/YiIWuq/KTH9iIha6r9933vastvAvykx/YiIWuq/8d8tiDXJub9QnTbdUUHcvxP215lTbBNAZrnKffxe6L8sa9obVsLKP2DaAFHMcOC/+KH/uLW+479aDhJkQBzKvyy58SY76OM/Wg4SZEAcyr8b16c6SKvav1zN/dSTs+i/za3RxjlK2L/pZDVFO4/fv16WBgLzqdO/LWvaG1bCyj/9PM+WDObevzU67wtNdtu/+KH/uLW+478sa9obVsLKPyftAjqvk92/Czafu61O1r8pinEDlsf9P0fL1SzEH+a/KTH9iIha6r/4of+4tb7jvztajYTry7U/jiUE0sVF2r9lddAuI5jbv1CdNt1RQdy/XM391JOz6L9QnTbdUUHcv16WBgLzqdO/Y8N6GB5F0j8sl3R/zoT1P5WZvvdgFbs/tTrVuPtEsL+2dyTJiyihP3bsdzVrL8A/LGvaG1bCyj8pinEDlsf9Py1r2htWwso/kGn+IJ8M579qxs35NBzgv/08z5YM5t6/za3RxjlK2L97wpZDlWyuv9ArqajgeMU/kGn+IJ8M57/2XQVq3PfWvyxr2htWwso/4HiVen5bwz8sa9obVsLKP5PPdRflNvI/XpYGAvOp079lddAuI5jbvxvXpzpIq9q/YOoir+8j2r8m7QI6r5Pdv+YQGZg+Fdm/llJ46PDg2D/NrdHGOUrYv2LDehgeRdI/J+0COq+T3b87xZyLgOrcv7L2bUg4BdG/LJd0f86E9T/jyWVn5Gfkv5Bp/iCfDOe/Q9hxqRv0/D9LLPVV+Vbkvyxr2htWwso/ZXXQLiOY278G/w3pdlTbv1zN/dSTs+i/LGvaG1bCyj/4of+4tb7jv3pNaoD07tq/XM391JOz6L8XZmaz78Div3bjs6FwGwxAza3RxjlK2L/dTtpF1Kbcv5Bp/iCfDOe/Lv3rdRSv0D9czf3Uk7Povw==",
          "dtype": "f8"
         },
         "xaxis": "x",
         "yaxis": "y"
        }
       ],
       "layout": {
        "barmode": "relative",
        "legend": {
         "tracegroupgap": 0
        },
        "template": {
         "data": {
          "bar": [
           {
            "error_x": {
             "color": "#2a3f5f"
            },
            "error_y": {
             "color": "#2a3f5f"
            },
            "marker": {
             "line": {
              "color": "#E5ECF6",
              "width": 0.5
             },
             "pattern": {
              "fillmode": "overlay",
              "size": 10,
              "solidity": 0.2
             }
            },
            "type": "bar"
           }
          ],
          "barpolar": [
           {
            "marker": {
             "line": {
              "color": "#E5ECF6",
              "width": 0.5
             },
             "pattern": {
              "fillmode": "overlay",
              "size": 10,
              "solidity": 0.2
             }
            },
            "type": "barpolar"
           }
          ],
          "carpet": [
           {
            "aaxis": {
             "endlinecolor": "#2a3f5f",
             "gridcolor": "white",
             "linecolor": "white",
             "minorgridcolor": "white",
             "startlinecolor": "#2a3f5f"
            },
            "baxis": {
             "endlinecolor": "#2a3f5f",
             "gridcolor": "white",
             "linecolor": "white",
             "minorgridcolor": "white",
             "startlinecolor": "#2a3f5f"
            },
            "type": "carpet"
           }
          ],
          "choropleth": [
           {
            "colorbar": {
             "outlinewidth": 0,
             "ticks": ""
            },
            "type": "choropleth"
           }
          ],
          "contour": [
           {
            "colorbar": {
             "outlinewidth": 0,
             "ticks": ""
            },
            "colorscale": [
             [
              0,
              "#0d0887"
             ],
             [
              0.1111111111111111,
              "#46039f"
             ],
             [
              0.2222222222222222,
              "#7201a8"
             ],
             [
              0.3333333333333333,
              "#9c179e"
             ],
             [
              0.4444444444444444,
              "#bd3786"
             ],
             [
              0.5555555555555556,
              "#d8576b"
             ],
             [
              0.6666666666666666,
              "#ed7953"
             ],
             [
              0.7777777777777778,
              "#fb9f3a"
             ],
             [
              0.8888888888888888,
              "#fdca26"
             ],
             [
              1,
              "#f0f921"
             ]
            ],
            "type": "contour"
           }
          ],
          "contourcarpet": [
           {
            "colorbar": {
             "outlinewidth": 0,
             "ticks": ""
            },
            "type": "contourcarpet"
           }
          ],
          "heatmap": [
           {
            "colorbar": {
             "outlinewidth": 0,
             "ticks": ""
            },
            "colorscale": [
             [
              0,
              "#0d0887"
             ],
             [
              0.1111111111111111,
              "#46039f"
             ],
             [
              0.2222222222222222,
              "#7201a8"
             ],
             [
              0.3333333333333333,
              "#9c179e"
             ],
             [
              0.4444444444444444,
              "#bd3786"
             ],
             [
              0.5555555555555556,
              "#d8576b"
             ],
             [
              0.6666666666666666,
              "#ed7953"
             ],
             [
              0.7777777777777778,
              "#fb9f3a"
             ],
             [
              0.8888888888888888,
              "#fdca26"
             ],
             [
              1,
              "#f0f921"
             ]
            ],
            "type": "heatmap"
           }
          ],
          "histogram": [
           {
            "marker": {
             "pattern": {
              "fillmode": "overlay",
              "size": 10,
              "solidity": 0.2
             }
            },
            "type": "histogram"
           }
          ],
          "histogram2d": [
           {
            "colorbar": {
             "outlinewidth": 0,
             "ticks": ""
            },
            "colorscale": [
             [
              0,
              "#0d0887"
             ],
             [
              0.1111111111111111,
              "#46039f"
             ],
             [
              0.2222222222222222,
              "#7201a8"
             ],
             [
              0.3333333333333333,
              "#9c179e"
             ],
             [
              0.4444444444444444,
              "#bd3786"
             ],
             [
              0.5555555555555556,
              "#d8576b"
             ],
             [
              0.6666666666666666,
              "#ed7953"
             ],
             [
              0.7777777777777778,
              "#fb9f3a"
             ],
             [
              0.8888888888888888,
              "#fdca26"
             ],
             [
              1,
              "#f0f921"
             ]
            ],
            "type": "histogram2d"
           }
          ],
          "histogram2dcontour": [
           {
            "colorbar": {
             "outlinewidth": 0,
             "ticks": ""
            },
            "colorscale": [
             [
              0,
              "#0d0887"
             ],
             [
              0.1111111111111111,
              "#46039f"
             ],
             [
              0.2222222222222222,
              "#7201a8"
             ],
             [
              0.3333333333333333,
              "#9c179e"
             ],
             [
              0.4444444444444444,
              "#bd3786"
             ],
             [
              0.5555555555555556,
              "#d8576b"
             ],
             [
              0.6666666666666666,
              "#ed7953"
             ],
             [
              0.7777777777777778,
              "#fb9f3a"
             ],
             [
              0.8888888888888888,
              "#fdca26"
             ],
             [
              1,
              "#f0f921"
             ]
            ],
            "type": "histogram2dcontour"
           }
          ],
          "mesh3d": [
           {
            "colorbar": {
             "outlinewidth": 0,
             "ticks": ""
            },
            "type": "mesh3d"
           }
          ],
          "parcoords": [
           {
            "line": {
             "colorbar": {
              "outlinewidth": 0,
              "ticks": ""
             }
            },
            "type": "parcoords"
           }
          ],
          "pie": [
           {
            "automargin": true,
            "type": "pie"
           }
          ],
          "scatter": [
           {
            "fillpattern": {
             "fillmode": "overlay",
             "size": 10,
             "solidity": 0.2
            },
            "type": "scatter"
           }
          ],
          "scatter3d": [
           {
            "line": {
             "colorbar": {
              "outlinewidth": 0,
              "ticks": ""
             }
            },
            "marker": {
             "colorbar": {
              "outlinewidth": 0,
              "ticks": ""
             }
            },
            "type": "scatter3d"
           }
          ],
          "scattercarpet": [
           {
            "marker": {
             "colorbar": {
              "outlinewidth": 0,
              "ticks": ""
             }
            },
            "type": "scattercarpet"
           }
          ],
          "scattergeo": [
           {
            "marker": {
             "colorbar": {
              "outlinewidth": 0,
              "ticks": ""
             }
            },
            "type": "scattergeo"
           }
          ],
          "scattergl": [
           {
            "marker": {
             "colorbar": {
              "outlinewidth": 0,
              "ticks": ""
             }
            },
            "type": "scattergl"
           }
          ],
          "scattermap": [
           {
            "marker": {
             "colorbar": {
              "outlinewidth": 0,
              "ticks": ""
             }
            },
            "type": "scattermap"
           }
          ],
          "scattermapbox": [
           {
            "marker": {
             "colorbar": {
              "outlinewidth": 0,
              "ticks": ""
             }
            },
            "type": "scattermapbox"
           }
          ],
          "scatterpolar": [
           {
            "marker": {
             "colorbar": {
              "outlinewidth": 0,
              "ticks": ""
             }
            },
            "type": "scatterpolar"
           }
          ],
          "scatterpolargl": [
           {
            "marker": {
             "colorbar": {
              "outlinewidth": 0,
              "ticks": ""
             }
            },
            "type": "scatterpolargl"
           }
          ],
          "scatterternary": [
           {
            "marker": {
             "colorbar": {
              "outlinewidth": 0,
              "ticks": ""
             }
            },
            "type": "scatterternary"
           }
          ],
          "surface": [
           {
            "colorbar": {
             "outlinewidth": 0,
             "ticks": ""
            },
            "colorscale": [
             [
              0,
              "#0d0887"
             ],
             [
              0.1111111111111111,
              "#46039f"
             ],
             [
              0.2222222222222222,
              "#7201a8"
             ],
             [
              0.3333333333333333,
              "#9c179e"
             ],
             [
              0.4444444444444444,
              "#bd3786"
             ],
             [
              0.5555555555555556,
              "#d8576b"
             ],
             [
              0.6666666666666666,
              "#ed7953"
             ],
             [
              0.7777777777777778,
              "#fb9f3a"
             ],
             [
              0.8888888888888888,
              "#fdca26"
             ],
             [
              1,
              "#f0f921"
             ]
            ],
            "type": "surface"
           }
          ],
          "table": [
           {
            "cells": {
             "fill": {
              "color": "#EBF0F8"
             },
             "line": {
              "color": "white"
             }
            },
            "header": {
             "fill": {
              "color": "#C8D4E3"
             },
             "line": {
              "color": "white"
             }
            },
            "type": "table"
           }
          ]
         },
         "layout": {
          "annotationdefaults": {
           "arrowcolor": "#2a3f5f",
           "arrowhead": 0,
           "arrowwidth": 1
          },
          "autotypenumbers": "strict",
          "coloraxis": {
           "colorbar": {
            "outlinewidth": 0,
            "ticks": ""
           }
          },
          "colorscale": {
           "diverging": [
            [
             0,
             "#8e0152"
            ],
            [
             0.1,
             "#c51b7d"
            ],
            [
             0.2,
             "#de77ae"
            ],
            [
             0.3,
             "#f1b6da"
            ],
            [
             0.4,
             "#fde0ef"
            ],
            [
             0.5,
             "#f7f7f7"
            ],
            [
             0.6,
             "#e6f5d0"
            ],
            [
             0.7,
             "#b8e186"
            ],
            [
             0.8,
             "#7fbc41"
            ],
            [
             0.9,
             "#4d9221"
            ],
            [
             1,
             "#276419"
            ]
           ],
           "sequential": [
            [
             0,
             "#0d0887"
            ],
            [
             0.1111111111111111,
             "#46039f"
            ],
            [
             0.2222222222222222,
             "#7201a8"
            ],
            [
             0.3333333333333333,
             "#9c179e"
            ],
            [
             0.4444444444444444,
             "#bd3786"
            ],
            [
             0.5555555555555556,
             "#d8576b"
            ],
            [
             0.6666666666666666,
             "#ed7953"
            ],
            [
             0.7777777777777778,
             "#fb9f3a"
            ],
            [
             0.8888888888888888,
             "#fdca26"
            ],
            [
             1,
             "#f0f921"
            ]
           ],
           "sequentialminus": [
            [
             0,
             "#0d0887"
            ],
            [
             0.1111111111111111,
             "#46039f"
            ],
            [
             0.2222222222222222,
             "#7201a8"
            ],
            [
             0.3333333333333333,
             "#9c179e"
            ],
            [
             0.4444444444444444,
             "#bd3786"
            ],
            [
             0.5555555555555556,
             "#d8576b"
            ],
            [
             0.6666666666666666,
             "#ed7953"
            ],
            [
             0.7777777777777778,
             "#fb9f3a"
            ],
            [
             0.8888888888888888,
             "#fdca26"
            ],
            [
             1,
             "#f0f921"
            ]
           ]
          },
          "colorway": [
           "#636efa",
           "#EF553B",
           "#00cc96",
           "#ab63fa",
           "#FFA15A",
           "#19d3f3",
           "#FF6692",
           "#B6E880",
           "#FF97FF",
           "#FECB52"
          ],
          "font": {
           "color": "#2a3f5f"
          },
          "geo": {
           "bgcolor": "white",
           "lakecolor": "white",
           "landcolor": "#E5ECF6",
           "showlakes": true,
           "showland": true,
           "subunitcolor": "white"
          },
          "hoverlabel": {
           "align": "left"
          },
          "hovermode": "closest",
          "mapbox": {
           "style": "light"
          },
          "paper_bgcolor": "white",
          "plot_bgcolor": "#E5ECF6",
          "polar": {
           "angularaxis": {
            "gridcolor": "white",
            "linecolor": "white",
            "ticks": ""
           },
           "bgcolor": "#E5ECF6",
           "radialaxis": {
            "gridcolor": "white",
            "linecolor": "white",
            "ticks": ""
           }
          },
          "scene": {
           "xaxis": {
            "backgroundcolor": "#E5ECF6",
            "gridcolor": "white",
            "gridwidth": 2,
            "linecolor": "white",
            "showbackground": true,
            "ticks": "",
            "zerolinecolor": "white"
           },
           "yaxis": {
            "backgroundcolor": "#E5ECF6",
            "gridcolor": "white",
            "gridwidth": 2,
            "linecolor": "white",
            "showbackground": true,
            "ticks": "",
            "zerolinecolor": "white"
           },
           "zaxis": {
            "backgroundcolor": "#E5ECF6",
            "gridcolor": "white",
            "gridwidth": 2,
            "linecolor": "white",
            "showbackground": true,
            "ticks": "",
            "zerolinecolor": "white"
           }
          },
          "shapedefaults": {
           "line": {
            "color": "#2a3f5f"
           }
          },
          "ternary": {
           "aaxis": {
            "gridcolor": "white",
            "linecolor": "white",
            "ticks": ""
           },
           "baxis": {
            "gridcolor": "white",
            "linecolor": "white",
            "ticks": ""
           },
           "bgcolor": "#E5ECF6",
           "caxis": {
            "gridcolor": "white",
            "linecolor": "white",
            "ticks": ""
           }
          },
          "title": {
           "x": 0.05
          },
          "xaxis": {
           "automargin": true,
           "gridcolor": "white",
           "linecolor": "white",
           "ticks": "",
           "title": {
            "standoff": 15
           },
           "zerolinecolor": "white",
           "zerolinewidth": 2
          },
          "yaxis": {
           "automargin": true,
           "gridcolor": "white",
           "linecolor": "white",
           "ticks": "",
           "title": {
            "standoff": 15
           },
           "zerolinecolor": "white",
           "zerolinewidth": 2
          }
         }
        },
        "title": {
         "text": "Ti after imputation"
        },
        "xaxis": {
         "anchor": "y",
         "domain": [
          0,
          1
         ],
         "title": {
          "text": "Ti"
         }
        },
        "yaxis": {
         "anchor": "x",
         "domain": [
          0,
          1
         ],
         "title": {
          "text": "count"
         }
        }
       }
      }
     },
     "metadata": {},
     "output_type": "display_data"
    }
   ],
   "source": [
    "#uts before imputation :\n",
    "from sklearn.impute import KNNImputer\n",
    "from sklearn.pipeline import Pipeline\n",
    "from sklearn.preprocessing import StandardScaler\n",
    "\n",
    "print(\"Nombre total de valeurs manquantes avant traitement :\", df_train.isna().sum().sum())\n",
    "\n",
    "px.histogram(df_train, x=\"Ti\", nbins=30, title=\"Ti before imputation\").show()\n",
    "\n",
    "# Colonnes à exclure du traitement\n",
    "excluded_cols = [\"Charpy_toughness\", \"Elongation\", \"UTS\"]\n",
    "\n",
    "# Séparation des colonnes numériques et catégorielles\n",
    "num_cols = df_train.select_dtypes(include=[np.number]).columns\n",
    "cat_cols = df_train.select_dtypes(exclude=[np.number]).columns\n",
    "\n",
    "# Colonnes numériques sur lesquelles appliquer le KNNImputer\n",
    "num_cols_to_impute = [col for col in num_cols if col not in excluded_cols]\n",
    "\n",
    "# Création du pipeline\n",
    "pipeline = Pipeline([\n",
    "    ('scaler', StandardScaler()),\n",
    "    ('imputer', KNNImputer(n_neighbors=5))\n",
    "])\n",
    "\n",
    "# Application du pipeline uniquement sur les colonnes sélectionnées\n",
    "df_train[num_cols_to_impute] = pipeline.fit_transform(df_train[num_cols_to_impute])\n",
    "\n",
    "# Remplissage des valeurs manquantes pour les variables catégorielles\n",
    "for col in cat_cols:\n",
    "    df_train[col] = df_train[col].fillna(df_train[col].mode()[0])\n",
    "\n",
    "print(cat_cols)\n",
    "print(df_train.info())\n",
    "# Vérification finale du nombre de valeurs manquantes restantes\n",
    "print(\"Nombre total de valeurs manquantes après traitement :\", df_train.isna().sum().sum())\n",
    "px.histogram(df_train, x=\"Ti\", nbins=30, title=\"Ti after imputation\").show()"
   ]
  },
  {
   "cell_type": "code",
   "execution_count": 20,
   "id": "ec294944",
   "metadata": {},
   "outputs": [
    {
     "name": "stdout",
     "output_type": "stream",
     "text": [
      "<class 'pandas.core.frame.DataFrame'>\n",
      "RangeIndex: 1322 entries, 330 to 1651\n",
      "Data columns (total 35 columns):\n",
      " #   Column            Non-Null Count  Dtype  \n",
      "---  ------            --------------  -----  \n",
      " 0   C                 1322 non-null   float64\n",
      " 1   Si                1322 non-null   float64\n",
      " 2   Mn                1322 non-null   float64\n",
      " 3   S                 1322 non-null   float64\n",
      " 4   P                 1322 non-null   float64\n",
      " 5   Ni                1322 non-null   float64\n",
      " 6   Cr                1322 non-null   float64\n",
      " 7   Mo                1322 non-null   float64\n",
      " 8   V                 1322 non-null   float64\n",
      " 9   O                 1322 non-null   float64\n",
      " 10  Ti                1322 non-null   float64\n",
      " 11  N                 1322 non-null   float64\n",
      " 12  Al                1322 non-null   float64\n",
      " 13  Nb                1322 non-null   float64\n",
      " 14  Current           1322 non-null   float64\n",
      " 15  Voltage           1322 non-null   float64\n",
      " 16  AC_DC             1322 non-null   object \n",
      " 17  Polarity          1322 non-null   object \n",
      " 18  Heat_input        1322 non-null   float64\n",
      " 19  Interpass_temp    1322 non-null   float64\n",
      " 20  Weld_type         1322 non-null   object \n",
      " 21  PWHT_temp         1322 non-null   float64\n",
      " 22  PWHT_time         1322 non-null   float64\n",
      " 23  Yield_strength    1322 non-null   float64\n",
      " 24  UTS               596 non-null    float64\n",
      " 25  Elongation        570 non-null    float64\n",
      " 26  RA                1322 non-null   float64\n",
      " 27  Charpy_temp       1322 non-null   float64\n",
      " 28  Charpy_toughness  692 non-null    float64\n",
      " 29  P_was_na          1322 non-null   float64\n",
      " 30  S_was_na          1322 non-null   float64\n",
      " 31  Mn_was_na         1322 non-null   float64\n",
      " 32  Ni_was_na         1322 non-null   float64\n",
      " 33  Cr_was_na         1322 non-null   float64\n",
      " 34  Mo_was_na         1322 non-null   float64\n",
      "dtypes: float64(32), object(3)\n",
      "memory usage: 361.6+ KB\n"
     ]
    }
   ],
   "source": [
    "df_train.info()"
   ]
  },
  {
   "cell_type": "code",
   "execution_count": 21,
   "id": "8da707c6",
   "metadata": {},
   "outputs": [
    {
     "name": "stderr",
     "output_type": "stream",
     "text": [
      "/var/folders/qc/5qn44xzs143g6s6sy04v51qm0000gn/T/ipykernel_38869/1155710789.py:2: SettingWithCopyWarning:\n",
      "\n",
      "\n",
      "A value is trying to be set on a copy of a slice from a DataFrame.\n",
      "Try using .loc[row_indexer,col_indexer] = value instead\n",
      "\n",
      "See the caveats in the documentation: https://pandas.pydata.org/pandas-docs/stable/user_guide/indexing.html#returning-a-view-versus-a-copy\n",
      "\n"
     ]
    }
   ],
   "source": [
    "#convert AC/DC to 1/0\n",
    "df_train['AC_DC'] = df_train['AC_DC'].map({'AC': 1, 'DC': 0})\n",
    "\n",
    "df_train = pd.get_dummies(df_train, columns=[\"Polarity\", \"Weld_type\"])\n",
    "df_train[['Polarity_+', 'Polarity_-', 'Polarity_0','Weld_type_FCA', 'Weld_type_GMAA', 'Weld_type_GTAA', 'Weld_type_MMA', 'Weld_type_NGGMA', 'Weld_type_NGSAW', 'Weld_type_SA', 'Weld_type_SAA', 'Weld_type_ShMA', 'Weld_type_TSA']] = df_train[['Weld_type_FCA', 'Weld_type_GMAA', 'Weld_type_GTAA', 'Weld_type_MMA', 'Weld_type_NGGMA', 'Weld_type_NGSAW', 'Weld_type_SA', 'Weld_type_SAA', 'Weld_type_ShMA', 'Weld_type_TSA','Polarity_+', 'Polarity_-', 'Polarity_0']].astype(int)"
   ]
  },
  {
   "cell_type": "markdown",
   "id": "a2a62d95",
   "metadata": {},
   "source": [
    "<h3>PCA</h3>\n",
    "\n",
    "Nous réalisons ensuite une PCA pour faire apparaitre quelles sont les features les plus intéressantes pour qualifier la qualité d'une soudure, en excluant les 3 colonnes citées précédemment."
   ]
  },
  {
   "cell_type": "code",
   "execution_count": 22,
   "id": "f6fc0b6a",
   "metadata": {},
   "outputs": [
    {
     "name": "stdout",
     "output_type": "stream",
     "text": [
      "<class 'pandas.core.frame.DataFrame'>\n",
      "RangeIndex: 1322 entries, 330 to 1651\n",
      "Data columns (total 46 columns):\n",
      " #   Column            Non-Null Count  Dtype  \n",
      "---  ------            --------------  -----  \n",
      " 0   C                 1322 non-null   float64\n",
      " 1   Si                1322 non-null   float64\n",
      " 2   Mn                1322 non-null   float64\n",
      " 3   S                 1322 non-null   float64\n",
      " 4   P                 1322 non-null   float64\n",
      " 5   Ni                1322 non-null   float64\n",
      " 6   Cr                1322 non-null   float64\n",
      " 7   Mo                1322 non-null   float64\n",
      " 8   V                 1322 non-null   float64\n",
      " 9   O                 1322 non-null   float64\n",
      " 10  Ti                1322 non-null   float64\n",
      " 11  N                 1322 non-null   float64\n",
      " 12  Al                1322 non-null   float64\n",
      " 13  Nb                1322 non-null   float64\n",
      " 14  Current           1322 non-null   float64\n",
      " 15  Voltage           1322 non-null   float64\n",
      " 16  AC_DC             1322 non-null   int64  \n",
      " 17  Heat_input        1322 non-null   float64\n",
      " 18  Interpass_temp    1322 non-null   float64\n",
      " 19  PWHT_temp         1322 non-null   float64\n",
      " 20  PWHT_time         1322 non-null   float64\n",
      " 21  Yield_strength    1322 non-null   float64\n",
      " 22  UTS               596 non-null    float64\n",
      " 23  Elongation        570 non-null    float64\n",
      " 24  RA                1322 non-null   float64\n",
      " 25  Charpy_temp       1322 non-null   float64\n",
      " 26  Charpy_toughness  692 non-null    float64\n",
      " 27  P_was_na          1322 non-null   float64\n",
      " 28  S_was_na          1322 non-null   float64\n",
      " 29  Mn_was_na         1322 non-null   float64\n",
      " 30  Ni_was_na         1322 non-null   float64\n",
      " 31  Cr_was_na         1322 non-null   float64\n",
      " 32  Mo_was_na         1322 non-null   float64\n",
      " 33  Polarity_+        1322 non-null   int64  \n",
      " 34  Polarity_-        1322 non-null   int64  \n",
      " 35  Polarity_0        1322 non-null   int64  \n",
      " 36  Weld_type_FCA     1322 non-null   int64  \n",
      " 37  Weld_type_GMAA    1322 non-null   int64  \n",
      " 38  Weld_type_GTAA    1322 non-null   int64  \n",
      " 39  Weld_type_MMA     1322 non-null   int64  \n",
      " 40  Weld_type_NGGMA   1322 non-null   int64  \n",
      " 41  Weld_type_NGSAW   1322 non-null   int64  \n",
      " 42  Weld_type_SA      1322 non-null   int64  \n",
      " 43  Weld_type_SAA     1322 non-null   int64  \n",
      " 44  Weld_type_ShMA    1322 non-null   int64  \n",
      " 45  Weld_type_TSA     1322 non-null   int64  \n",
      "dtypes: float64(32), int64(14)\n",
      "memory usage: 475.2 KB\n"
     ]
    }
   ],
   "source": [
    "df_train.info()"
   ]
  },
  {
   "cell_type": "code",
   "execution_count": 24,
   "id": "ff8631d4",
   "metadata": {},
   "outputs": [
    {
     "data": {
      "image/png": "[encoded data removed]",
      "text/plain": [
       "<Figure size 640x480 with 1 Axes>"
      ]
     },
     "metadata": {},
     "output_type": "display_data"
    },
    {
     "data": {
      "image/png": "[encoded data removed]",
      "text/plain": [
       "<Figure size 640x480 with 1 Axes>"
      ]
     },
     "metadata": {},
     "output_type": "display_data"
    },
    {
     "data": {
      "image/png": "[encoded data removed]",
      "text/plain": [
       "<Figure size 640x480 with 1 Axes>"
      ]
     },
     "metadata": {},
     "output_type": "display_data"
    },
    {
     "data": {
      "image/png": "[encoded data removed]",
      "text/plain": [
       "<Figure size 800x450 with 1 Axes>"
      ]
     },
     "metadata": {},
     "output_type": "display_data"
    }
   ],
   "source": [
    "import numpy as np\n",
    "import pandas as pd\n",
    "import matplotlib.pyplot as plt\n",
    "from sklearn.preprocessing import StandardScaler\n",
    "from sklearn.decomposition import PCA\n",
    "\n",
    "# -------------------------\n",
    "# 0) Paramètres utilisateur\n",
    "# -------------------------\n",
    "excluded_cols = [\"Charpy_toughness\", \"Elongation\", \"UTS\", \"P_was_na\", \"S_was_na\", \"Mn_was_na\", \"Ni_was_na\", \"Cr_was_na\", \"Mo_was_na\", \"Weld_type_FCA\",\n",
    "                 \"Weld_type_GMAA\", \"Weld_type_GTAA\", \"Weld_type_MMA\", \"Weld_type_NGGMA\", \"Weld_type_NGSAW\", \"Weld_type_SA\", \"Weld_type_SAA\", \n",
    "                 \"Weld_type_ShMA\", \"Weld_type_TSA\", \"Polarity_0\", \"Polarity_+\", \"Polarity_-\"]\n",
    "label_col = None  # (optionnel) nom d'une colonne à afficher comme étiquette sur le scatter PC1–PC2 (ex: \"AlloyID\")\n",
    "n_top_loadings = 15  # nombre de variables les plus contributrices à afficher\n",
    "\n",
    "# -------------------------\n",
    "# 1) Préparation des données\n",
    "# -------------------------\n",
    "num_cols = df_train.select_dtypes(include=[np.number]).columns.tolist()\n",
    "pca_features = [c for c in num_cols if c not in excluded_cols]\n",
    "\n",
    "\n",
    "# Standardisation\n",
    "scaler = StandardScaler()  ## attention on a deja scale\n",
    "X_scaled = scaler.fit_transform(df_train[pca_features])\n",
    "\n",
    "# -------------------------\n",
    "# 2) PCA\n",
    "# -------------------------\n",
    "pca = PCA(n_components=None)\n",
    "X_pca = pca.fit_transform(X_scaled)\n",
    "\n",
    "explained = pca.explained_variance_ratio_\n",
    "cum_explained = np.cumsum(explained)\n",
    "\n",
    "# Noms des composantes et DataFrames utiles\n",
    "pc_names = [f\"PC{i+1}\" for i in range(X_pca.shape[1])]\n",
    "df_scores = pd.DataFrame(X_pca, columns=pc_names, index=df_train.index)\n",
    "loadings = pd.DataFrame(pca.components_.T, index=pca_features, columns=pc_names)\n",
    "\n",
    "# -------------------------\n",
    "# 3) Graphiques\n",
    "# -------------------------\n",
    "\n",
    "# (A) Scree plot — variance expliquée par composante\n",
    "plt.figure()\n",
    "plt.plot(range(1, len(explained) + 1), explained, marker='o')\n",
    "plt.title(\"Scree plot — Variance expliquée par composante\")\n",
    "plt.xlabel(\"Composante principale\")\n",
    "plt.ylabel(\"Part de variance expliquée\")\n",
    "plt.grid(True, linestyle='--', alpha=0.5)\n",
    "plt.tight_layout()\n",
    "plt.show()\n",
    "\n",
    "# (B) Variance expliquée cumulée\n",
    "plt.figure()\n",
    "plt.plot(range(1, len(cum_explained) + 1), cum_explained, marker='o')\n",
    "plt.title(\"Variance expliquée cumulée\")\n",
    "plt.xlabel(\"Composante principale\")\n",
    "plt.ylabel(\"Variance expliquée cumulée\")\n",
    "plt.axhline(0.80, linestyle='--')  # repère 80%\n",
    "plt.axhline(0.90, linestyle='--')  # repère 90%\n",
    "plt.grid(True, linestyle='--', alpha=0.5)\n",
    "plt.tight_layout()\n",
    "plt.show()\n",
    "\n",
    "# (C) Nuage de points PC1 vs PC2\n",
    "plt.figure()\n",
    "plt.scatter(df_scores[\"PC1\"], df_scores[\"PC2\"])\n",
    "plt.title(\"Projection des observations — PC1 vs PC2\")\n",
    "plt.xlabel(f\"PC1 ({explained[0]*100:.1f}% de variance)\")\n",
    "plt.ylabel(f\"PC2 ({explained[1]*100:.1f}% de variance)\")\n",
    "plt.grid(True, linestyle='--', alpha=0.5)\n",
    "\n",
    "\n",
    "\n",
    "plt.tight_layout()\n",
    "plt.show()\n",
    "\n",
    "# (D) Contributions (loadings) — variables les plus importantes sur PC1\n",
    "# On affiche les |coefficients| les plus élevés de PC1\n",
    "pc1_load = loadings[\"PC1\"].abs().sort_values(ascending=False).head(n_top_loadings)\n",
    "vars_to_plot = pc1_load.index.tolist()\n",
    "\n",
    "plt.figure(figsize=(8, max(4, 0.3*len(vars_to_plot))))\n",
    "plt.barh(vars_to_plot[::-1], loadings.loc[vars_to_plot, \"PC1\"][::-1])\n",
    "plt.title(f\"Contributions des variables à PC1 (top {len(vars_to_plot)})\")\n",
    "plt.xlabel(\"Coefficient de chargement (loading)\")\n",
    "plt.ylabel(\"Variables\")\n",
    "plt.tight_layout()\n",
    "plt.show()\n",
    "\n",
    "# -------------------------\n",
    "# 4) (Option) Export des résultats\n",
    "# -------------------------\n",
    "# df_scores.to_csv(\"pca_scores.csv\", index=False)\n",
    "# loadings.to_csv(\"pca_loadings.csv\")\n",
    "\n"
   ]
  }
 ],
 "metadata": {
  "kernelspec": {
   "display_name": "Python 3",
   "language": "python",
   "name": "python3"
  },
  "language_info": {
   "codemirror_mode": {
    "name": "ipython",
    "version": 3
   },
   "file_extension": ".py",
   "mimetype": "text/x-python",
   "name": "python",
   "nbconvert_exporter": "python",
   "pygments_lexer": "ipython3",
   "version": "3.10.11"
  }
 },
 "nbformat": 4,
 "nbformat_minor": 5
}
