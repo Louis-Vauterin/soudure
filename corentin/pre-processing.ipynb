{
 "cells": [
  {
   "cell_type": "code",
   "execution_count": 29,
   "metadata": {},
   "outputs": [],
   "source": [
    "import pandas as pd\n",
    "import numpy as np\n",
    "import plotly.graph_objects as go\n",
    "import plotly.express as px\n",
    "\n",
    "from sklearn.preprocessing import StandardScaler\n",
    "from sklearn.impute import KNNImputer\n",
    "from sklearn.pipeline import Pipeline\n",
    "\n"
   ]
  },
  {
   "cell_type": "code",
   "execution_count": 30,
   "metadata": {},
   "outputs": [],
   "source": [
    "DATA_PATH = \"welddb/welddb.data\"\n",
    "COLS = [\n",
    "    \"C_wt_pct\", \"Si_wt_pct\", \"Mn_wt_pct\", \"S_wt_pct\", \"P_wt_pct\", \"Ni_wt_pct\", \"Cr_wt_pct\",\n",
    "    \"Mo_wt_pct\", \"V_wt_pct\", \"Cu_wt_pct\", \"Co_wt_pct\", \"W_wt_pct\",\n",
    "    \"O_ppm\", \"Ti_ppm\", \"N_ppm\", \"Al_ppm\", \"B_ppm\", \"Nb_ppm\", \"Sn_ppm\", \"As_ppm\", \"Sb_ppm\",\n",
    "    \"Current_A\", \"Voltage_V\", \"AC_or_DC\", \"Electrode_polarity\",\n",
    "    \"HeatInput_kJ_per_mm\", \"InterpassTemp_C\", \"WeldType\",\n",
    "    \"PWHT_Temp_C\", \"PWHT_Time_h\",\n",
    "    \"YieldStrength_MPa\", \"UTS_MPa\", \"Elongation_pct\", \"ReductionArea_pct\",\n",
    "    \"CharpyTemp_C\", \"CharpyJ\", \"Hardness_kg_per_mm2\",\n",
    "    \"FATT_50pct\",\n",
    "    \"PrimaryFerrite_pct\", \"FerriteSecondPhase_pct\", \"AcicularFerrite_pct\", \"Martensite_pct\", \"FerriteCarbideAgg_pct\",\n",
    "    \"WeldID\"\n",
    "]\n",
    "\n"
   ]
  },
  {
   "cell_type": "code",
   "execution_count": 31,
   "metadata": {},
   "outputs": [],
   "source": [
    "df_raw = pd.read_csv(\n",
    "        DATA_PATH,\n",
    "        header=None,\n",
    "        names=COLS,\n",
    "        sep=r\"\\s+\",\n",
    "        na_values=[\"N\", \"n\"],\n",
    "        engine=\"python\"\n",
    "    )"
   ]
  },
  {
   "cell_type": "code",
   "execution_count": 32,
   "metadata": {},
   "outputs": [
    {
     "data": {
      "text/html": [
       "<div>\n",
       "<style scoped>\n",
       "    .dataframe tbody tr th:only-of-type {\n",
       "        vertical-align: middle;\n",
       "    }\n",
       "\n",
       "    .dataframe tbody tr th {\n",
       "        vertical-align: top;\n",
       "    }\n",
       "\n",
       "    .dataframe thead th {\n",
       "        text-align: right;\n",
       "    }\n",
       "</style>\n",
       "<table border=\"1\" class=\"dataframe\">\n",
       "  <thead>\n",
       "    <tr style=\"text-align: right;\">\n",
       "      <th></th>\n",
       "      <th>C_wt_pct</th>\n",
       "      <th>Si_wt_pct</th>\n",
       "      <th>Mn_wt_pct</th>\n",
       "      <th>S_wt_pct</th>\n",
       "      <th>P_wt_pct</th>\n",
       "      <th>Ni_wt_pct</th>\n",
       "      <th>Cr_wt_pct</th>\n",
       "      <th>Mo_wt_pct</th>\n",
       "      <th>V_wt_pct</th>\n",
       "      <th>Cu_wt_pct</th>\n",
       "      <th>...</th>\n",
       "      <th>CharpyTemp_C</th>\n",
       "      <th>CharpyJ</th>\n",
       "      <th>Hardness_kg_per_mm2</th>\n",
       "      <th>FATT_50pct</th>\n",
       "      <th>PrimaryFerrite_pct</th>\n",
       "      <th>FerriteSecondPhase_pct</th>\n",
       "      <th>AcicularFerrite_pct</th>\n",
       "      <th>Martensite_pct</th>\n",
       "      <th>FerriteCarbideAgg_pct</th>\n",
       "      <th>WeldID</th>\n",
       "    </tr>\n",
       "  </thead>\n",
       "  <tbody>\n",
       "    <tr>\n",
       "      <th>0</th>\n",
       "      <td>0.037</td>\n",
       "      <td>0.3</td>\n",
       "      <td>0.65</td>\n",
       "      <td>0.008</td>\n",
       "      <td>0.012</td>\n",
       "      <td>0.0</td>\n",
       "      <td>NaN</td>\n",
       "      <td>NaN</td>\n",
       "      <td>NaN</td>\n",
       "      <td>NaN</td>\n",
       "      <td>...</td>\n",
       "      <td>NaN</td>\n",
       "      <td>NaN</td>\n",
       "      <td>NaN</td>\n",
       "      <td>NaN</td>\n",
       "      <td>NaN</td>\n",
       "      <td>NaN</td>\n",
       "      <td>NaN</td>\n",
       "      <td>NaN</td>\n",
       "      <td>NaN</td>\n",
       "      <td>Evans-Ni/CMn-1990/1991-0Aaw</td>\n",
       "    </tr>\n",
       "    <tr>\n",
       "      <th>1</th>\n",
       "      <td>0.037</td>\n",
       "      <td>0.3</td>\n",
       "      <td>0.65</td>\n",
       "      <td>0.008</td>\n",
       "      <td>0.012</td>\n",
       "      <td>0.0</td>\n",
       "      <td>NaN</td>\n",
       "      <td>NaN</td>\n",
       "      <td>NaN</td>\n",
       "      <td>NaN</td>\n",
       "      <td>...</td>\n",
       "      <td>-28.0</td>\n",
       "      <td>100.0</td>\n",
       "      <td>NaN</td>\n",
       "      <td>NaN</td>\n",
       "      <td>NaN</td>\n",
       "      <td>NaN</td>\n",
       "      <td>NaN</td>\n",
       "      <td>NaN</td>\n",
       "      <td>NaN</td>\n",
       "      <td>Evans-Ni/CMn-1990/1991-0Aawch</td>\n",
       "    </tr>\n",
       "    <tr>\n",
       "      <th>2</th>\n",
       "      <td>0.037</td>\n",
       "      <td>0.3</td>\n",
       "      <td>0.65</td>\n",
       "      <td>0.008</td>\n",
       "      <td>0.012</td>\n",
       "      <td>0.0</td>\n",
       "      <td>NaN</td>\n",
       "      <td>NaN</td>\n",
       "      <td>NaN</td>\n",
       "      <td>NaN</td>\n",
       "      <td>...</td>\n",
       "      <td>-38.0</td>\n",
       "      <td>100.0</td>\n",
       "      <td>NaN</td>\n",
       "      <td>NaN</td>\n",
       "      <td>NaN</td>\n",
       "      <td>NaN</td>\n",
       "      <td>NaN</td>\n",
       "      <td>NaN</td>\n",
       "      <td>NaN</td>\n",
       "      <td>Evans-Ni/CMn-1990/1991-0Aht</td>\n",
       "    </tr>\n",
       "  </tbody>\n",
       "</table>\n",
       "<p>3 rows × 44 columns</p>\n",
       "</div>"
      ],
      "text/plain": [
       "   C_wt_pct  Si_wt_pct  Mn_wt_pct S_wt_pct  P_wt_pct  Ni_wt_pct  Cr_wt_pct  \\\n",
       "0     0.037        0.3       0.65    0.008     0.012        0.0        NaN   \n",
       "1     0.037        0.3       0.65    0.008     0.012        0.0        NaN   \n",
       "2     0.037        0.3       0.65    0.008     0.012        0.0        NaN   \n",
       "\n",
       "  Mo_wt_pct V_wt_pct Cu_wt_pct  ... CharpyTemp_C CharpyJ  Hardness_kg_per_mm2  \\\n",
       "0       NaN      NaN       NaN  ...          NaN     NaN                  NaN   \n",
       "1       NaN      NaN       NaN  ...        -28.0   100.0                  NaN   \n",
       "2       NaN      NaN       NaN  ...        -38.0   100.0                  NaN   \n",
       "\n",
       "  FATT_50pct PrimaryFerrite_pct FerriteSecondPhase_pct AcicularFerrite_pct  \\\n",
       "0        NaN                NaN                    NaN                 NaN   \n",
       "1        NaN                NaN                    NaN                 NaN   \n",
       "2        NaN                NaN                    NaN                 NaN   \n",
       "\n",
       "  Martensite_pct FerriteCarbideAgg_pct                         WeldID  \n",
       "0            NaN                   NaN    Evans-Ni/CMn-1990/1991-0Aaw  \n",
       "1            NaN                   NaN  Evans-Ni/CMn-1990/1991-0Aawch  \n",
       "2            NaN                   NaN    Evans-Ni/CMn-1990/1991-0Aht  \n",
       "\n",
       "[3 rows x 44 columns]"
      ]
     },
     "metadata": {},
     "output_type": "display_data"
    }
   ],
   "source": [
    "display(df_raw.head(3))"
   ]
  },
  {
   "cell_type": "code",
   "execution_count": 33,
   "metadata": {},
   "outputs": [
    {
     "data": {
      "text/html": [
       "<div>\n",
       "<style scoped>\n",
       "    .dataframe tbody tr th:only-of-type {\n",
       "        vertical-align: middle;\n",
       "    }\n",
       "\n",
       "    .dataframe tbody tr th {\n",
       "        vertical-align: top;\n",
       "    }\n",
       "\n",
       "    .dataframe thead th {\n",
       "        text-align: right;\n",
       "    }\n",
       "</style>\n",
       "<table border=\"1\" class=\"dataframe\">\n",
       "  <thead>\n",
       "    <tr style=\"text-align: right;\">\n",
       "      <th></th>\n",
       "      <th>column</th>\n",
       "      <th>missing_ratio</th>\n",
       "    </tr>\n",
       "  </thead>\n",
       "  <tbody>\n",
       "    <tr>\n",
       "      <th>0</th>\n",
       "      <td>FATT_50pct</td>\n",
       "      <td>0.981235</td>\n",
       "    </tr>\n",
       "    <tr>\n",
       "      <th>1</th>\n",
       "      <td>W_wt_pct</td>\n",
       "      <td>0.954600</td>\n",
       "    </tr>\n",
       "    <tr>\n",
       "      <th>2</th>\n",
       "      <td>FerriteCarbideAgg_pct</td>\n",
       "      <td>0.946126</td>\n",
       "    </tr>\n",
       "    <tr>\n",
       "      <th>3</th>\n",
       "      <td>Martensite_pct</td>\n",
       "      <td>0.946126</td>\n",
       "    </tr>\n",
       "    <tr>\n",
       "      <th>4</th>\n",
       "      <td>FerriteSecondPhase_pct</td>\n",
       "      <td>0.945521</td>\n",
       "    </tr>\n",
       "    <tr>\n",
       "      <th>5</th>\n",
       "      <td>AcicularFerrite_pct</td>\n",
       "      <td>0.945521</td>\n",
       "    </tr>\n",
       "    <tr>\n",
       "      <th>6</th>\n",
       "      <td>PrimaryFerrite_pct</td>\n",
       "      <td>0.940678</td>\n",
       "    </tr>\n",
       "    <tr>\n",
       "      <th>7</th>\n",
       "      <td>Co_wt_pct</td>\n",
       "      <td>0.921913</td>\n",
       "    </tr>\n",
       "    <tr>\n",
       "      <th>8</th>\n",
       "      <td>Hardness_kg_per_mm2</td>\n",
       "      <td>0.916465</td>\n",
       "    </tr>\n",
       "    <tr>\n",
       "      <th>9</th>\n",
       "      <td>As_ppm</td>\n",
       "      <td>0.858354</td>\n",
       "    </tr>\n",
       "    <tr>\n",
       "      <th>10</th>\n",
       "      <td>Sb_ppm</td>\n",
       "      <td>0.842615</td>\n",
       "    </tr>\n",
       "    <tr>\n",
       "      <th>11</th>\n",
       "      <td>Sn_ppm</td>\n",
       "      <td>0.820823</td>\n",
       "    </tr>\n",
       "    <tr>\n",
       "      <th>12</th>\n",
       "      <td>B_ppm</td>\n",
       "      <td>0.694915</td>\n",
       "    </tr>\n",
       "    <tr>\n",
       "      <th>13</th>\n",
       "      <td>Cu_wt_pct</td>\n",
       "      <td>0.650121</td>\n",
       "    </tr>\n",
       "    <tr>\n",
       "      <th>14</th>\n",
       "      <td>Ni_wt_pct</td>\n",
       "      <td>0.578087</td>\n",
       "    </tr>\n",
       "    <tr>\n",
       "      <th>15</th>\n",
       "      <td>Elongation_pct</td>\n",
       "      <td>0.576271</td>\n",
       "    </tr>\n",
       "    <tr>\n",
       "      <th>16</th>\n",
       "      <td>ReductionArea_pct</td>\n",
       "      <td>0.573245</td>\n",
       "    </tr>\n",
       "    <tr>\n",
       "      <th>17</th>\n",
       "      <td>UTS_MPa</td>\n",
       "      <td>0.553269</td>\n",
       "    </tr>\n",
       "    <tr>\n",
       "      <th>18</th>\n",
       "      <td>Nb_ppm</td>\n",
       "      <td>0.544794</td>\n",
       "    </tr>\n",
       "    <tr>\n",
       "      <th>19</th>\n",
       "      <td>YieldStrength_MPa</td>\n",
       "      <td>0.527845</td>\n",
       "    </tr>\n",
       "    <tr>\n",
       "      <th>20</th>\n",
       "      <td>Cr_wt_pct</td>\n",
       "      <td>0.525424</td>\n",
       "    </tr>\n",
       "    <tr>\n",
       "      <th>21</th>\n",
       "      <td>Mo_wt_pct</td>\n",
       "      <td>0.519976</td>\n",
       "    </tr>\n",
       "    <tr>\n",
       "      <th>22</th>\n",
       "      <td>CharpyJ</td>\n",
       "      <td>0.467918</td>\n",
       "    </tr>\n",
       "    <tr>\n",
       "      <th>23</th>\n",
       "      <td>CharpyTemp_C</td>\n",
       "      <td>0.467918</td>\n",
       "    </tr>\n",
       "    <tr>\n",
       "      <th>24</th>\n",
       "      <td>Al_ppm</td>\n",
       "      <td>0.452179</td>\n",
       "    </tr>\n",
       "    <tr>\n",
       "      <th>25</th>\n",
       "      <td>V_wt_pct</td>\n",
       "      <td>0.438257</td>\n",
       "    </tr>\n",
       "    <tr>\n",
       "      <th>26</th>\n",
       "      <td>Ti_ppm</td>\n",
       "      <td>0.434019</td>\n",
       "    </tr>\n",
       "    <tr>\n",
       "      <th>27</th>\n",
       "      <td>N_ppm</td>\n",
       "      <td>0.248184</td>\n",
       "    </tr>\n",
       "    <tr>\n",
       "      <th>28</th>\n",
       "      <td>O_ppm</td>\n",
       "      <td>0.239709</td>\n",
       "    </tr>\n",
       "    <tr>\n",
       "      <th>29</th>\n",
       "      <td>Voltage_V</td>\n",
       "      <td>0.150121</td>\n",
       "    </tr>\n",
       "    <tr>\n",
       "      <th>30</th>\n",
       "      <td>Current_A</td>\n",
       "      <td>0.150121</td>\n",
       "    </tr>\n",
       "    <tr>\n",
       "      <th>31</th>\n",
       "      <td>AC_or_DC</td>\n",
       "      <td>0.130145</td>\n",
       "    </tr>\n",
       "    <tr>\n",
       "      <th>32</th>\n",
       "      <td>Electrode_polarity</td>\n",
       "      <td>0.094431</td>\n",
       "    </tr>\n",
       "    <tr>\n",
       "      <th>33</th>\n",
       "      <td>PWHT_Time_h</td>\n",
       "      <td>0.007869</td>\n",
       "    </tr>\n",
       "    <tr>\n",
       "      <th>34</th>\n",
       "      <td>PWHT_Temp_C</td>\n",
       "      <td>0.007869</td>\n",
       "    </tr>\n",
       "    <tr>\n",
       "      <th>35</th>\n",
       "      <td>P_wt_pct</td>\n",
       "      <td>0.006053</td>\n",
       "    </tr>\n",
       "    <tr>\n",
       "      <th>36</th>\n",
       "      <td>S_wt_pct</td>\n",
       "      <td>0.002421</td>\n",
       "    </tr>\n",
       "    <tr>\n",
       "      <th>37</th>\n",
       "      <td>C_wt_pct</td>\n",
       "      <td>0.000000</td>\n",
       "    </tr>\n",
       "    <tr>\n",
       "      <th>38</th>\n",
       "      <td>WeldType</td>\n",
       "      <td>0.000000</td>\n",
       "    </tr>\n",
       "    <tr>\n",
       "      <th>39</th>\n",
       "      <td>InterpassTemp_C</td>\n",
       "      <td>0.000000</td>\n",
       "    </tr>\n",
       "    <tr>\n",
       "      <th>40</th>\n",
       "      <td>HeatInput_kJ_per_mm</td>\n",
       "      <td>0.000000</td>\n",
       "    </tr>\n",
       "    <tr>\n",
       "      <th>41</th>\n",
       "      <td>Si_wt_pct</td>\n",
       "      <td>0.000000</td>\n",
       "    </tr>\n",
       "    <tr>\n",
       "      <th>42</th>\n",
       "      <td>Mn_wt_pct</td>\n",
       "      <td>0.000000</td>\n",
       "    </tr>\n",
       "    <tr>\n",
       "      <th>43</th>\n",
       "      <td>WeldID</td>\n",
       "      <td>0.000000</td>\n",
       "    </tr>\n",
       "  </tbody>\n",
       "</table>\n",
       "</div>"
      ],
      "text/plain": [
       "                    column  missing_ratio\n",
       "0               FATT_50pct       0.981235\n",
       "1                 W_wt_pct       0.954600\n",
       "2    FerriteCarbideAgg_pct       0.946126\n",
       "3           Martensite_pct       0.946126\n",
       "4   FerriteSecondPhase_pct       0.945521\n",
       "5      AcicularFerrite_pct       0.945521\n",
       "6       PrimaryFerrite_pct       0.940678\n",
       "7                Co_wt_pct       0.921913\n",
       "8      Hardness_kg_per_mm2       0.916465\n",
       "9                   As_ppm       0.858354\n",
       "10                  Sb_ppm       0.842615\n",
       "11                  Sn_ppm       0.820823\n",
       "12                   B_ppm       0.694915\n",
       "13               Cu_wt_pct       0.650121\n",
       "14               Ni_wt_pct       0.578087\n",
       "15          Elongation_pct       0.576271\n",
       "16       ReductionArea_pct       0.573245\n",
       "17                 UTS_MPa       0.553269\n",
       "18                  Nb_ppm       0.544794\n",
       "19       YieldStrength_MPa       0.527845\n",
       "20               Cr_wt_pct       0.525424\n",
       "21               Mo_wt_pct       0.519976\n",
       "22                 CharpyJ       0.467918\n",
       "23            CharpyTemp_C       0.467918\n",
       "24                  Al_ppm       0.452179\n",
       "25                V_wt_pct       0.438257\n",
       "26                  Ti_ppm       0.434019\n",
       "27                   N_ppm       0.248184\n",
       "28                   O_ppm       0.239709\n",
       "29               Voltage_V       0.150121\n",
       "30               Current_A       0.150121\n",
       "31                AC_or_DC       0.130145\n",
       "32      Electrode_polarity       0.094431\n",
       "33             PWHT_Time_h       0.007869\n",
       "34             PWHT_Temp_C       0.007869\n",
       "35                P_wt_pct       0.006053\n",
       "36                S_wt_pct       0.002421\n",
       "37                C_wt_pct       0.000000\n",
       "38                WeldType       0.000000\n",
       "39         InterpassTemp_C       0.000000\n",
       "40     HeatInput_kJ_per_mm       0.000000\n",
       "41               Si_wt_pct       0.000000\n",
       "42               Mn_wt_pct       0.000000\n",
       "43                  WeldID       0.000000"
      ]
     },
     "execution_count": 33,
     "metadata": {},
     "output_type": "execute_result"
    }
   ],
   "source": [
    "miss = df_raw.isna().mean().sort_values(ascending=False)\n",
    "miss_df = miss.to_frame(name=\"missing_ratio\").reset_index().rename(columns={\"index\": \"column\"})\n",
    "miss_df\n"
   ]
  },
  {
   "cell_type": "markdown",
   "metadata": {},
   "source": [
    "J'ai trouvé dans la littérature que les variables les plus à même d'expliquer la qualité d'une soudure sont le charpyJ, UTS et Elongation"
   ]
  },
  {
   "cell_type": "code",
   "execution_count": 44,
   "metadata": {},
   "outputs": [
    {
     "name": "stdout",
     "output_type": "stream",
     "text": [
      "=== Corrélation absolue avec les variables de qualité ===\n",
      "                        CharpyJ  Elongation_pct  UTS_MPa\n",
      "column                                                  \n",
      "FATT_50pct                  NaN          -0.321   -0.547\n",
      "W_wt_pct                    NaN             NaN      NaN\n",
      "FerriteCarbideAgg_pct       NaN             NaN      NaN\n",
      "Martensite_pct              NaN             NaN      NaN\n",
      "FerriteSecondPhase_pct      NaN             NaN      NaN\n",
      "AcicularFerrite_pct         NaN             NaN      NaN\n",
      "PrimaryFerrite_pct          NaN             NaN      NaN\n",
      "Co_wt_pct                   NaN             NaN      NaN\n",
      "Hardness_kg_per_mm2         NaN             NaN      NaN\n",
      "As_ppm                      NaN             NaN      NaN\n",
      "Sb_ppm                      NaN             NaN      NaN\n",
      "Sn_ppm                      NaN             NaN      NaN\n",
      "B_ppm                       NaN             NaN      NaN\n",
      "Cu_wt_pct                   NaN             NaN      NaN\n",
      "Ni_wt_pct                -0.011          -0.037    0.196\n",
      "Elongation_pct            0.359           1.000   -0.739\n",
      "ReductionArea_pct         0.831           0.535   -0.661\n",
      "UTS_MPa                  -0.702          -0.739    1.000\n",
      "Nb_ppm                      NaN             NaN      NaN\n",
      "YieldStrength_MPa        -0.412          -0.681    0.915\n",
      "Cr_wt_pct                -0.058          -0.441    0.480\n",
      "Mo_wt_pct                   NaN             NaN      NaN\n",
      "CharpyJ                   1.000           0.359   -0.702\n",
      "CharpyTemp_C              0.474          -0.522    0.513\n",
      "Al_ppm                      NaN             NaN      NaN\n",
      "V_wt_pct                    NaN             NaN      NaN\n",
      "Ti_ppm                      NaN             NaN      NaN\n",
      "N_ppm                       NaN             NaN      NaN\n",
      "O_ppm                    -0.141          -0.324    0.038\n",
      "Voltage_V                -0.094          -0.130    0.135\n",
      "Current_A                -0.077          -0.088    0.139\n",
      "AC_or_DC                    NaN             NaN      NaN\n",
      "Electrode_polarity          NaN             NaN      NaN\n",
      "PWHT_Time_h              -0.078          -0.018   -0.066\n",
      "PWHT_Temp_C               0.015          -0.162    0.182\n",
      "P_wt_pct                 -0.105          -0.178    0.162\n",
      "S_wt_pct                    NaN             NaN      NaN\n",
      "C_wt_pct                 -0.042          -0.231    0.278\n",
      "WeldType                    NaN             NaN      NaN\n",
      "InterpassTemp_C             NaN             NaN      NaN\n",
      "HeatInput_kJ_per_mm      -0.129          -0.091    0.114\n",
      "Si_wt_pct                -0.040           0.094    0.020\n",
      "Mn_wt_pct                -0.044          -0.027    0.219\n",
      "WeldID                      NaN             NaN      NaN\n"
     ]
    },
    {
     "data": {
      "application/vnd.plotly.v1+json": {
       "config": {
        "plotlyServerURL": "https://plot.ly"
       },
       "data": [
        {
         "coloraxis": "coloraxis",
         "hovertemplate": "x: %{x}<br>column: %{y}<br>color: %{z}<extra></extra>",
         "name": "0",
         "type": "heatmap",
         "x": [
          "CharpyJ",
          "Elongation_pct",
          "UTS_MPa"
         ],
         "xaxis": "x",
         "y": [
          "FATT_50pct",
          "W_wt_pct",
          "FerriteCarbideAgg_pct",
          "Martensite_pct",
          "FerriteSecondPhase_pct",
          "AcicularFerrite_pct",
          "PrimaryFerrite_pct",
          "Co_wt_pct",
          "Hardness_kg_per_mm2",
          "As_ppm",
          "Sb_ppm",
          "Sn_ppm",
          "B_ppm",
          "Cu_wt_pct",
          "Ni_wt_pct",
          "Elongation_pct",
          "ReductionArea_pct",
          "UTS_MPa",
          "Nb_ppm",
          "YieldStrength_MPa",
          "Cr_wt_pct",
          "Mo_wt_pct",
          "CharpyJ",
          "CharpyTemp_C",
          "Al_ppm",
          "V_wt_pct",
          "Ti_ppm",
          "N_ppm",
          "O_ppm",
          "Voltage_V",
          "Current_A",
          "AC_or_DC",
          "Electrode_polarity",
          "PWHT_Time_h",
          "PWHT_Temp_C",
          "P_wt_pct",
          "S_wt_pct",
          "C_wt_pct",
          "WeldType",
          "InterpassTemp_C",
          "HeatInput_kJ_per_mm",
          "Si_wt_pct",
          "Mn_wt_pct",
          "WeldID"
         ],
         "yaxis": "y",
         "z": {
          "bdata": "AAAAAAAA+H+Xq4usdYPUv779ggmafuG/AAAAAAAA+H8AAAAAAAD4fwAAAAAAAPh/AAAAAAAA+H8AAAAAAAD4fwAAAAAAAPh/AAAAAAAA+H8AAAAAAAD4fwAAAAAAAPh/AAAAAAAA+H8AAAAAAAD4fwAAAAAAAPh/AAAAAAAA+H8AAAAAAAD4fwAAAAAAAPh/AAAAAAAA+H8AAAAAAAD4fwAAAAAAAPh/AAAAAAAA+H8AAAAAAAD4fwAAAAAAAPh/AAAAAAAA+H8AAAAAAAD4fwAAAAAAAPh/AAAAAAAA+H8AAAAAAAD4fwAAAAAAAPh/AAAAAAAA+H8AAAAAAAD4fwAAAAAAAPh/AAAAAAAA+H8AAAAAAAD4fwAAAAAAAPh/AAAAAAAA+H8AAAAAAAD4fwAAAAAAAPh/AAAAAAAA+H8AAAAAAAD4fwAAAAAAAPh/KsyJDwv7hr8QrshTpgajv6uSRH22Hck/cEj8J/P71j8AAAAAAADwP/yNhMQKp+e/yv6yMC2Z6j9j3nf+yBvhP3jYK8l2J+W/DfvstGF25r/8jYTECqfnvwAAAAAAAPA/AAAAAAAA+H8AAAAAAAD4fwAAAAAAAPh/etDJOIlk2r/9pMbx5srlv+dWjxFlS+0/Oq5aK+ijrb/jRqC/zTbcv0jXwalXsd4/AAAAAAAA+H8AAAAAAAD4fwAAAAAAAPh/AAAAAAAA8D9wSPwn8/vWPw377LRhdua/J9Xhv9xQ3j+cY8nmkrDgvxEp9aubaeA/AAAAAAAA+H8AAAAAAAD4fwAAAAAAAPh/AAAAAAAA+H8AAAAAAAD4fwAAAAAAAPh/AAAAAAAA+H8AAAAAAAD4fwAAAAAAAPh/AAAAAAAA+H8AAAAAAAD4fwAAAAAAAPh/KeWVq4IAwr9wN75GE7nUv1WcnfAGqKM/P3u6tW0AuL/29j9t3pTAvzhknPPWTcE/t0hsquPEs78xDPSqe2y2v5UzKa7dxME/AAAAAAAA+H8AAAAAAAD4fwAAAAAAAPh/AAAAAAAA+H8AAAAAAAD4fwAAAAAAAPh/6WgWpVkItL/zGzP+ucCSv2ZZggKD/LC/xkdvb7FXjj9S1BFwA8jEvzh1zfHaVcc/tQjGrnrbur/+ttWSCs3Gv8bI4/+2rcQ/AAAAAAAA+H8AAAAAAAD4fwAAAAAAAPh/VNP5SyOOpb8EWuU4SIvNvxLz0NDDzdE/AAAAAAAA+H8AAAAAAAD4fwAAAAAAAPh/AAAAAAAA+H8AAAAAAAD4fwAAAAAAAPh/ESD2WYKEwL/4HlDrqkC3v79XgmZlH70/X9NvraWzpL/mOUkeEA+4P0b/Jvqp5JQ/K7KyQy+npr9hS5eNYoCbv6b1zfB/Ccw/AAAAAAAA+H8AAAAAAAD4fwAAAAAAAPh/",
          "dtype": "f8",
          "shape": "44, 3"
         }
        }
       ],
       "layout": {
        "coloraxis": {
         "colorscale": [
          [
           0,
           "rgb(5,48,97)"
          ],
          [
           0.1,
           "rgb(33,102,172)"
          ],
          [
           0.2,
           "rgb(67,147,195)"
          ],
          [
           0.3,
           "rgb(146,197,222)"
          ],
          [
           0.4,
           "rgb(209,229,240)"
          ],
          [
           0.5,
           "rgb(247,247,247)"
          ],
          [
           0.6,
           "rgb(253,219,199)"
          ],
          [
           0.7,
           "rgb(244,165,130)"
          ],
          [
           0.8,
           "rgb(214,96,77)"
          ],
          [
           0.9,
           "rgb(178,24,43)"
          ],
          [
           1,
           "rgb(103,0,31)"
          ]
         ]
        },
        "template": {
         "data": {
          "bar": [
           {
            "error_x": {
             "color": "#2a3f5f"
            },
            "error_y": {
             "color": "#2a3f5f"
            },
            "marker": {
             "line": {
              "color": "#E5ECF6",
              "width": 0.5
             },
             "pattern": {
              "fillmode": "overlay",
              "size": 10,
              "solidity": 0.2
             }
            },
            "type": "bar"
           }
          ],
          "barpolar": [
           {
            "marker": {
             "line": {
              "color": "#E5ECF6",
              "width": 0.5
             },
             "pattern": {
              "fillmode": "overlay",
              "size": 10,
              "solidity": 0.2
             }
            },
            "type": "barpolar"
           }
          ],
          "carpet": [
           {
            "aaxis": {
             "endlinecolor": "#2a3f5f",
             "gridcolor": "white",
             "linecolor": "white",
             "minorgridcolor": "white",
             "startlinecolor": "#2a3f5f"
            },
            "baxis": {
             "endlinecolor": "#2a3f5f",
             "gridcolor": "white",
             "linecolor": "white",
             "minorgridcolor": "white",
             "startlinecolor": "#2a3f5f"
            },
            "type": "carpet"
           }
          ],
          "choropleth": [
           {
            "colorbar": {
             "outlinewidth": 0,
             "ticks": ""
            },
            "type": "choropleth"
           }
          ],
          "contour": [
           {
            "colorbar": {
             "outlinewidth": 0,
             "ticks": ""
            },
            "colorscale": [
             [
              0,
              "#0d0887"
             ],
             [
              0.1111111111111111,
              "#46039f"
             ],
             [
              0.2222222222222222,
              "#7201a8"
             ],
             [
              0.3333333333333333,
              "#9c179e"
             ],
             [
              0.4444444444444444,
              "#bd3786"
             ],
             [
              0.5555555555555556,
              "#d8576b"
             ],
             [
              0.6666666666666666,
              "#ed7953"
             ],
             [
              0.7777777777777778,
              "#fb9f3a"
             ],
             [
              0.8888888888888888,
              "#fdca26"
             ],
             [
              1,
              "#f0f921"
             ]
            ],
            "type": "contour"
           }
          ],
          "contourcarpet": [
           {
            "colorbar": {
             "outlinewidth": 0,
             "ticks": ""
            },
            "type": "contourcarpet"
           }
          ],
          "heatmap": [
           {
            "colorbar": {
             "outlinewidth": 0,
             "ticks": ""
            },
            "colorscale": [
             [
              0,
              "#0d0887"
             ],
             [
              0.1111111111111111,
              "#46039f"
             ],
             [
              0.2222222222222222,
              "#7201a8"
             ],
             [
              0.3333333333333333,
              "#9c179e"
             ],
             [
              0.4444444444444444,
              "#bd3786"
             ],
             [
              0.5555555555555556,
              "#d8576b"
             ],
             [
              0.6666666666666666,
              "#ed7953"
             ],
             [
              0.7777777777777778,
              "#fb9f3a"
             ],
             [
              0.8888888888888888,
              "#fdca26"
             ],
             [
              1,
              "#f0f921"
             ]
            ],
            "type": "heatmap"
           }
          ],
          "histogram": [
           {
            "marker": {
             "pattern": {
              "fillmode": "overlay",
              "size": 10,
              "solidity": 0.2
             }
            },
            "type": "histogram"
           }
          ],
          "histogram2d": [
           {
            "colorbar": {
             "outlinewidth": 0,
             "ticks": ""
            },
            "colorscale": [
             [
              0,
              "#0d0887"
             ],
             [
              0.1111111111111111,
              "#46039f"
             ],
             [
              0.2222222222222222,
              "#7201a8"
             ],
             [
              0.3333333333333333,
              "#9c179e"
             ],
             [
              0.4444444444444444,
              "#bd3786"
             ],
             [
              0.5555555555555556,
              "#d8576b"
             ],
             [
              0.6666666666666666,
              "#ed7953"
             ],
             [
              0.7777777777777778,
              "#fb9f3a"
             ],
             [
              0.8888888888888888,
              "#fdca26"
             ],
             [
              1,
              "#f0f921"
             ]
            ],
            "type": "histogram2d"
           }
          ],
          "histogram2dcontour": [
           {
            "colorbar": {
             "outlinewidth": 0,
             "ticks": ""
            },
            "colorscale": [
             [
              0,
              "#0d0887"
             ],
             [
              0.1111111111111111,
              "#46039f"
             ],
             [
              0.2222222222222222,
              "#7201a8"
             ],
             [
              0.3333333333333333,
              "#9c179e"
             ],
             [
              0.4444444444444444,
              "#bd3786"
             ],
             [
              0.5555555555555556,
              "#d8576b"
             ],
             [
              0.6666666666666666,
              "#ed7953"
             ],
             [
              0.7777777777777778,
              "#fb9f3a"
             ],
             [
              0.8888888888888888,
              "#fdca26"
             ],
             [
              1,
              "#f0f921"
             ]
            ],
            "type": "histogram2dcontour"
           }
          ],
          "mesh3d": [
           {
            "colorbar": {
             "outlinewidth": 0,
             "ticks": ""
            },
            "type": "mesh3d"
           }
          ],
          "parcoords": [
           {
            "line": {
             "colorbar": {
              "outlinewidth": 0,
              "ticks": ""
             }
            },
            "type": "parcoords"
           }
          ],
          "pie": [
           {
            "automargin": true,
            "type": "pie"
           }
          ],
          "scatter": [
           {
            "fillpattern": {
             "fillmode": "overlay",
             "size": 10,
             "solidity": 0.2
            },
            "type": "scatter"
           }
          ],
          "scatter3d": [
           {
            "line": {
             "colorbar": {
              "outlinewidth": 0,
              "ticks": ""
             }
            },
            "marker": {
             "colorbar": {
              "outlinewidth": 0,
              "ticks": ""
             }
            },
            "type": "scatter3d"
           }
          ],
          "scattercarpet": [
           {
            "marker": {
             "colorbar": {
              "outlinewidth": 0,
              "ticks": ""
             }
            },
            "type": "scattercarpet"
           }
          ],
          "scattergeo": [
           {
            "marker": {
             "colorbar": {
              "outlinewidth": 0,
              "ticks": ""
             }
            },
            "type": "scattergeo"
           }
          ],
          "scattergl": [
           {
            "marker": {
             "colorbar": {
              "outlinewidth": 0,
              "ticks": ""
             }
            },
            "type": "scattergl"
           }
          ],
          "scattermap": [
           {
            "marker": {
             "colorbar": {
              "outlinewidth": 0,
              "ticks": ""
             }
            },
            "type": "scattermap"
           }
          ],
          "scattermapbox": [
           {
            "marker": {
             "colorbar": {
              "outlinewidth": 0,
              "ticks": ""
             }
            },
            "type": "scattermapbox"
           }
          ],
          "scatterpolar": [
           {
            "marker": {
             "colorbar": {
              "outlinewidth": 0,
              "ticks": ""
             }
            },
            "type": "scatterpolar"
           }
          ],
          "scatterpolargl": [
           {
            "marker": {
             "colorbar": {
              "outlinewidth": 0,
              "ticks": ""
             }
            },
            "type": "scatterpolargl"
           }
          ],
          "scatterternary": [
           {
            "marker": {
             "colorbar": {
              "outlinewidth": 0,
              "ticks": ""
             }
            },
            "type": "scatterternary"
           }
          ],
          "surface": [
           {
            "colorbar": {
             "outlinewidth": 0,
             "ticks": ""
            },
            "colorscale": [
             [
              0,
              "#0d0887"
             ],
             [
              0.1111111111111111,
              "#46039f"
             ],
             [
              0.2222222222222222,
              "#7201a8"
             ],
             [
              0.3333333333333333,
              "#9c179e"
             ],
             [
              0.4444444444444444,
              "#bd3786"
             ],
             [
              0.5555555555555556,
              "#d8576b"
             ],
             [
              0.6666666666666666,
              "#ed7953"
             ],
             [
              0.7777777777777778,
              "#fb9f3a"
             ],
             [
              0.8888888888888888,
              "#fdca26"
             ],
             [
              1,
              "#f0f921"
             ]
            ],
            "type": "surface"
           }
          ],
          "table": [
           {
            "cells": {
             "fill": {
              "color": "#EBF0F8"
             },
             "line": {
              "color": "white"
             }
            },
            "header": {
             "fill": {
              "color": "#C8D4E3"
             },
             "line": {
              "color": "white"
             }
            },
            "type": "table"
           }
          ]
         },
         "layout": {
          "annotationdefaults": {
           "arrowcolor": "#2a3f5f",
           "arrowhead": 0,
           "arrowwidth": 1
          },
          "autotypenumbers": "strict",
          "coloraxis": {
           "colorbar": {
            "outlinewidth": 0,
            "ticks": ""
           }
          },
          "colorscale": {
           "diverging": [
            [
             0,
             "#8e0152"
            ],
            [
             0.1,
             "#c51b7d"
            ],
            [
             0.2,
             "#de77ae"
            ],
            [
             0.3,
             "#f1b6da"
            ],
            [
             0.4,
             "#fde0ef"
            ],
            [
             0.5,
             "#f7f7f7"
            ],
            [
             0.6,
             "#e6f5d0"
            ],
            [
             0.7,
             "#b8e186"
            ],
            [
             0.8,
             "#7fbc41"
            ],
            [
             0.9,
             "#4d9221"
            ],
            [
             1,
             "#276419"
            ]
           ],
           "sequential": [
            [
             0,
             "#0d0887"
            ],
            [
             0.1111111111111111,
             "#46039f"
            ],
            [
             0.2222222222222222,
             "#7201a8"
            ],
            [
             0.3333333333333333,
             "#9c179e"
            ],
            [
             0.4444444444444444,
             "#bd3786"
            ],
            [
             0.5555555555555556,
             "#d8576b"
            ],
            [
             0.6666666666666666,
             "#ed7953"
            ],
            [
             0.7777777777777778,
             "#fb9f3a"
            ],
            [
             0.8888888888888888,
             "#fdca26"
            ],
            [
             1,
             "#f0f921"
            ]
           ],
           "sequentialminus": [
            [
             0,
             "#0d0887"
            ],
            [
             0.1111111111111111,
             "#46039f"
            ],
            [
             0.2222222222222222,
             "#7201a8"
            ],
            [
             0.3333333333333333,
             "#9c179e"
            ],
            [
             0.4444444444444444,
             "#bd3786"
            ],
            [
             0.5555555555555556,
             "#d8576b"
            ],
            [
             0.6666666666666666,
             "#ed7953"
            ],
            [
             0.7777777777777778,
             "#fb9f3a"
            ],
            [
             0.8888888888888888,
             "#fdca26"
            ],
            [
             1,
             "#f0f921"
            ]
           ]
          },
          "colorway": [
           "#636efa",
           "#EF553B",
           "#00cc96",
           "#ab63fa",
           "#FFA15A",
           "#19d3f3",
           "#FF6692",
           "#B6E880",
           "#FF97FF",
           "#FECB52"
          ],
          "font": {
           "color": "#2a3f5f"
          },
          "geo": {
           "bgcolor": "white",
           "lakecolor": "white",
           "landcolor": "#E5ECF6",
           "showlakes": true,
           "showland": true,
           "subunitcolor": "white"
          },
          "hoverlabel": {
           "align": "left"
          },
          "hovermode": "closest",
          "mapbox": {
           "style": "light"
          },
          "paper_bgcolor": "white",
          "plot_bgcolor": "#E5ECF6",
          "polar": {
           "angularaxis": {
            "gridcolor": "white",
            "linecolor": "white",
            "ticks": ""
           },
           "bgcolor": "#E5ECF6",
           "radialaxis": {
            "gridcolor": "white",
            "linecolor": "white",
            "ticks": ""
           }
          },
          "scene": {
           "xaxis": {
            "backgroundcolor": "#E5ECF6",
            "gridcolor": "white",
            "gridwidth": 2,
            "linecolor": "white",
            "showbackground": true,
            "ticks": "",
            "zerolinecolor": "white"
           },
           "yaxis": {
            "backgroundcolor": "#E5ECF6",
            "gridcolor": "white",
            "gridwidth": 2,
            "linecolor": "white",
            "showbackground": true,
            "ticks": "",
            "zerolinecolor": "white"
           },
           "zaxis": {
            "backgroundcolor": "#E5ECF6",
            "gridcolor": "white",
            "gridwidth": 2,
            "linecolor": "white",
            "showbackground": true,
            "ticks": "",
            "zerolinecolor": "white"
           }
          },
          "shapedefaults": {
           "line": {
            "color": "#2a3f5f"
           }
          },
          "ternary": {
           "aaxis": {
            "gridcolor": "white",
            "linecolor": "white",
            "ticks": ""
           },
           "baxis": {
            "gridcolor": "white",
            "linecolor": "white",
            "ticks": ""
           },
           "bgcolor": "#E5ECF6",
           "caxis": {
            "gridcolor": "white",
            "linecolor": "white",
            "ticks": ""
           }
          },
          "title": {
           "x": 0.05
          },
          "xaxis": {
           "automargin": true,
           "gridcolor": "white",
           "linecolor": "white",
           "ticks": "",
           "title": {
            "standoff": 15
           },
           "zerolinecolor": "white",
           "zerolinewidth": 2
          },
          "yaxis": {
           "automargin": true,
           "gridcolor": "white",
           "linecolor": "white",
           "ticks": "",
           "title": {
            "standoff": 15
           },
           "zerolinecolor": "white",
           "zerolinewidth": 2
          }
         }
        },
        "title": {
         "text": "Correlation absolue entre les variables numériques et les variables de qualité"
        },
        "xaxis": {
         "anchor": "y",
         "domain": [
          0,
          1
         ]
        },
        "yaxis": {
         "anchor": "x",
         "autorange": "reversed",
         "domain": [
          0,
          1
         ],
         "title": {
          "text": "column"
         }
        }
       }
      }
     },
     "metadata": {},
     "output_type": "display_data"
    }
   ],
   "source": [
    "target_vars = [\"CharpyJ\", \"Elongation_pct\", \"UTS_MPa\"]\n",
    "\n",
    "# Drop rows with missing targets (modeling step; keep a copy of df_raw for EDA if needed)\n",
    "df = df_raw.copy()\n",
    "df = df.dropna(subset=target_vars)\n",
    "\n",
    "# Identify features\n",
    "feature_cols = [c for c in df.columns if c not in (target_vars + [\"WeldID\"])]\n",
    "X = df[feature_cols].copy()\n",
    "y = df[target_vars].copy()\n",
    "\n",
    "num_cols = df_raw.select_dtypes(include=[np.number]).columns.tolist()\n",
    "\n",
    "corrs = df_raw[num_cols].corr(method='pearson')[target_vars]\n",
    "\n",
    "# Tri des corrélations en fonction de la quantité de missing values\n",
    "corrs_sorted = corrs.reindex(miss_df['column'])\n",
    "\n",
    "\n",
    "print(\"=== Corrélation absolue avec les variables de qualité ===\")\n",
    "print(corrs_sorted.round(3))\n",
    "fig = px.imshow(\n",
    "    corrs_sorted,\n",
    "    aspect=\"auto\",\n",
    "    color_continuous_scale=\"RdBu_r\",\n",
    "    title=\"Correlation absolue entre les variables numériques et les variables de qualité\"\n",
    ")\n",
    "fig.show()"
   ]
  },
  {
   "cell_type": "markdown",
   "metadata": {},
   "source": [
    "On va donc retirer toutes les variables qui on un taux de missing value élevé ainsi qu'une corrélation faible ou inexistante avec les variables explicatives."
   ]
  },
  {
   "cell_type": "code",
   "execution_count": 36,
   "metadata": {},
   "outputs": [],
   "source": [
    "COLS_TO_DROP = [\"FATT_50pct\", \"W_wt_pct\", \"FerriteCarbideAgg_pct\", \"Martensite_pct\", \"FerriteSecondPhase_pct\", \"AcicularFerrite_pct\", \"PrimaryFerrite_pct\", \"Co_wt_pct\", \"Hardness_kg_per_mm2\", \"As_ppm\", \"Sb_ppm\", \"Sn_ppm\", \"B_ppm\", \"Cu_wt_pct\"]\n",
    "df = df_raw.drop(columns=COLS_TO_DROP)"
   ]
  },
  {
   "cell_type": "code",
   "execution_count": 37,
   "metadata": {},
   "outputs": [
    {
     "data": {
      "text/html": [
       "<div>\n",
       "<style scoped>\n",
       "    .dataframe tbody tr th:only-of-type {\n",
       "        vertical-align: middle;\n",
       "    }\n",
       "\n",
       "    .dataframe tbody tr th {\n",
       "        vertical-align: top;\n",
       "    }\n",
       "\n",
       "    .dataframe thead th {\n",
       "        text-align: right;\n",
       "    }\n",
       "</style>\n",
       "<table border=\"1\" class=\"dataframe\">\n",
       "  <thead>\n",
       "    <tr style=\"text-align: right;\">\n",
       "      <th></th>\n",
       "      <th>count</th>\n",
       "      <th>mean</th>\n",
       "      <th>std</th>\n",
       "      <th>min</th>\n",
       "      <th>25%</th>\n",
       "      <th>50%</th>\n",
       "      <th>75%</th>\n",
       "      <th>max</th>\n",
       "    </tr>\n",
       "  </thead>\n",
       "  <tbody>\n",
       "    <tr>\n",
       "      <th>C_wt_pct</th>\n",
       "      <td>1652.0</td>\n",
       "      <td>0.075521</td>\n",
       "      <td>0.023898</td>\n",
       "      <td>0.029</td>\n",
       "      <td>0.06175</td>\n",
       "      <td>0.074</td>\n",
       "      <td>0.086</td>\n",
       "      <td>0.18</td>\n",
       "    </tr>\n",
       "    <tr>\n",
       "      <th>Si_wt_pct</th>\n",
       "      <td>1652.0</td>\n",
       "      <td>0.328577</td>\n",
       "      <td>0.112455</td>\n",
       "      <td>0.040</td>\n",
       "      <td>0.27000</td>\n",
       "      <td>0.320</td>\n",
       "      <td>0.360</td>\n",
       "      <td>1.14</td>\n",
       "    </tr>\n",
       "    <tr>\n",
       "      <th>Mn_wt_pct</th>\n",
       "      <td>1652.0</td>\n",
       "      <td>1.202821</td>\n",
       "      <td>0.382137</td>\n",
       "      <td>0.270</td>\n",
       "      <td>0.94000</td>\n",
       "      <td>1.270</td>\n",
       "      <td>1.440</td>\n",
       "      <td>2.25</td>\n",
       "    </tr>\n",
       "    <tr>\n",
       "      <th>P_wt_pct</th>\n",
       "      <td>1642.0</td>\n",
       "      <td>0.012952</td>\n",
       "      <td>0.019627</td>\n",
       "      <td>0.002</td>\n",
       "      <td>0.00700</td>\n",
       "      <td>0.010</td>\n",
       "      <td>0.014</td>\n",
       "      <td>0.25</td>\n",
       "    </tr>\n",
       "    <tr>\n",
       "      <th>Ni_wt_pct</th>\n",
       "      <td>697.0</td>\n",
       "      <td>0.415034</td>\n",
       "      <td>0.786951</td>\n",
       "      <td>0.000</td>\n",
       "      <td>0.00000</td>\n",
       "      <td>0.067</td>\n",
       "      <td>0.260</td>\n",
       "      <td>3.50</td>\n",
       "    </tr>\n",
       "    <tr>\n",
       "      <th>Cr_wt_pct</th>\n",
       "      <td>784.0</td>\n",
       "      <td>2.101273</td>\n",
       "      <td>3.026548</td>\n",
       "      <td>0.000</td>\n",
       "      <td>0.00000</td>\n",
       "      <td>0.530</td>\n",
       "      <td>2.300</td>\n",
       "      <td>10.20</td>\n",
       "    </tr>\n",
       "    <tr>\n",
       "      <th>O_ppm</th>\n",
       "      <td>1256.0</td>\n",
       "      <td>441.967357</td>\n",
       "      <td>147.483825</td>\n",
       "      <td>132.000</td>\n",
       "      <td>370.00000</td>\n",
       "      <td>423.000</td>\n",
       "      <td>471.000</td>\n",
       "      <td>1650.00</td>\n",
       "    </tr>\n",
       "    <tr>\n",
       "      <th>Current_A</th>\n",
       "      <td>1404.0</td>\n",
       "      <td>283.843661</td>\n",
       "      <td>192.560955</td>\n",
       "      <td>115.000</td>\n",
       "      <td>170.00000</td>\n",
       "      <td>170.000</td>\n",
       "      <td>300.000</td>\n",
       "      <td>900.00</td>\n",
       "    </tr>\n",
       "    <tr>\n",
       "      <th>Voltage_V</th>\n",
       "      <td>1404.0</td>\n",
       "      <td>27.607379</td>\n",
       "      <td>12.555629</td>\n",
       "      <td>11.500</td>\n",
       "      <td>21.00000</td>\n",
       "      <td>21.000</td>\n",
       "      <td>30.000</td>\n",
       "      <td>75.36</td>\n",
       "    </tr>\n",
       "    <tr>\n",
       "      <th>HeatInput_kJ_per_mm</th>\n",
       "      <td>1652.0</td>\n",
       "      <td>1.700987</td>\n",
       "      <td>1.298465</td>\n",
       "      <td>0.600</td>\n",
       "      <td>1.00000</td>\n",
       "      <td>1.000</td>\n",
       "      <td>2.000</td>\n",
       "      <td>7.90</td>\n",
       "    </tr>\n",
       "    <tr>\n",
       "      <th>PWHT_Temp_C</th>\n",
       "      <td>1639.0</td>\n",
       "      <td>304.674192</td>\n",
       "      <td>285.498003</td>\n",
       "      <td>0.000</td>\n",
       "      <td>0.00000</td>\n",
       "      <td>250.000</td>\n",
       "      <td>580.000</td>\n",
       "      <td>760.00</td>\n",
       "    </tr>\n",
       "    <tr>\n",
       "      <th>PWHT_Time_h</th>\n",
       "      <td>1639.0</td>\n",
       "      <td>5.049652</td>\n",
       "      <td>6.096034</td>\n",
       "      <td>0.000</td>\n",
       "      <td>0.00000</td>\n",
       "      <td>2.000</td>\n",
       "      <td>10.000</td>\n",
       "      <td>24.00</td>\n",
       "    </tr>\n",
       "    <tr>\n",
       "      <th>YieldStrength_MPa</th>\n",
       "      <td>780.0</td>\n",
       "      <td>508.557179</td>\n",
       "      <td>92.865446</td>\n",
       "      <td>315.000</td>\n",
       "      <td>443.00000</td>\n",
       "      <td>495.000</td>\n",
       "      <td>559.250</td>\n",
       "      <td>920.00</td>\n",
       "    </tr>\n",
       "    <tr>\n",
       "      <th>UTS_MPa</th>\n",
       "      <td>738.0</td>\n",
       "      <td>594.386314</td>\n",
       "      <td>88.636238</td>\n",
       "      <td>447.000</td>\n",
       "      <td>532.77500</td>\n",
       "      <td>575.500</td>\n",
       "      <td>647.000</td>\n",
       "      <td>1151.00</td>\n",
       "    </tr>\n",
       "    <tr>\n",
       "      <th>Elongation_pct</th>\n",
       "      <td>700.0</td>\n",
       "      <td>26.275714</td>\n",
       "      <td>4.895986</td>\n",
       "      <td>10.600</td>\n",
       "      <td>22.80000</td>\n",
       "      <td>26.800</td>\n",
       "      <td>30.000</td>\n",
       "      <td>37.00</td>\n",
       "    </tr>\n",
       "    <tr>\n",
       "      <th>ReductionArea_pct</th>\n",
       "      <td>705.0</td>\n",
       "      <td>71.799858</td>\n",
       "      <td>8.926551</td>\n",
       "      <td>17.000</td>\n",
       "      <td>68.00000</td>\n",
       "      <td>75.000</td>\n",
       "      <td>78.000</td>\n",
       "      <td>83.00</td>\n",
       "    </tr>\n",
       "    <tr>\n",
       "      <th>CharpyTemp_C</th>\n",
       "      <td>879.0</td>\n",
       "      <td>-34.606371</td>\n",
       "      <td>34.738624</td>\n",
       "      <td>-114.000</td>\n",
       "      <td>-60.00000</td>\n",
       "      <td>-40.000</td>\n",
       "      <td>-17.500</td>\n",
       "      <td>188.00</td>\n",
       "    </tr>\n",
       "    <tr>\n",
       "      <th>CharpyJ</th>\n",
       "      <td>879.0</td>\n",
       "      <td>87.689420</td>\n",
       "      <td>50.116700</td>\n",
       "      <td>3.000</td>\n",
       "      <td>38.00000</td>\n",
       "      <td>100.000</td>\n",
       "      <td>100.000</td>\n",
       "      <td>270.00</td>\n",
       "    </tr>\n",
       "  </tbody>\n",
       "</table>\n",
       "</div>"
      ],
      "text/plain": [
       "                      count        mean         std      min        25%  \\\n",
       "C_wt_pct             1652.0    0.075521    0.023898    0.029    0.06175   \n",
       "Si_wt_pct            1652.0    0.328577    0.112455    0.040    0.27000   \n",
       "Mn_wt_pct            1652.0    1.202821    0.382137    0.270    0.94000   \n",
       "P_wt_pct             1642.0    0.012952    0.019627    0.002    0.00700   \n",
       "Ni_wt_pct             697.0    0.415034    0.786951    0.000    0.00000   \n",
       "Cr_wt_pct             784.0    2.101273    3.026548    0.000    0.00000   \n",
       "O_ppm                1256.0  441.967357  147.483825  132.000  370.00000   \n",
       "Current_A            1404.0  283.843661  192.560955  115.000  170.00000   \n",
       "Voltage_V            1404.0   27.607379   12.555629   11.500   21.00000   \n",
       "HeatInput_kJ_per_mm  1652.0    1.700987    1.298465    0.600    1.00000   \n",
       "PWHT_Temp_C          1639.0  304.674192  285.498003    0.000    0.00000   \n",
       "PWHT_Time_h          1639.0    5.049652    6.096034    0.000    0.00000   \n",
       "YieldStrength_MPa     780.0  508.557179   92.865446  315.000  443.00000   \n",
       "UTS_MPa               738.0  594.386314   88.636238  447.000  532.77500   \n",
       "Elongation_pct        700.0   26.275714    4.895986   10.600   22.80000   \n",
       "ReductionArea_pct     705.0   71.799858    8.926551   17.000   68.00000   \n",
       "CharpyTemp_C          879.0  -34.606371   34.738624 -114.000  -60.00000   \n",
       "CharpyJ               879.0   87.689420   50.116700    3.000   38.00000   \n",
       "\n",
       "                         50%      75%      max  \n",
       "C_wt_pct               0.074    0.086     0.18  \n",
       "Si_wt_pct              0.320    0.360     1.14  \n",
       "Mn_wt_pct              1.270    1.440     2.25  \n",
       "P_wt_pct               0.010    0.014     0.25  \n",
       "Ni_wt_pct              0.067    0.260     3.50  \n",
       "Cr_wt_pct              0.530    2.300    10.20  \n",
       "O_ppm                423.000  471.000  1650.00  \n",
       "Current_A            170.000  300.000   900.00  \n",
       "Voltage_V             21.000   30.000    75.36  \n",
       "HeatInput_kJ_per_mm    1.000    2.000     7.90  \n",
       "PWHT_Temp_C          250.000  580.000   760.00  \n",
       "PWHT_Time_h            2.000   10.000    24.00  \n",
       "YieldStrength_MPa    495.000  559.250   920.00  \n",
       "UTS_MPa              575.500  647.000  1151.00  \n",
       "Elongation_pct        26.800   30.000    37.00  \n",
       "ReductionArea_pct     75.000   78.000    83.00  \n",
       "CharpyTemp_C         -40.000  -17.500   188.00  \n",
       "CharpyJ              100.000  100.000   270.00  "
      ]
     },
     "execution_count": 37,
     "metadata": {},
     "output_type": "execute_result"
    }
   ],
   "source": [
    "num_cols = df.select_dtypes(include=[np.number]).columns.tolist()\n",
    "desc = df[num_cols].describe().T\n",
    "desc"
   ]
  },
  {
   "cell_type": "code",
   "execution_count": 38,
   "metadata": {},
   "outputs": [
    {
     "name": "stdout",
     "output_type": "stream",
     "text": [
      "0.5\n"
     ]
    },
    {
     "data": {
      "application/vnd.plotly.v1+json": {
       "config": {
        "plotlyServerURL": "https://plot.ly"
       },
       "data": [
        {
         "bingroup": "x",
         "hovertemplate": "variable=0<br>Taux de valeurs manquantes=%{x}<br>count=%{y}<extra></extra>",
         "legendgroup": "0",
         "marker": {
          "color": "#636efa",
          "pattern": {
           "shape": ""
          }
         },
         "name": "0",
         "nbinsx": 12,
         "orientation": "v",
         "showlegend": true,
         "type": "histogram",
         "x": {
          "bdata": "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",
          "dtype": "f8"
         },
         "xaxis": "x",
         "yaxis": "y"
        }
       ],
       "layout": {
        "barmode": "relative",
        "legend": {
         "title": {
          "text": "variable"
         },
         "tracegroupgap": 0
        },
        "template": {
         "data": {
          "bar": [
           {
            "error_x": {
             "color": "#2a3f5f"
            },
            "error_y": {
             "color": "#2a3f5f"
            },
            "marker": {
             "line": {
              "color": "#E5ECF6",
              "width": 0.5
             },
             "pattern": {
              "fillmode": "overlay",
              "size": 10,
              "solidity": 0.2
             }
            },
            "type": "bar"
           }
          ],
          "barpolar": [
           {
            "marker": {
             "line": {
              "color": "#E5ECF6",
              "width": 0.5
             },
             "pattern": {
              "fillmode": "overlay",
              "size": 10,
              "solidity": 0.2
             }
            },
            "type": "barpolar"
           }
          ],
          "carpet": [
           {
            "aaxis": {
             "endlinecolor": "#2a3f5f",
             "gridcolor": "white",
             "linecolor": "white",
             "minorgridcolor": "white",
             "startlinecolor": "#2a3f5f"
            },
            "baxis": {
             "endlinecolor": "#2a3f5f",
             "gridcolor": "white",
             "linecolor": "white",
             "minorgridcolor": "white",
             "startlinecolor": "#2a3f5f"
            },
            "type": "carpet"
           }
          ],
          "choropleth": [
           {
            "colorbar": {
             "outlinewidth": 0,
             "ticks": ""
            },
            "type": "choropleth"
           }
          ],
          "contour": [
           {
            "colorbar": {
             "outlinewidth": 0,
             "ticks": ""
            },
            "colorscale": [
             [
              0,
              "#0d0887"
             ],
             [
              0.1111111111111111,
              "#46039f"
             ],
             [
              0.2222222222222222,
              "#7201a8"
             ],
             [
              0.3333333333333333,
              "#9c179e"
             ],
             [
              0.4444444444444444,
              "#bd3786"
             ],
             [
              0.5555555555555556,
              "#d8576b"
             ],
             [
              0.6666666666666666,
              "#ed7953"
             ],
             [
              0.7777777777777778,
              "#fb9f3a"
             ],
             [
              0.8888888888888888,
              "#fdca26"
             ],
             [
              1,
              "#f0f921"
             ]
            ],
            "type": "contour"
           }
          ],
          "contourcarpet": [
           {
            "colorbar": {
             "outlinewidth": 0,
             "ticks": ""
            },
            "type": "contourcarpet"
           }
          ],
          "heatmap": [
           {
            "colorbar": {
             "outlinewidth": 0,
             "ticks": ""
            },
            "colorscale": [
             [
              0,
              "#0d0887"
             ],
             [
              0.1111111111111111,
              "#46039f"
             ],
             [
              0.2222222222222222,
              "#7201a8"
             ],
             [
              0.3333333333333333,
              "#9c179e"
             ],
             [
              0.4444444444444444,
              "#bd3786"
             ],
             [
              0.5555555555555556,
              "#d8576b"
             ],
             [
              0.6666666666666666,
              "#ed7953"
             ],
             [
              0.7777777777777778,
              "#fb9f3a"
             ],
             [
              0.8888888888888888,
              "#fdca26"
             ],
             [
              1,
              "#f0f921"
             ]
            ],
            "type": "heatmap"
           }
          ],
          "histogram": [
           {
            "marker": {
             "pattern": {
              "fillmode": "overlay",
              "size": 10,
              "solidity": 0.2
             }
            },
            "type": "histogram"
           }
          ],
          "histogram2d": [
           {
            "colorbar": {
             "outlinewidth": 0,
             "ticks": ""
            },
            "colorscale": [
             [
              0,
              "#0d0887"
             ],
             [
              0.1111111111111111,
              "#46039f"
             ],
             [
              0.2222222222222222,
              "#7201a8"
             ],
             [
              0.3333333333333333,
              "#9c179e"
             ],
             [
              0.4444444444444444,
              "#bd3786"
             ],
             [
              0.5555555555555556,
              "#d8576b"
             ],
             [
              0.6666666666666666,
              "#ed7953"
             ],
             [
              0.7777777777777778,
              "#fb9f3a"
             ],
             [
              0.8888888888888888,
              "#fdca26"
             ],
             [
              1,
              "#f0f921"
             ]
            ],
            "type": "histogram2d"
           }
          ],
          "histogram2dcontour": [
           {
            "colorbar": {
             "outlinewidth": 0,
             "ticks": ""
            },
            "colorscale": [
             [
              0,
              "#0d0887"
             ],
             [
              0.1111111111111111,
              "#46039f"
             ],
             [
              0.2222222222222222,
              "#7201a8"
             ],
             [
              0.3333333333333333,
              "#9c179e"
             ],
             [
              0.4444444444444444,
              "#bd3786"
             ],
             [
              0.5555555555555556,
              "#d8576b"
             ],
             [
              0.6666666666666666,
              "#ed7953"
             ],
             [
              0.7777777777777778,
              "#fb9f3a"
             ],
             [
              0.8888888888888888,
              "#fdca26"
             ],
             [
              1,
              "#f0f921"
             ]
            ],
            "type": "histogram2dcontour"
           }
          ],
          "mesh3d": [
           {
            "colorbar": {
             "outlinewidth": 0,
             "ticks": ""
            },
            "type": "mesh3d"
           }
          ],
          "parcoords": [
           {
            "line": {
             "colorbar": {
              "outlinewidth": 0,
              "ticks": ""
             }
            },
            "type": "parcoords"
           }
          ],
          "pie": [
           {
            "automargin": true,
            "type": "pie"
           }
          ],
          "scatter": [
           {
            "fillpattern": {
             "fillmode": "overlay",
             "size": 10,
             "solidity": 0.2
            },
            "type": "scatter"
           }
          ],
          "scatter3d": [
           {
            "line": {
             "colorbar": {
              "outlinewidth": 0,
              "ticks": ""
             }
            },
            "marker": {
             "colorbar": {
              "outlinewidth": 0,
              "ticks": ""
             }
            },
            "type": "scatter3d"
           }
          ],
          "scattercarpet": [
           {
            "marker": {
             "colorbar": {
              "outlinewidth": 0,
              "ticks": ""
             }
            },
            "type": "scattercarpet"
           }
          ],
          "scattergeo": [
           {
            "marker": {
             "colorbar": {
              "outlinewidth": 0,
              "ticks": ""
             }
            },
            "type": "scattergeo"
           }
          ],
          "scattergl": [
           {
            "marker": {
             "colorbar": {
              "outlinewidth": 0,
              "ticks": ""
             }
            },
            "type": "scattergl"
           }
          ],
          "scattermap": [
           {
            "marker": {
             "colorbar": {
              "outlinewidth": 0,
              "ticks": ""
             }
            },
            "type": "scattermap"
           }
          ],
          "scattermapbox": [
           {
            "marker": {
             "colorbar": {
              "outlinewidth": 0,
              "ticks": ""
             }
            },
            "type": "scattermapbox"
           }
          ],
          "scatterpolar": [
           {
            "marker": {
             "colorbar": {
              "outlinewidth": 0,
              "ticks": ""
             }
            },
            "type": "scatterpolar"
           }
          ],
          "scatterpolargl": [
           {
            "marker": {
             "colorbar": {
              "outlinewidth": 0,
              "ticks": ""
             }
            },
            "type": "scatterpolargl"
           }
          ],
          "scatterternary": [
           {
            "marker": {
             "colorbar": {
              "outlinewidth": 0,
              "ticks": ""
             }
            },
            "type": "scatterternary"
           }
          ],
          "surface": [
           {
            "colorbar": {
             "outlinewidth": 0,
             "ticks": ""
            },
            "colorscale": [
             [
              0,
              "#0d0887"
             ],
             [
              0.1111111111111111,
              "#46039f"
             ],
             [
              0.2222222222222222,
              "#7201a8"
             ],
             [
              0.3333333333333333,
              "#9c179e"
             ],
             [
              0.4444444444444444,
              "#bd3786"
             ],
             [
              0.5555555555555556,
              "#d8576b"
             ],
             [
              0.6666666666666666,
              "#ed7953"
             ],
             [
              0.7777777777777778,
              "#fb9f3a"
             ],
             [
              0.8888888888888888,
              "#fdca26"
             ],
             [
              1,
              "#f0f921"
             ]
            ],
            "type": "surface"
           }
          ],
          "table": [
           {
            "cells": {
             "fill": {
              "color": "#EBF0F8"
             },
             "line": {
              "color": "white"
             }
            },
            "header": {
             "fill": {
              "color": "#C8D4E3"
             },
             "line": {
              "color": "white"
             }
            },
            "type": "table"
           }
          ]
         },
         "layout": {
          "annotationdefaults": {
           "arrowcolor": "#2a3f5f",
           "arrowhead": 0,
           "arrowwidth": 1
          },
          "autotypenumbers": "strict",
          "coloraxis": {
           "colorbar": {
            "outlinewidth": 0,
            "ticks": ""
           }
          },
          "colorscale": {
           "diverging": [
            [
             0,
             "#8e0152"
            ],
            [
             0.1,
             "#c51b7d"
            ],
            [
             0.2,
             "#de77ae"
            ],
            [
             0.3,
             "#f1b6da"
            ],
            [
             0.4,
             "#fde0ef"
            ],
            [
             0.5,
             "#f7f7f7"
            ],
            [
             0.6,
             "#e6f5d0"
            ],
            [
             0.7,
             "#b8e186"
            ],
            [
             0.8,
             "#7fbc41"
            ],
            [
             0.9,
             "#4d9221"
            ],
            [
             1,
             "#276419"
            ]
           ],
           "sequential": [
            [
             0,
             "#0d0887"
            ],
            [
             0.1111111111111111,
             "#46039f"
            ],
            [
             0.2222222222222222,
             "#7201a8"
            ],
            [
             0.3333333333333333,
             "#9c179e"
            ],
            [
             0.4444444444444444,
             "#bd3786"
            ],
            [
             0.5555555555555556,
             "#d8576b"
            ],
            [
             0.6666666666666666,
             "#ed7953"
            ],
            [
             0.7777777777777778,
             "#fb9f3a"
            ],
            [
             0.8888888888888888,
             "#fdca26"
            ],
            [
             1,
             "#f0f921"
            ]
           ],
           "sequentialminus": [
            [
             0,
             "#0d0887"
            ],
            [
             0.1111111111111111,
             "#46039f"
            ],
            [
             0.2222222222222222,
             "#7201a8"
            ],
            [
             0.3333333333333333,
             "#9c179e"
            ],
            [
             0.4444444444444444,
             "#bd3786"
            ],
            [
             0.5555555555555556,
             "#d8576b"
            ],
            [
             0.6666666666666666,
             "#ed7953"
            ],
            [
             0.7777777777777778,
             "#fb9f3a"
            ],
            [
             0.8888888888888888,
             "#fdca26"
            ],
            [
             1,
             "#f0f921"
            ]
           ]
          },
          "colorway": [
           "#636efa",
           "#EF553B",
           "#00cc96",
           "#ab63fa",
           "#FFA15A",
           "#19d3f3",
           "#FF6692",
           "#B6E880",
           "#FF97FF",
           "#FECB52"
          ],
          "font": {
           "color": "#2a3f5f"
          },
          "geo": {
           "bgcolor": "white",
           "lakecolor": "white",
           "landcolor": "#E5ECF6",
           "showlakes": true,
           "showland": true,
           "subunitcolor": "white"
          },
          "hoverlabel": {
           "align": "left"
          },
          "hovermode": "closest",
          "mapbox": {
           "style": "light"
          },
          "paper_bgcolor": "white",
          "plot_bgcolor": "#E5ECF6",
          "polar": {
           "angularaxis": {
            "gridcolor": "white",
            "linecolor": "white",
            "ticks": ""
           },
           "bgcolor": "#E5ECF6",
           "radialaxis": {
            "gridcolor": "white",
            "linecolor": "white",
            "ticks": ""
           }
          },
          "scene": {
           "xaxis": {
            "backgroundcolor": "#E5ECF6",
            "gridcolor": "white",
            "gridwidth": 2,
            "linecolor": "white",
            "showbackground": true,
            "ticks": "",
            "zerolinecolor": "white"
           },
           "yaxis": {
            "backgroundcolor": "#E5ECF6",
            "gridcolor": "white",
            "gridwidth": 2,
            "linecolor": "white",
            "showbackground": true,
            "ticks": "",
            "zerolinecolor": "white"
           },
           "zaxis": {
            "backgroundcolor": "#E5ECF6",
            "gridcolor": "white",
            "gridwidth": 2,
            "linecolor": "white",
            "showbackground": true,
            "ticks": "",
            "zerolinecolor": "white"
           }
          },
          "shapedefaults": {
           "line": {
            "color": "#2a3f5f"
           }
          },
          "ternary": {
           "aaxis": {
            "gridcolor": "white",
            "linecolor": "white",
            "ticks": ""
           },
           "baxis": {
            "gridcolor": "white",
            "linecolor": "white",
            "ticks": ""
           },
           "bgcolor": "#E5ECF6",
           "caxis": {
            "gridcolor": "white",
            "linecolor": "white",
            "ticks": ""
           }
          },
          "title": {
           "x": 0.05
          },
          "xaxis": {
           "automargin": true,
           "gridcolor": "white",
           "linecolor": "white",
           "ticks": "",
           "title": {
            "standoff": 15
           },
           "zerolinecolor": "white",
           "zerolinewidth": 2
          },
          "yaxis": {
           "automargin": true,
           "gridcolor": "white",
           "linecolor": "white",
           "ticks": "",
           "title": {
            "standoff": 15
           },
           "zerolinecolor": "white",
           "zerolinewidth": 2
          }
         }
        },
        "title": {
         "text": "Distribution du pourcentage de valeurs manquantes par ligne"
        },
        "xaxis": {
         "anchor": "y",
         "domain": [
          0,
          1
         ],
         "title": {
          "text": "Taux de valeurs manquantes"
         }
        },
        "yaxis": {
         "anchor": "x",
         "domain": [
          0,
          1
         ],
         "title": {
          "text": "count"
         }
        }
       }
      }
     },
     "metadata": {},
     "output_type": "display_data"
    }
   ],
   "source": [
    "row_missing_ratio = df.isna().mean(axis=1)\n",
    "print(max(row_missing_ratio))\n",
    "fig = px.histogram(row_missing_ratio, nbins=12,\n",
    "                   title=\"Distribution du pourcentage de valeurs manquantes par ligne\",\n",
    "                   labels={\"value\": \"Taux de valeurs manquantes\"})\n",
    "fig.show()"
   ]
  },
  {
   "cell_type": "markdown",
   "metadata": {},
   "source": [
    "Toutes les lignes ont au moins la moitié de leurs valeurs. On va les conserver"
   ]
  },
  {
   "cell_type": "code",
   "execution_count": null,
   "metadata": {},
   "outputs": [],
   "source": [
    "target_vars = [\"CharpyJ\", \"Elongation_pct\", \"UTS_MPa\"]\n",
    "\n",
    "# Drop rows with missing targets (modeling step; keep a copy of df_raw for EDA if needed)\n",
    "df = df_raw.copy()\n",
    "df = df.dropna(subset=target_vars)\n",
    "\n",
    "# Identify features\n",
    "feature_cols = [c for c in df.columns if c not in (target_vars + [\"WeldID\"])]\n",
    "X = df[feature_cols].copy()\n",
    "y = df[target_vars].copy()"
   ]
  },
  {
   "cell_type": "markdown",
   "metadata": {},
   "source": [
    "Maintenant, on va compléter les lignes qui contiennent des NaN"
   ]
  },
  {
   "cell_type": "code",
   "execution_count": 39,
   "metadata": {},
   "outputs": [],
   "source": [
    "# the paper describes how to handle chemicals : \n",
    "\n",
    "impurity_elements = [\"P_wt_pct\", \"S_wt_pct\"]\n",
    "deliberate_elements = [\"Mn_wt_pct\", \"Ni_wt_pct\", \"Cr_wt_pct\", \"Mo_wt_pct\"]\n",
    "\n",
    "for col in impurity_elements + deliberate_elements:\n",
    "    X[col] = pd.to_numeric(X[col], errors='coerce')\n",
    "\n",
    "# Add indicators\n",
    "for col in impurity_elements + deliberate_elements:\n",
    "    X[f\"{col}_was_na\"] = X[col].isna().astype(int)\n",
    "\n",
    "# Apply domain-specific fills\n",
    "for col in impurity_elements:\n",
    "    X[col] = X[col].fillna(X[col].mean())\n",
    "for col in deliberate_elements:\n",
    "    X[col] = X[col].fillna(0)"
   ]
  },
  {
   "cell_type": "code",
   "execution_count": 40,
   "metadata": {},
   "outputs": [
    {
     "name": "stdout",
     "output_type": "stream",
     "text": [
      "Elongation_pct        0.576271\n",
      "ReductionArea_pct     0.573245\n",
      "UTS_MPa               0.553269\n",
      "Nb_ppm                0.544794\n",
      "YieldStrength_MPa     0.527845\n",
      "CharpyJ               0.467918\n",
      "CharpyTemp_C          0.467918\n",
      "Al_ppm                0.452179\n",
      "V_wt_pct              0.438257\n",
      "Ti_ppm                0.434019\n",
      "N_ppm                 0.248184\n",
      "O_ppm                 0.239709\n",
      "Current_A             0.150121\n",
      "Voltage_V             0.150121\n",
      "AC_or_DC              0.130145\n",
      "Electrode_polarity    0.094431\n",
      "PWHT_Time_h           0.007869\n",
      "PWHT_Temp_C           0.007869\n",
      "dtype: float64\n"
     ]
    }
   ],
   "source": [
    "remaining_missing = df.isna().mean().sort_values(ascending=False)\n",
    "print(remaining_missing[remaining_missing > 0])"
   ]
  },
  {
   "cell_type": "code",
   "execution_count": 41,
   "metadata": {},
   "outputs": [
    {
     "data": {
      "application/vnd.plotly.v1+json": {
       "config": {
        "plotlyServerURL": "https://plot.ly"
       },
       "data": [
        {
         "bingroup": "x",
         "hovertemplate": "UTS_MPa=%{x}<br>count=%{y}<extra></extra>",
         "legendgroup": "",
         "marker": {
          "color": "#636efa",
          "pattern": {
           "shape": ""
          }
         },
         "name": "",
         "nbinsx": 30,
         "orientation": "v",
         "showlegend": false,
         "type": "histogram",
         "x": {
          "bdata": "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",
          "dtype": "f8"
         },
         "xaxis": "x",
         "yaxis": "y"
        }
       ],
       "layout": {
        "barmode": "relative",
        "legend": {
         "tracegroupgap": 0
        },
        "template": {
         "data": {
          "bar": [
           {
            "error_x": {
             "color": "#2a3f5f"
            },
            "error_y": {
             "color": "#2a3f5f"
            },
            "marker": {
             "line": {
              "color": "#E5ECF6",
              "width": 0.5
             },
             "pattern": {
              "fillmode": "overlay",
              "size": 10,
              "solidity": 0.2
             }
            },
            "type": "bar"
           }
          ],
          "barpolar": [
           {
            "marker": {
             "line": {
              "color": "#E5ECF6",
              "width": 0.5
             },
             "pattern": {
              "fillmode": "overlay",
              "size": 10,
              "solidity": 0.2
             }
            },
            "type": "barpolar"
           }
          ],
          "carpet": [
           {
            "aaxis": {
             "endlinecolor": "#2a3f5f",
             "gridcolor": "white",
             "linecolor": "white",
             "minorgridcolor": "white",
             "startlinecolor": "#2a3f5f"
            },
            "baxis": {
             "endlinecolor": "#2a3f5f",
             "gridcolor": "white",
             "linecolor": "white",
             "minorgridcolor": "white",
             "startlinecolor": "#2a3f5f"
            },
            "type": "carpet"
           }
          ],
          "choropleth": [
           {
            "colorbar": {
             "outlinewidth": 0,
             "ticks": ""
            },
            "type": "choropleth"
           }
          ],
          "contour": [
           {
            "colorbar": {
             "outlinewidth": 0,
             "ticks": ""
            },
            "colorscale": [
             [
              0,
              "#0d0887"
             ],
             [
              0.1111111111111111,
              "#46039f"
             ],
             [
              0.2222222222222222,
              "#7201a8"
             ],
             [
              0.3333333333333333,
              "#9c179e"
             ],
             [
              0.4444444444444444,
              "#bd3786"
             ],
             [
              0.5555555555555556,
              "#d8576b"
             ],
             [
              0.6666666666666666,
              "#ed7953"
             ],
             [
              0.7777777777777778,
              "#fb9f3a"
             ],
             [
              0.8888888888888888,
              "#fdca26"
             ],
             [
              1,
              "#f0f921"
             ]
            ],
            "type": "contour"
           }
          ],
          "contourcarpet": [
           {
            "colorbar": {
             "outlinewidth": 0,
             "ticks": ""
            },
            "type": "contourcarpet"
           }
          ],
          "heatmap": [
           {
            "colorbar": {
             "outlinewidth": 0,
             "ticks": ""
            },
            "colorscale": [
             [
              0,
              "#0d0887"
             ],
             [
              0.1111111111111111,
              "#46039f"
             ],
             [
              0.2222222222222222,
              "#7201a8"
             ],
             [
              0.3333333333333333,
              "#9c179e"
             ],
             [
              0.4444444444444444,
              "#bd3786"
             ],
             [
              0.5555555555555556,
              "#d8576b"
             ],
             [
              0.6666666666666666,
              "#ed7953"
             ],
             [
              0.7777777777777778,
              "#fb9f3a"
             ],
             [
              0.8888888888888888,
              "#fdca26"
             ],
             [
              1,
              "#f0f921"
             ]
            ],
            "type": "heatmap"
           }
          ],
          "histogram": [
           {
            "marker": {
             "pattern": {
              "fillmode": "overlay",
              "size": 10,
              "solidity": 0.2
             }
            },
            "type": "histogram"
           }
          ],
          "histogram2d": [
           {
            "colorbar": {
             "outlinewidth": 0,
             "ticks": ""
            },
            "colorscale": [
             [
              0,
              "#0d0887"
             ],
             [
              0.1111111111111111,
              "#46039f"
             ],
             [
              0.2222222222222222,
              "#7201a8"
             ],
             [
              0.3333333333333333,
              "#9c179e"
             ],
             [
              0.4444444444444444,
              "#bd3786"
             ],
             [
              0.5555555555555556,
              "#d8576b"
             ],
             [
              0.6666666666666666,
              "#ed7953"
             ],
             [
              0.7777777777777778,
              "#fb9f3a"
             ],
             [
              0.8888888888888888,
              "#fdca26"
             ],
             [
              1,
              "#f0f921"
             ]
            ],
            "type": "histogram2d"
           }
          ],
          "histogram2dcontour": [
           {
            "colorbar": {
             "outlinewidth": 0,
             "ticks": ""
            },
            "colorscale": [
             [
              0,
              "#0d0887"
             ],
             [
              0.1111111111111111,
              "#46039f"
             ],
             [
              0.2222222222222222,
              "#7201a8"
             ],
             [
              0.3333333333333333,
              "#9c179e"
             ],
             [
              0.4444444444444444,
              "#bd3786"
             ],
             [
              0.5555555555555556,
              "#d8576b"
             ],
             [
              0.6666666666666666,
              "#ed7953"
             ],
             [
              0.7777777777777778,
              "#fb9f3a"
             ],
             [
              0.8888888888888888,
              "#fdca26"
             ],
             [
              1,
              "#f0f921"
             ]
            ],
            "type": "histogram2dcontour"
           }
          ],
          "mesh3d": [
           {
            "colorbar": {
             "outlinewidth": 0,
             "ticks": ""
            },
            "type": "mesh3d"
           }
          ],
          "parcoords": [
           {
            "line": {
             "colorbar": {
              "outlinewidth": 0,
              "ticks": ""
             }
            },
            "type": "parcoords"
           }
          ],
          "pie": [
           {
            "automargin": true,
            "type": "pie"
           }
          ],
          "scatter": [
           {
            "fillpattern": {
             "fillmode": "overlay",
             "size": 10,
             "solidity": 0.2
            },
            "type": "scatter"
           }
          ],
          "scatter3d": [
           {
            "line": {
             "colorbar": {
              "outlinewidth": 0,
              "ticks": ""
             }
            },
            "marker": {
             "colorbar": {
              "outlinewidth": 0,
              "ticks": ""
             }
            },
            "type": "scatter3d"
           }
          ],
          "scattercarpet": [
           {
            "marker": {
             "colorbar": {
              "outlinewidth": 0,
              "ticks": ""
             }
            },
            "type": "scattercarpet"
           }
          ],
          "scattergeo": [
           {
            "marker": {
             "colorbar": {
              "outlinewidth": 0,
              "ticks": ""
             }
            },
            "type": "scattergeo"
           }
          ],
          "scattergl": [
           {
            "marker": {
             "colorbar": {
              "outlinewidth": 0,
              "ticks": ""
             }
            },
            "type": "scattergl"
           }
          ],
          "scattermap": [
           {
            "marker": {
             "colorbar": {
              "outlinewidth": 0,
              "ticks": ""
             }
            },
            "type": "scattermap"
           }
          ],
          "scattermapbox": [
           {
            "marker": {
             "colorbar": {
              "outlinewidth": 0,
              "ticks": ""
             }
            },
            "type": "scattermapbox"
           }
          ],
          "scatterpolar": [
           {
            "marker": {
             "colorbar": {
              "outlinewidth": 0,
              "ticks": ""
             }
            },
            "type": "scatterpolar"
           }
          ],
          "scatterpolargl": [
           {
            "marker": {
             "colorbar": {
              "outlinewidth": 0,
              "ticks": ""
             }
            },
            "type": "scatterpolargl"
           }
          ],
          "scatterternary": [
           {
            "marker": {
             "colorbar": {
              "outlinewidth": 0,
              "ticks": ""
             }
            },
            "type": "scatterternary"
           }
          ],
          "surface": [
           {
            "colorbar": {
             "outlinewidth": 0,
             "ticks": ""
            },
            "colorscale": [
             [
              0,
              "#0d0887"
             ],
             [
              0.1111111111111111,
              "#46039f"
             ],
             [
              0.2222222222222222,
              "#7201a8"
             ],
             [
              0.3333333333333333,
              "#9c179e"
             ],
             [
              0.4444444444444444,
              "#bd3786"
             ],
             [
              0.5555555555555556,
              "#d8576b"
             ],
             [
              0.6666666666666666,
              "#ed7953"
             ],
             [
              0.7777777777777778,
              "#fb9f3a"
             ],
             [
              0.8888888888888888,
              "#fdca26"
             ],
             [
              1,
              "#f0f921"
             ]
            ],
            "type": "surface"
           }
          ],
          "table": [
           {
            "cells": {
             "fill": {
              "color": "#EBF0F8"
             },
             "line": {
              "color": "white"
             }
            },
            "header": {
             "fill": {
              "color": "#C8D4E3"
             },
             "line": {
              "color": "white"
             }
            },
            "type": "table"
           }
          ]
         },
         "layout": {
          "annotationdefaults": {
           "arrowcolor": "#2a3f5f",
           "arrowhead": 0,
           "arrowwidth": 1
          },
          "autotypenumbers": "strict",
          "coloraxis": {
           "colorbar": {
            "outlinewidth": 0,
            "ticks": ""
           }
          },
          "colorscale": {
           "diverging": [
            [
             0,
             "#8e0152"
            ],
            [
             0.1,
             "#c51b7d"
            ],
            [
             0.2,
             "#de77ae"
            ],
            [
             0.3,
             "#f1b6da"
            ],
            [
             0.4,
             "#fde0ef"
            ],
            [
             0.5,
             "#f7f7f7"
            ],
            [
             0.6,
             "#e6f5d0"
            ],
            [
             0.7,
             "#b8e186"
            ],
            [
             0.8,
             "#7fbc41"
            ],
            [
             0.9,
             "#4d9221"
            ],
            [
             1,
             "#276419"
            ]
           ],
           "sequential": [
            [
             0,
             "#0d0887"
            ],
            [
             0.1111111111111111,
             "#46039f"
            ],
            [
             0.2222222222222222,
             "#7201a8"
            ],
            [
             0.3333333333333333,
             "#9c179e"
            ],
            [
             0.4444444444444444,
             "#bd3786"
            ],
            [
             0.5555555555555556,
             "#d8576b"
            ],
            [
             0.6666666666666666,
             "#ed7953"
            ],
            [
             0.7777777777777778,
             "#fb9f3a"
            ],
            [
             0.8888888888888888,
             "#fdca26"
            ],
            [
             1,
             "#f0f921"
            ]
           ],
           "sequentialminus": [
            [
             0,
             "#0d0887"
            ],
            [
             0.1111111111111111,
             "#46039f"
            ],
            [
             0.2222222222222222,
             "#7201a8"
            ],
            [
             0.3333333333333333,
             "#9c179e"
            ],
            [
             0.4444444444444444,
             "#bd3786"
            ],
            [
             0.5555555555555556,
             "#d8576b"
            ],
            [
             0.6666666666666666,
             "#ed7953"
            ],
            [
             0.7777777777777778,
             "#fb9f3a"
            ],
            [
             0.8888888888888888,
             "#fdca26"
            ],
            [
             1,
             "#f0f921"
            ]
           ]
          },
          "colorway": [
           "#636efa",
           "#EF553B",
           "#00cc96",
           "#ab63fa",
           "#FFA15A",
           "#19d3f3",
           "#FF6692",
           "#B6E880",
           "#FF97FF",
           "#FECB52"
          ],
          "font": {
           "color": "#2a3f5f"
          },
          "geo": {
           "bgcolor": "white",
           "lakecolor": "white",
           "landcolor": "#E5ECF6",
           "showlakes": true,
           "showland": true,
           "subunitcolor": "white"
          },
          "hoverlabel": {
           "align": "left"
          },
          "hovermode": "closest",
          "mapbox": {
           "style": "light"
          },
          "paper_bgcolor": "white",
          "plot_bgcolor": "#E5ECF6",
          "polar": {
           "angularaxis": {
            "gridcolor": "white",
            "linecolor": "white",
            "ticks": ""
           },
           "bgcolor": "#E5ECF6",
           "radialaxis": {
            "gridcolor": "white",
            "linecolor": "white",
            "ticks": ""
           }
          },
          "scene": {
           "xaxis": {
            "backgroundcolor": "#E5ECF6",
            "gridcolor": "white",
            "gridwidth": 2,
            "linecolor": "white",
            "showbackground": true,
            "ticks": "",
            "zerolinecolor": "white"
           },
           "yaxis": {
            "backgroundcolor": "#E5ECF6",
            "gridcolor": "white",
            "gridwidth": 2,
            "linecolor": "white",
            "showbackground": true,
            "ticks": "",
            "zerolinecolor": "white"
           },
           "zaxis": {
            "backgroundcolor": "#E5ECF6",
            "gridcolor": "white",
            "gridwidth": 2,
            "linecolor": "white",
            "showbackground": true,
            "ticks": "",
            "zerolinecolor": "white"
           }
          },
          "shapedefaults": {
           "line": {
            "color": "#2a3f5f"
           }
          },
          "ternary": {
           "aaxis": {
            "gridcolor": "white",
            "linecolor": "white",
            "ticks": ""
           },
           "baxis": {
            "gridcolor": "white",
            "linecolor": "white",
            "ticks": ""
           },
           "bgcolor": "#E5ECF6",
           "caxis": {
            "gridcolor": "white",
            "linecolor": "white",
            "ticks": ""
           }
          },
          "title": {
           "x": 0.05
          },
          "xaxis": {
           "automargin": true,
           "gridcolor": "white",
           "linecolor": "white",
           "ticks": "",
           "title": {
            "standoff": 15
           },
           "zerolinecolor": "white",
           "zerolinewidth": 2
          },
          "yaxis": {
           "automargin": true,
           "gridcolor": "white",
           "linecolor": "white",
           "ticks": "",
           "title": {
            "standoff": 15
           },
           "zerolinecolor": "white",
           "zerolinewidth": 2
          }
         }
        },
        "title": {
         "text": "UTS before imputation"
        },
        "xaxis": {
         "anchor": "y",
         "domain": [
          0,
          1
         ],
         "title": {
          "text": "UTS_MPa"
         }
        },
        "yaxis": {
         "anchor": "x",
         "domain": [
          0,
          1
         ],
         "title": {
          "text": "count"
         }
        }
       }
      }
     },
     "metadata": {},
     "output_type": "display_data"
    },
    {
     "name": "stdout",
     "output_type": "stream",
     "text": [
      "0\n"
     ]
    },
    {
     "data": {
      "application/vnd.plotly.v1+json": {
       "config": {
        "plotlyServerURL": "https://plot.ly"
       },
       "data": [
        {
         "bingroup": "x",
         "hovertemplate": "UTS_MPa=%{x}<br>count=%{y}<extra></extra>",
         "legendgroup": "",
         "marker": {
          "color": "#636efa",
          "pattern": {
           "shape": ""
          }
         },
         "name": "",
         "nbinsx": 30,
         "orientation": "v",
         "showlegend": false,
         "type": "histogram",
         "x": {
          "bdata": "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",
          "dtype": "f8"
         },
         "xaxis": "x",
         "yaxis": "y"
        }
       ],
       "layout": {
        "barmode": "relative",
        "legend": {
         "tracegroupgap": 0
        },
        "template": {
         "data": {
          "bar": [
           {
            "error_x": {
             "color": "#2a3f5f"
            },
            "error_y": {
             "color": "#2a3f5f"
            },
            "marker": {
             "line": {
              "color": "#E5ECF6",
              "width": 0.5
             },
             "pattern": {
              "fillmode": "overlay",
              "size": 10,
              "solidity": 0.2
             }
            },
            "type": "bar"
           }
          ],
          "barpolar": [
           {
            "marker": {
             "line": {
              "color": "#E5ECF6",
              "width": 0.5
             },
             "pattern": {
              "fillmode": "overlay",
              "size": 10,
              "solidity": 0.2
             }
            },
            "type": "barpolar"
           }
          ],
          "carpet": [
           {
            "aaxis": {
             "endlinecolor": "#2a3f5f",
             "gridcolor": "white",
             "linecolor": "white",
             "minorgridcolor": "white",
             "startlinecolor": "#2a3f5f"
            },
            "baxis": {
             "endlinecolor": "#2a3f5f",
             "gridcolor": "white",
             "linecolor": "white",
             "minorgridcolor": "white",
             "startlinecolor": "#2a3f5f"
            },
            "type": "carpet"
           }
          ],
          "choropleth": [
           {
            "colorbar": {
             "outlinewidth": 0,
             "ticks": ""
            },
            "type": "choropleth"
           }
          ],
          "contour": [
           {
            "colorbar": {
             "outlinewidth": 0,
             "ticks": ""
            },
            "colorscale": [
             [
              0,
              "#0d0887"
             ],
             [
              0.1111111111111111,
              "#46039f"
             ],
             [
              0.2222222222222222,
              "#7201a8"
             ],
             [
              0.3333333333333333,
              "#9c179e"
             ],
             [
              0.4444444444444444,
              "#bd3786"
             ],
             [
              0.5555555555555556,
              "#d8576b"
             ],
             [
              0.6666666666666666,
              "#ed7953"
             ],
             [
              0.7777777777777778,
              "#fb9f3a"
             ],
             [
              0.8888888888888888,
              "#fdca26"
             ],
             [
              1,
              "#f0f921"
             ]
            ],
            "type": "contour"
           }
          ],
          "contourcarpet": [
           {
            "colorbar": {
             "outlinewidth": 0,
             "ticks": ""
            },
            "type": "contourcarpet"
           }
          ],
          "heatmap": [
           {
            "colorbar": {
             "outlinewidth": 0,
             "ticks": ""
            },
            "colorscale": [
             [
              0,
              "#0d0887"
             ],
             [
              0.1111111111111111,
              "#46039f"
             ],
             [
              0.2222222222222222,
              "#7201a8"
             ],
             [
              0.3333333333333333,
              "#9c179e"
             ],
             [
              0.4444444444444444,
              "#bd3786"
             ],
             [
              0.5555555555555556,
              "#d8576b"
             ],
             [
              0.6666666666666666,
              "#ed7953"
             ],
             [
              0.7777777777777778,
              "#fb9f3a"
             ],
             [
              0.8888888888888888,
              "#fdca26"
             ],
             [
              1,
              "#f0f921"
             ]
            ],
            "type": "heatmap"
           }
          ],
          "histogram": [
           {
            "marker": {
             "pattern": {
              "fillmode": "overlay",
              "size": 10,
              "solidity": 0.2
             }
            },
            "type": "histogram"
           }
          ],
          "histogram2d": [
           {
            "colorbar": {
             "outlinewidth": 0,
             "ticks": ""
            },
            "colorscale": [
             [
              0,
              "#0d0887"
             ],
             [
              0.1111111111111111,
              "#46039f"
             ],
             [
              0.2222222222222222,
              "#7201a8"
             ],
             [
              0.3333333333333333,
              "#9c179e"
             ],
             [
              0.4444444444444444,
              "#bd3786"
             ],
             [
              0.5555555555555556,
              "#d8576b"
             ],
             [
              0.6666666666666666,
              "#ed7953"
             ],
             [
              0.7777777777777778,
              "#fb9f3a"
             ],
             [
              0.8888888888888888,
              "#fdca26"
             ],
             [
              1,
              "#f0f921"
             ]
            ],
            "type": "histogram2d"
           }
          ],
          "histogram2dcontour": [
           {
            "colorbar": {
             "outlinewidth": 0,
             "ticks": ""
            },
            "colorscale": [
             [
              0,
              "#0d0887"
             ],
             [
              0.1111111111111111,
              "#46039f"
             ],
             [
              0.2222222222222222,
              "#7201a8"
             ],
             [
              0.3333333333333333,
              "#9c179e"
             ],
             [
              0.4444444444444444,
              "#bd3786"
             ],
             [
              0.5555555555555556,
              "#d8576b"
             ],
             [
              0.6666666666666666,
              "#ed7953"
             ],
             [
              0.7777777777777778,
              "#fb9f3a"
             ],
             [
              0.8888888888888888,
              "#fdca26"
             ],
             [
              1,
              "#f0f921"
             ]
            ],
            "type": "histogram2dcontour"
           }
          ],
          "mesh3d": [
           {
            "colorbar": {
             "outlinewidth": 0,
             "ticks": ""
            },
            "type": "mesh3d"
           }
          ],
          "parcoords": [
           {
            "line": {
             "colorbar": {
              "outlinewidth": 0,
              "ticks": ""
             }
            },
            "type": "parcoords"
           }
          ],
          "pie": [
           {
            "automargin": true,
            "type": "pie"
           }
          ],
          "scatter": [
           {
            "fillpattern": {
             "fillmode": "overlay",
             "size": 10,
             "solidity": 0.2
            },
            "type": "scatter"
           }
          ],
          "scatter3d": [
           {
            "line": {
             "colorbar": {
              "outlinewidth": 0,
              "ticks": ""
             }
            },
            "marker": {
             "colorbar": {
              "outlinewidth": 0,
              "ticks": ""
             }
            },
            "type": "scatter3d"
           }
          ],
          "scattercarpet": [
           {
            "marker": {
             "colorbar": {
              "outlinewidth": 0,
              "ticks": ""
             }
            },
            "type": "scattercarpet"
           }
          ],
          "scattergeo": [
           {
            "marker": {
             "colorbar": {
              "outlinewidth": 0,
              "ticks": ""
             }
            },
            "type": "scattergeo"
           }
          ],
          "scattergl": [
           {
            "marker": {
             "colorbar": {
              "outlinewidth": 0,
              "ticks": ""
             }
            },
            "type": "scattergl"
           }
          ],
          "scattermap": [
           {
            "marker": {
             "colorbar": {
              "outlinewidth": 0,
              "ticks": ""
             }
            },
            "type": "scattermap"
           }
          ],
          "scattermapbox": [
           {
            "marker": {
             "colorbar": {
              "outlinewidth": 0,
              "ticks": ""
             }
            },
            "type": "scattermapbox"
           }
          ],
          "scatterpolar": [
           {
            "marker": {
             "colorbar": {
              "outlinewidth": 0,
              "ticks": ""
             }
            },
            "type": "scatterpolar"
           }
          ],
          "scatterpolargl": [
           {
            "marker": {
             "colorbar": {
              "outlinewidth": 0,
              "ticks": ""
             }
            },
            "type": "scatterpolargl"
           }
          ],
          "scatterternary": [
           {
            "marker": {
             "colorbar": {
              "outlinewidth": 0,
              "ticks": ""
             }
            },
            "type": "scatterternary"
           }
          ],
          "surface": [
           {
            "colorbar": {
             "outlinewidth": 0,
             "ticks": ""
            },
            "colorscale": [
             [
              0,
              "#0d0887"
             ],
             [
              0.1111111111111111,
              "#46039f"
             ],
             [
              0.2222222222222222,
              "#7201a8"
             ],
             [
              0.3333333333333333,
              "#9c179e"
             ],
             [
              0.4444444444444444,
              "#bd3786"
             ],
             [
              0.5555555555555556,
              "#d8576b"
             ],
             [
              0.6666666666666666,
              "#ed7953"
             ],
             [
              0.7777777777777778,
              "#fb9f3a"
             ],
             [
              0.8888888888888888,
              "#fdca26"
             ],
             [
              1,
              "#f0f921"
             ]
            ],
            "type": "surface"
           }
          ],
          "table": [
           {
            "cells": {
             "fill": {
              "color": "#EBF0F8"
             },
             "line": {
              "color": "white"
             }
            },
            "header": {
             "fill": {
              "color": "#C8D4E3"
             },
             "line": {
              "color": "white"
             }
            },
            "type": "table"
           }
          ]
         },
         "layout": {
          "annotationdefaults": {
           "arrowcolor": "#2a3f5f",
           "arrowhead": 0,
           "arrowwidth": 1
          },
          "autotypenumbers": "strict",
          "coloraxis": {
           "colorbar": {
            "outlinewidth": 0,
            "ticks": ""
           }
          },
          "colorscale": {
           "diverging": [
            [
             0,
             "#8e0152"
            ],
            [
             0.1,
             "#c51b7d"
            ],
            [
             0.2,
             "#de77ae"
            ],
            [
             0.3,
             "#f1b6da"
            ],
            [
             0.4,
             "#fde0ef"
            ],
            [
             0.5,
             "#f7f7f7"
            ],
            [
             0.6,
             "#e6f5d0"
            ],
            [
             0.7,
             "#b8e186"
            ],
            [
             0.8,
             "#7fbc41"
            ],
            [
             0.9,
             "#4d9221"
            ],
            [
             1,
             "#276419"
            ]
           ],
           "sequential": [
            [
             0,
             "#0d0887"
            ],
            [
             0.1111111111111111,
             "#46039f"
            ],
            [
             0.2222222222222222,
             "#7201a8"
            ],
            [
             0.3333333333333333,
             "#9c179e"
            ],
            [
             0.4444444444444444,
             "#bd3786"
            ],
            [
             0.5555555555555556,
             "#d8576b"
            ],
            [
             0.6666666666666666,
             "#ed7953"
            ],
            [
             0.7777777777777778,
             "#fb9f3a"
            ],
            [
             0.8888888888888888,
             "#fdca26"
            ],
            [
             1,
             "#f0f921"
            ]
           ],
           "sequentialminus": [
            [
             0,
             "#0d0887"
            ],
            [
             0.1111111111111111,
             "#46039f"
            ],
            [
             0.2222222222222222,
             "#7201a8"
            ],
            [
             0.3333333333333333,
             "#9c179e"
            ],
            [
             0.4444444444444444,
             "#bd3786"
            ],
            [
             0.5555555555555556,
             "#d8576b"
            ],
            [
             0.6666666666666666,
             "#ed7953"
            ],
            [
             0.7777777777777778,
             "#fb9f3a"
            ],
            [
             0.8888888888888888,
             "#fdca26"
            ],
            [
             1,
             "#f0f921"
            ]
           ]
          },
          "colorway": [
           "#636efa",
           "#EF553B",
           "#00cc96",
           "#ab63fa",
           "#FFA15A",
           "#19d3f3",
           "#FF6692",
           "#B6E880",
           "#FF97FF",
           "#FECB52"
          ],
          "font": {
           "color": "#2a3f5f"
          },
          "geo": {
           "bgcolor": "white",
           "lakecolor": "white",
           "landcolor": "#E5ECF6",
           "showlakes": true,
           "showland": true,
           "subunitcolor": "white"
          },
          "hoverlabel": {
           "align": "left"
          },
          "hovermode": "closest",
          "mapbox": {
           "style": "light"
          },
          "paper_bgcolor": "white",
          "plot_bgcolor": "#E5ECF6",
          "polar": {
           "angularaxis": {
            "gridcolor": "white",
            "linecolor": "white",
            "ticks": ""
           },
           "bgcolor": "#E5ECF6",
           "radialaxis": {
            "gridcolor": "white",
            "linecolor": "white",
            "ticks": ""
           }
          },
          "scene": {
           "xaxis": {
            "backgroundcolor": "#E5ECF6",
            "gridcolor": "white",
            "gridwidth": 2,
            "linecolor": "white",
            "showbackground": true,
            "ticks": "",
            "zerolinecolor": "white"
           },
           "yaxis": {
            "backgroundcolor": "#E5ECF6",
            "gridcolor": "white",
            "gridwidth": 2,
            "linecolor": "white",
            "showbackground": true,
            "ticks": "",
            "zerolinecolor": "white"
           },
           "zaxis": {
            "backgroundcolor": "#E5ECF6",
            "gridcolor": "white",
            "gridwidth": 2,
            "linecolor": "white",
            "showbackground": true,
            "ticks": "",
            "zerolinecolor": "white"
           }
          },
          "shapedefaults": {
           "line": {
            "color": "#2a3f5f"
           }
          },
          "ternary": {
           "aaxis": {
            "gridcolor": "white",
            "linecolor": "white",
            "ticks": ""
           },
           "baxis": {
            "gridcolor": "white",
            "linecolor": "white",
            "ticks": ""
           },
           "bgcolor": "#E5ECF6",
           "caxis": {
            "gridcolor": "white",
            "linecolor": "white",
            "ticks": ""
           }
          },
          "title": {
           "x": 0.05
          },
          "xaxis": {
           "automargin": true,
           "gridcolor": "white",
           "linecolor": "white",
           "ticks": "",
           "title": {
            "standoff": 15
           },
           "zerolinecolor": "white",
           "zerolinewidth": 2
          },
          "yaxis": {
           "automargin": true,
           "gridcolor": "white",
           "linecolor": "white",
           "ticks": "",
           "title": {
            "standoff": 15
           },
           "zerolinecolor": "white",
           "zerolinewidth": 2
          }
         }
        },
        "title": {
         "text": "UTS after imputation"
        },
        "xaxis": {
         "anchor": "y",
         "domain": [
          0,
          1
         ],
         "title": {
          "text": "UTS_MPa"
         }
        },
        "yaxis": {
         "anchor": "x",
         "domain": [
          0,
          1
         ],
         "title": {
          "text": "count"
         }
        }
       }
      }
     },
     "metadata": {},
     "output_type": "display_data"
    }
   ],
   "source": [
    "#uts before imputation :\n",
    "px.histogram(df, x=\"UTS_MPa\", nbins=30, title=\"UTS before imputation\").show()\n",
    "\n",
    "num_cols = df.select_dtypes(include=[np.number]).columns\n",
    "cat_cols = df.select_dtypes(exclude=[np.number]).columns\n",
    "\n",
    "knn = KNNImputer(n_neighbors=5)\n",
    "df[num_cols] = knn.fit_transform(df[num_cols])\n",
    "\n",
    "pipeline = Pipeline([\n",
    "    ('scaler', StandardScaler()),\n",
    "    ('imputer', KNNImputer(n_neighbors=5))\n",
    "])\n",
    "df[num_cols] = pipeline.fit_transform(df[num_cols])\n",
    "\n",
    "for col in cat_cols:\n",
    "    df[col] = df[col].fillna(df[col].mode()[0])\n",
    "\n",
    "print(df.isna().sum().sum())\n",
    "px.histogram(df, x=\"UTS_MPa\", nbins=30, title=\"UTS after imputation\").show()"
   ]
  }
 ],
 "metadata": {
  "kernelspec": {
   "display_name": "3.12.6",
   "language": "python",
   "name": "python3"
  },
  "language_info": {
   "codemirror_mode": {
    "name": "ipython",
    "version": 3
   },
   "file_extension": ".py",
   "mimetype": "text/x-python",
   "name": "python",
   "nbconvert_exporter": "python",
   "pygments_lexer": "ipython3",
   "version": "3.12.6"
  }
 },
 "nbformat": 4,
 "nbformat_minor": 2
}
